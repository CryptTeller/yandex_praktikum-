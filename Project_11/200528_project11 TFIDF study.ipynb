{
 "cells": [
  {
   "cell_type": "markdown",
   "metadata": {},
   "source": [
    "Интернет-магазин «Викишоп» запускает новый сервис. Теперь пользователи могут редактировать и дополнять описания товаров, как в вики-сообществах. То есть клиенты предлагают свои правки и комментируют изменения других. Магазину нужен инструмент, который будет искать токсичные комментарии и отправлять их на модерацию. \n",
    "\n",
    "Обучите модель классифицировать комментарии на позитивные и негативные. В вашем распоряжении набор данных с разметкой о токсичности правок.\n",
    "\n",
    "Постройте модель со значением метрики качества *F1* не меньше 0.75. \n",
    "\n",
    "### Инструкция по выполнению проекта\n",
    "\n",
    "1. Загрузите и подготовьте данные.\n",
    "2. Обучите разные модели. \n",
    "3. Сделайте выводы.\n",
    "\n",
    "Для выполнения проекта применять *BERT* необязательно, но вы можете попробовать.\n",
    "\n",
    "### Описание данных\n",
    "\n",
    "Данные находятся в файле `toxic_comments.csv`. Столбец *text* в нём содержит текст комментария, а *toxic* — целевой признак."
   ]
  },
  {
   "cell_type": "markdown",
   "metadata": {},
   "source": [
    "# 1. Подготовка"
   ]
  },
  {
   "cell_type": "code",
   "execution_count": 1,
   "metadata": {},
   "outputs": [
    {
     "name": "stderr",
     "output_type": "stream",
     "text": [
      "[nltk_data] Downloading package stopwords to\n",
      "[nltk_data]     C:\\Users\\ivan\\AppData\\Roaming\\nltk_data...\n",
      "[nltk_data]   Package stopwords is already up-to-date!\n"
     ]
    }
   ],
   "source": [
    "import pandas as pd\n",
    "import numpy as np\n",
    "import pymystem3 as Mystem\n",
    "import xgboost as xgb\n",
    "import nltk\n",
    "nltk.download('stopwords')\n",
    "#nltk.download('wordnet')\n",
    "from nltk.corpus import stopwords as nltk_stopwords\n",
    "from sklearn.feature_extraction.text import TfidfVectorizer \n",
    "from sklearn.model_selection import train_test_split\n",
    "from sklearn.linear_model import LogisticRegression\n",
    "from sklearn.model_selection import cross_val_score\n",
    "from sklearn.feature_selection import SelectKBest , chi2\n",
    "from sklearn.model_selection import KFold\n",
    "from sklearn.model_selection import RandomizedSearchCV , GridSearchCV\n",
    "\n",
    "from sklearn.metrics import f1_score\n",
    "from sklearn.pipeline import Pipeline\n",
    "from scipy.stats import uniform, randint\n",
    "import os\n",
    "import re\n",
    "import spacy\n",
    "from spacy.lemmatizer import Lemmatizer\n",
    "from spacy.lookups import Lookups\n",
    "\n"
   ]
  },
  {
   "cell_type": "code",
   "execution_count": 2,
   "metadata": {},
   "outputs": [],
   "source": [
    "# Места расположения папок с моделью BERT и исходными данными\n",
    "DATA_PATH = \"C:\\\\Users\\ivan\\\\YandexDisk\\\\DS\\\\Project_11\""
   ]
  },
  {
   "cell_type": "code",
   "execution_count": 9,
   "metadata": {},
   "outputs": [],
   "source": [
    "df_text = pd.read_csv(os.path.join(DATA_PATH,'toxic_comments.csv'))\n",
    "df_text = df_text[:100]\n",
    "# Делим текст тестовую\n",
    "#df_text = df_text[:300]\n"
   ]
  },
  {
   "cell_type": "code",
   "execution_count": 4,
   "metadata": {},
   "outputs": [
    {
     "data": {
      "text/html": [
       "<div>\n",
       "<style scoped>\n",
       "    .dataframe tbody tr th:only-of-type {\n",
       "        vertical-align: middle;\n",
       "    }\n",
       "\n",
       "    .dataframe tbody tr th {\n",
       "        vertical-align: top;\n",
       "    }\n",
       "\n",
       "    .dataframe thead th {\n",
       "        text-align: right;\n",
       "    }\n",
       "</style>\n",
       "<table border=\"1\" class=\"dataframe\">\n",
       "  <thead>\n",
       "    <tr style=\"text-align: right;\">\n",
       "      <th></th>\n",
       "      <th>text</th>\n",
       "      <th>toxic</th>\n",
       "    </tr>\n",
       "  </thead>\n",
       "  <tbody>\n",
       "    <tr>\n",
       "      <td>0</td>\n",
       "      <td>Explanation\\nWhy the edits made under my usern...</td>\n",
       "      <td>0</td>\n",
       "    </tr>\n",
       "    <tr>\n",
       "      <td>1</td>\n",
       "      <td>D'aww! He matches this background colour I'm s...</td>\n",
       "      <td>0</td>\n",
       "    </tr>\n",
       "    <tr>\n",
       "      <td>2</td>\n",
       "      <td>Hey man, I'm really not trying to edit war. It...</td>\n",
       "      <td>0</td>\n",
       "    </tr>\n",
       "    <tr>\n",
       "      <td>3</td>\n",
       "      <td>\"\\nMore\\nI can't make any real suggestions on ...</td>\n",
       "      <td>0</td>\n",
       "    </tr>\n",
       "    <tr>\n",
       "      <td>4</td>\n",
       "      <td>You, sir, are my hero. Any chance you remember...</td>\n",
       "      <td>0</td>\n",
       "    </tr>\n",
       "  </tbody>\n",
       "</table>\n",
       "</div>"
      ],
      "text/plain": [
       "                                                text  toxic\n",
       "0  Explanation\\nWhy the edits made under my usern...      0\n",
       "1  D'aww! He matches this background colour I'm s...      0\n",
       "2  Hey man, I'm really not trying to edit war. It...      0\n",
       "3  \"\\nMore\\nI can't make any real suggestions on ...      0\n",
       "4  You, sir, are my hero. Any chance you remember...      0"
      ]
     },
     "execution_count": 4,
     "metadata": {},
     "output_type": "execute_result"
    }
   ],
   "source": [
    "df_text.head()"
   ]
  },
  {
   "cell_type": "code",
   "execution_count": 5,
   "metadata": {},
   "outputs": [
    {
     "name": "stdout",
     "output_type": "stream",
     "text": [
      "Количество строк датасета 1000\n"
     ]
    }
   ],
   "source": [
    "print('Количество строк датасета', len(df_text))"
   ]
  },
  {
   "cell_type": "code",
   "execution_count": 6,
   "metadata": {},
   "outputs": [
    {
     "name": "stdout",
     "output_type": "stream",
     "text": [
      "Explanation\n",
      "Why the edits made under my username Hardcore Metallica Fan were reverted? They weren't vandalisms, just closure on some GAs after I voted at New York Dolls FAC. And please don't remove the template from the talk page since I'm retired now.89.205.38.27 \n",
      "\n",
      "Hey man, I'm really not trying to edit war. It's just that this guy is constantly removing relevant information and talking to me through edits instead of my talk page. He seems to care more about the formatting than the actual info. \n",
      "\n"
     ]
    }
   ],
   "source": [
    "# Проверим по некоторым сторокам какой там текст\n",
    "print(df_text['text'][0],'\\n')\n",
    "print(df_text['text'][2],'\\n')\n"
   ]
  },
  {
   "cell_type": "code",
   "execution_count": 7,
   "metadata": {},
   "outputs": [],
   "source": [
    "# Загружаем библиотеку\n",
    "nlp = spacy.load('en_core_web_sm', disable=['parser', 'ner'])\n",
    "\n",
    "# Делаем из текста леммы\n",
    "def text_prepare(row):\n",
    "    # выделяем текст из строки, преобразуем, выделяем лемму, удаляем лишние символы\n",
    "    text = row['text']   \n",
    "    doc = nlp(text)   \n",
    "    out_text= \" \".join([token.lemma_ for token in doc ])      \n",
    "    return re.sub('[^a-zA-Z]', ' ', out_text)"
   ]
  },
  {
   "cell_type": "code",
   "execution_count": 13,
   "metadata": {},
   "outputs": [],
   "source": [
    "# Векторизуем токены\n",
    "def vectorizer_func(data):\n",
    "    # Выделяем корпус с леммами\n",
    "    corpus = np.array(data.apply(text_prepare , axis=1)).astype('U')\n",
    "    \n",
    "    stopwords = set(nltk_stopwords.words('english'))\n",
    "    target = data['toxic']\n",
    "    \n",
    "    # Делим корпус текста на train и test\n",
    "    X_train , X_test , y_train , y_test  = train_test_split(corpus , target , test_size = 0.4 , random_state = 12)    \n",
    "    \n",
    "    \n",
    "    vectorizer = TfidfVectorizer(stop_words = stopwords , ngram_range=(1,2))\n",
    "    vect_tf_idf_train = vectorizer.fit_transform(X_train)\n",
    "    vect_tf_idf_test = vectorizer.transform(X_test)\n",
    "    return {'X_train':vect_tf_idf_train, \n",
    "            'X_test': vect_tf_idf_test , \n",
    "            'y_train': y_train , \n",
    "            'y_test': y_test }\n"
   ]
  },
  {
   "cell_type": "code",
   "execution_count": 14,
   "metadata": {},
   "outputs": [
    {
     "data": {
      "text/plain": [
       "<60x3195 sparse matrix of type '<class 'numpy.float64'>'\n",
       "\twith 3988 stored elements in Compressed Sparse Row format>"
      ]
     },
     "execution_count": 14,
     "metadata": {},
     "output_type": "execute_result"
    }
   ],
   "source": [
    "vectorizer_func(df_text)"
   ]
  },
  {
   "cell_type": "code",
   "execution_count": null,
   "metadata": {},
   "outputs": [],
   "source": [
    "df_corpus = pd.DataFrame(data = corpus , columns = ['lemma_text'])\n",
    "df = pd.concat([df_text , df_corpus] , axis = 1)\n",
    "df.to_csv('dataframe_with_lemma.csv')"
   ]
  },
  {
   "cell_type": "code",
   "execution_count": 4,
   "metadata": {},
   "outputs": [
    {
     "data": {
      "text/plain": [
       "(159571,)"
      ]
     },
     "execution_count": 4,
     "metadata": {},
     "output_type": "execute_result"
    }
   ],
   "source": [
    "corpus = pd.read_csv(DATA_PATH +'\\dataframe_with_lemma.csv' )\n",
    "corpus = corpus['lemma_text'].values\n",
    "corpus.shape"
   ]
  },
  {
   "cell_type": "code",
   "execution_count": 3,
   "metadata": {},
   "outputs": [],
   "source": [
    "df_text =  pd.read_csv(DATA_PATH +'\\dataframe_with_lemma.csv' )"
   ]
  },
  {
   "cell_type": "code",
   "execution_count": 4,
   "metadata": {},
   "outputs": [],
   "source": [
    "# Векторизуем токены\n",
    "def vectorizer_func(corpus):\n",
    "    # Выделяем корпус с леммами\n",
    "    #corpus = np.array(data.apply(text_prepare , axis=1)).astype('U')\n",
    "    \n",
    "    stopwords = set(nltk_stopwords.words('english'))\n",
    "    target = df_text['toxic']\n",
    "    \n",
    "    # Делим корпус текста на train и test\n",
    "    X_train , X_test , y_train , y_test  = train_test_split(corpus , target , test_size = 0.3 , random_state = 12)    \n",
    "    \n",
    "    \n",
    "    vectorizer = TfidfVectorizer(stop_words = stopwords , ngram_range=(1,3) )\n",
    "    vect_tf_idf_train = vectorizer.fit_transform(X_train)\n",
    "    vect_tf_idf_test = vectorizer.transform(X_test)\n",
    "    return {'X_train':vect_tf_idf_train, \n",
    "            'X_test': vect_tf_idf_test , \n",
    "            'y_train': y_train , \n",
    "            'y_test': y_test }"
   ]
  },
  {
   "cell_type": "code",
   "execution_count": null,
   "metadata": {},
   "outputs": [],
   "source": []
  },
  {
   "cell_type": "markdown",
   "metadata": {},
   "source": [
    "# 2. Обучение"
   ]
  },
  {
   "cell_type": "code",
   "execution_count": 5,
   "metadata": {},
   "outputs": [
    {
     "name": "stdout",
     "output_type": "stream",
     "text": [
      "Wall time: 49.6 s\n"
     ]
    }
   ],
   "source": [
    "%%time\n",
    "# Записываем признаки и таргеты в переменные\n",
    "train_dict = vectorizer_func(df_text['lemma_text'])\n",
    "\n"
   ]
  },
  {
   "cell_type": "code",
   "execution_count": 6,
   "metadata": {},
   "outputs": [],
   "source": [
    "X_train = train_dict['X_train']\n",
    "X_test = train_dict['X_test']\n",
    "y_train = train_dict['y_train']\n",
    "y_test = train_dict['y_test']"
   ]
  },
  {
   "cell_type": "code",
   "execution_count": 7,
   "metadata": {},
   "outputs": [
    {
     "data": {
      "text/plain": [
       "((111699, 4671793), (47872, 4671793), (111699,), (47872,))"
      ]
     },
     "execution_count": 7,
     "metadata": {},
     "output_type": "execute_result"
    }
   ],
   "source": [
    "X_train.shape, X_test.shape, y_train.shape, y_test.shape"
   ]
  },
  {
   "cell_type": "markdown",
   "metadata": {},
   "source": [
    "### Logistic regression CV"
   ]
  },
  {
   "cell_type": "markdown",
   "metadata": {},
   "source": [
    "#### default parameters"
   ]
  },
  {
   "cell_type": "code",
   "execution_count": 77,
   "metadata": {},
   "outputs": [
    {
     "name": "stdout",
     "output_type": "stream",
     "text": [
      "Wall time: 2min 6s\n"
     ]
    }
   ],
   "source": [
    "%%time\n",
    "# Загружаем модель и считаем f1 на кроссвалидации\n",
    "lr_model = LogisticRegression(class_weight = 'balanced' ,  random_state = 12, C=1 , max_iter = 500)\n",
    "\n",
    "# Выбираем лучшие признаки\n",
    "selector = SelectKBest(chi2, k=50000)\n",
    "\n",
    "\n",
    "clf_selected = make_pipeline(selector , lr_model)\n",
    "scores = cross_val_score(clf_selected , X_train , y_train , scoring ='f1' , cv = 6)"
   ]
  },
  {
   "cell_type": "code",
   "execution_count": 78,
   "metadata": {},
   "outputs": [
    {
     "name": "stdout",
     "output_type": "stream",
     "text": [
      "Logistic regression Cross validation F1, default parameters: 0.7626201090888548\n"
     ]
    }
   ],
   "source": [
    "print('Logistic regression Cross validation F1, default parameters:', scores.mean())"
   ]
  },
  {
   "cell_type": "markdown",
   "metadata": {},
   "source": [
    "#### Parameters tuning"
   ]
  },
  {
   "cell_type": "code",
   "execution_count": 75,
   "metadata": {},
   "outputs": [
    {
     "name": "stdout",
     "output_type": "stream",
     "text": [
      "Wall time: 22min 31s\n"
     ]
    }
   ],
   "source": [
    "%%time\n",
    "lr_model = LogisticRegression(solver='lbfgs', \n",
    "                             # tol=1e-2, \n",
    "                              max_iter=500,\n",
    "                              class_weight = 'balanced' ,\n",
    "                              random_state = 12)\n",
    "# параметры для поиска\n",
    "distributions = {'lr_model__C':range(10,32,2) ,\n",
    "                'selector__k':[50000 , 75000 , 100000]}\n",
    "\n",
    "# Выбираем лучшие признаки\n",
    "selector = SelectKBest(chi2)\n",
    "\n",
    "clf_selected = Pipeline([('selector' , selector) , ('lr_model' , lr_model)])\n",
    "\n",
    "clf = RandomizedSearchCV(clf_selected, distributions , random_state=12 , cv = 5 , scoring ='f1')\n",
    "search = clf.fit(X_train, y_train)\n"
   ]
  },
  {
   "cell_type": "code",
   "execution_count": 76,
   "metadata": {},
   "outputs": [
    {
     "data": {
      "text/plain": [
       "({'selector__k': 75000, 'lr_model__C': 26}, 0.7690147378311532)"
      ]
     },
     "execution_count": 76,
     "metadata": {},
     "output_type": "execute_result"
    }
   ],
   "source": [
    "print(\"Лучшие параметры:\")\n",
    "print(search.best_params_ )\n",
    "print()\n",
    "\n",
    "print(\"Лучший F1:\")\n",
    "print(search.best_score_)"
   ]
  },
  {
   "cell_type": "code",
   "execution_count": null,
   "metadata": {},
   "outputs": [],
   "source": [
    "# Сохраняем лучшую модель  и параметры\n",
    "best_lr_model = search.best_estimator_\n",
    "\n",
    "best_lr_params = search.best_params_ "
   ]
  },
  {
   "cell_type": "markdown",
   "metadata": {},
   "source": [
    "### XGBoost CV"
   ]
  },
  {
   "cell_type": "markdown",
   "metadata": {},
   "source": [
    "#### default parameters"
   ]
  },
  {
   "cell_type": "code",
   "execution_count": 14,
   "metadata": {},
   "outputs": [],
   "source": [
    "# Записываем данные\n",
    "dtrain = xgb.DMatrix(X_train, label= y_train)\n",
    "dtest  = xgb.DMatrix(X_test, label= y_test)\n"
   ]
  },
  {
   "cell_type": "code",
   "execution_count": 9,
   "metadata": {},
   "outputs": [],
   "source": [
    "param = {'max_depth': 5, 'learning_rate': 1 }\n"
   ]
  },
  {
   "cell_type": "code",
   "execution_count": 25,
   "metadata": {
    "scrolled": true
   },
   "outputs": [],
   "source": [
    "# Загружаем модель , отбираем признаки\n",
    "xgb_model = xgb.XGBClassifier( random_state=12)\n",
    "selector = SelectKBest(chi2, k=10000)\n",
    "\n",
    "clf_selected = Pipeline([('selector', selector) , ('xgb_model' , xgb_model)])\n",
    "\n",
    "scores = cross_val_score(clf_selected , X_train , y_train , scoring ='f1' , cv = 5)"
   ]
  },
  {
   "cell_type": "code",
   "execution_count": 26,
   "metadata": {},
   "outputs": [
    {
     "name": "stdout",
     "output_type": "stream",
     "text": [
      "XGBoost Cross validation F1, default parameters: 0.7262231672170852\n"
     ]
    }
   ],
   "source": [
    "print('XGBoost Cross validation F1, default parameters:', scores.mean())"
   ]
  },
  {
   "cell_type": "markdown",
   "metadata": {},
   "source": [
    "#### Parameters search"
   ]
  },
  {
   "cell_type": "code",
   "execution_count": null,
   "metadata": {},
   "outputs": [],
   "source": [
    "%%time \n",
    "xgb_model = xgb.XGBClassifier(random_state=12)\n",
    "\n",
    "# Параметры для поиска\n",
    "param_grid = {'xgb_model__max_depth': [ 20 , 30, 40],\n",
    "              'xgb_model__learning_rate': [0.2, 0.3, 0.4 ],\n",
    "             #'subsample': [0.5, 0.6, 0.7, 0.8, 0.9, 1.0],\n",
    "             #'colsample_bytree': [0.4, 0.5, 0.6, 0.7, 0.8, 0.9, 1.0],\n",
    "             #'colsample_bylevel': [0.4, 0.5, 0.6, 0.7, 0.8, 0.9, 1.0],\n",
    "             #'min_child_weight': [0.5, 1.0, 3.0, 5.0, 7.0, 10.0],\n",
    "             'xgb_model__gamma': [ 0.5, 1.0 , 1.5],\n",
    "             #'reg_lambda': [0.1, 1.0, 5.0, 10.0, 50.0, 100.0],\n",
    "              'xgb_model__n_estimators': [150 , 200, 230] , \n",
    "             'selector__k': [75000 , 85000 , 100000]}\n",
    "\n",
    "# Выбираем признаки, \n",
    "selector = SelectKBest(chi2)\n",
    "xgb_selected =Pipeline([('selector' , selector) , ('xgb_model' , xgb_model)])\n",
    "\n",
    "xgb_search = RandomizedSearchCV(xgb_selected, param_grid, n_iter=10,\n",
    "                            n_jobs=-1, cv=4,\n",
    "                            scoring='f1', refit=True, random_state=12 , verbose = 2)\n",
    "xgb_search.fit(X_train , y_train)"
   ]
  },
  {
   "cell_type": "code",
   "execution_count": null,
   "metadata": {},
   "outputs": [],
   "source": [
    "xgb_search.cv_results_"
   ]
  },
  {
   "cell_type": "code",
   "execution_count": 9,
   "metadata": {},
   "outputs": [
    {
     "name": "stdout",
     "output_type": "stream",
     "text": [
      "Лучшие параметры:\n",
      "{'xgb_model__n_estimators': 150, 'xgb_model__max_depth': 20, 'xgb_model__learning_rate': 0.2, 'xgb_model__gamma': 1.5, 'selector__k': 75000}\n",
      "\n",
      "Лучший F1:\n",
      "0.7575270360431507\n"
     ]
    }
   ],
   "source": [
    "print(\"Лучшие параметры:\")\n",
    "print(xgb_search.best_params_ )\n",
    "print()\n",
    "\n",
    "print(\"Лучший F1:\")\n",
    "print(xgb_search .best_score_)"
   ]
  },
  {
   "cell_type": "code",
   "execution_count": 10,
   "metadata": {},
   "outputs": [],
   "source": [
    "# Сохраняем лучшую модель и лучшие параметры\n",
    "best_xgb_model = xgb_search.best_estimator_\n",
    "\n",
    "best_xgb_params = xgb_search.best_params_"
   ]
  },
  {
   "cell_type": "markdown",
   "metadata": {},
   "source": [
    "### Logistic regression TEST"
   ]
  },
  {
   "cell_type": "code",
   "execution_count": 60,
   "metadata": {},
   "outputs": [],
   "source": [
    "# Определяем значения на тестовых данных на лучшей модели\n",
    "y_pred = best_lr_model.predict(X_test)\n"
   ]
  },
  {
   "cell_type": "code",
   "execution_count": 61,
   "metadata": {},
   "outputs": [
    {
     "data": {
      "text/plain": [
       "Pipeline(memory=None,\n",
       "         steps=[('selector',\n",
       "                 SelectKBest(k=50000,\n",
       "                             score_func=<function chi2 at 0x0000002F290B3948>)),\n",
       "                ('lr_model',\n",
       "                 LogisticRegression(C=20, class_weight='balanced', dual=False,\n",
       "                                    fit_intercept=True, intercept_scaling=1,\n",
       "                                    l1_ratio=None, max_iter=500,\n",
       "                                    multi_class='auto', n_jobs=None,\n",
       "                                    penalty='l2', random_state=12,\n",
       "                                    solver='lbfgs', tol=0.0001, verbose=0,\n",
       "                                    warm_start=False))],\n",
       "         verbose=False)"
      ]
     },
     "execution_count": 61,
     "metadata": {},
     "output_type": "execute_result"
    }
   ],
   "source": [
    "print('Logistic regression Test, F1:', f1_score(y_test , y_pred))"
   ]
  },
  {
   "cell_type": "markdown",
   "metadata": {},
   "source": [
    "### XGBoost TEST"
   ]
  },
  {
   "cell_type": "code",
   "execution_count": 11,
   "metadata": {},
   "outputs": [],
   "source": [
    "# Определяем значения на тестовых данных на лучшей модели\n",
    "y_pred = best_xgb_model.predict(X_test)"
   ]
  },
  {
   "cell_type": "code",
   "execution_count": 12,
   "metadata": {},
   "outputs": [
    {
     "name": "stdout",
     "output_type": "stream",
     "text": [
      "XGBoost Test, F1: 0.7824639289678136\n"
     ]
    }
   ],
   "source": [
    "print('XGBoost Test, F1-score:', f1_score(y_test , y_pred))"
   ]
  },
  {
   "cell_type": "code",
   "execution_count": null,
   "metadata": {},
   "outputs": [],
   "source": []
  },
  {
   "cell_type": "code",
   "execution_count": null,
   "metadata": {},
   "outputs": [],
   "source": []
  },
  {
   "cell_type": "code",
   "execution_count": null,
   "metadata": {},
   "outputs": [],
   "source": []
  },
  {
   "cell_type": "code",
   "execution_count": null,
   "metadata": {},
   "outputs": [],
   "source": []
  },
  {
   "cell_type": "code",
   "execution_count": null,
   "metadata": {},
   "outputs": [],
   "source": []
  },
  {
   "cell_type": "markdown",
   "metadata": {},
   "source": [
    "# 3. Выводы"
   ]
  },
  {
   "cell_type": "markdown",
   "metadata": {},
   "source": [
    "- Текст датасета лемматизирован библотекой spacy. С помощью регульрных выражений в строках оставлены только буквы и слова.\n",
    "- После лемматизации корпус текста преобразован в матрицу со значениями TfIdf. Для создания признаков были ипользованы униграммы, биграммы и триграммы. В дальнейшем будут отобраны лучшие признаки.\n",
    "- Для моделирования применены Logistic Regression и XFBoost. Рандомизированным поиском были определены оптимальные параметры моделей, а также оптимальное количество признаков. \n",
    "- На кроссвалидации с поиском параметров лучшие значения показала модель"
   ]
  },
  {
   "cell_type": "markdown",
   "metadata": {},
   "source": [
    "# Чек-лист проверки"
   ]
  },
  {
   "cell_type": "markdown",
   "metadata": {},
   "source": [
    "- [x]  Jupyter Notebook открыт\n",
    "- [ ]  Весь код выполняется без ошибок\n",
    "- [ ]  Ячейки с кодом расположены в порядке исполнения\n",
    "- [ ]  Данные загружены и подготовлены\n",
    "- [ ]  Модели обучены\n",
    "- [ ]  Значение метрики *F1* не меньше 0.75\n",
    "- [ ]  Выводы написаны"
   ]
  }
 ],
 "metadata": {
  "kernelspec": {
   "display_name": "Python 3",
   "language": "python",
   "name": "python3"
  },
  "language_info": {
   "codemirror_mode": {
    "name": "ipython",
    "version": 3
   },
   "file_extension": ".py",
   "mimetype": "text/x-python",
   "name": "python",
   "nbconvert_exporter": "python",
   "pygments_lexer": "ipython3",
   "version": "3.7.4"
  }
 },
 "nbformat": 4,
 "nbformat_minor": 2
}
