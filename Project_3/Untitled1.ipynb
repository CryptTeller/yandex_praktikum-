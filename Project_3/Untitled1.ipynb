{
 "cells": [
  {
   "cell_type": "code",
   "execution_count": 5,
   "metadata": {},
   "outputs": [],
   "source": [
    "import numpy as np\n",
    "a = np.array([2700, 2035, 2700, 2035, 2775, 2775, 2550, 2700, 2133, 2775, 2700,\n",
    "       2700, 2850, 2035, 2000, 2775, 2850, 2592, 2550, 2775, 2133, 2592,\n",
    "       2775, 2775, 2850, 2592, 2775, 2700, 2775, 2592, 2700, 2592])"
   ]
  },
  {
   "cell_type": "code",
   "execution_count": 6,
   "metadata": {},
   "outputs": [
    {
     "data": {
      "text/plain": [
       "array([14,  1,  3, 13,  8, 20,  6, 18, 31, 29, 25, 21, 17, 27, 30,  0, 11,\n",
       "       10,  7,  2, 19,  9, 22, 23,  5, 26,  4, 28, 15, 16, 24, 12],\n",
       "      dtype=int64)"
      ]
     },
     "execution_count": 6,
     "metadata": {},
     "output_type": "execute_result"
    }
   ],
   "source": [
    "np.argsort(a )"
   ]
  },
  {
   "cell_type": "code",
   "execution_count": null,
   "metadata": {},
   "outputs": [],
   "source": []
  }
 ],
 "metadata": {
  "kernelspec": {
   "display_name": "Python 3",
   "language": "python",
   "name": "python3"
  },
  "language_info": {
   "codemirror_mode": {
    "name": "ipython",
    "version": 3
   },
   "file_extension": ".py",
   "mimetype": "text/x-python",
   "name": "python",
   "nbconvert_exporter": "python",
   "pygments_lexer": "ipython3",
   "version": "3.7.4"
  }
 },
 "nbformat": 4,
 "nbformat_minor": 2
}
