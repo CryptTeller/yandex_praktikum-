{
 "cells": [
  {
   "cell_type": "markdown",
   "metadata": {},
   "source": [
    "# Комментарий от ревьюера\n",
    "\n",
    "~~Иван, добрый день! Меня зовут Влада, я посмотрела твой проект — в целом, неплохо, но есть некоторые ошибки. Ниже в файле ты найдешь мои комментарии: <font color='green'>зеленый цвет — «все отлично»; </font> <font color='blue'>синий — «хорошо, но можно лучше»; </font> <font color='red'>красный — «нужно исправить».</font> Комментарии в самом коде я отделяю знаками «###».~~\n",
    "\n",
    "~~Иван, спасибо! Осталось всего одно замечание. Комментарии выделены цветом, как раньше.~~\n",
    "\n",
    "Спасибо за доработки! Иван, теперь все в порядке :)"
   ]
  },
  {
   "cell_type": "markdown",
   "metadata": {},
   "source": [
    "# Комментарий от ученика\n",
    "1. Влада, добрый день! \n",
    "Внес исправления в соответствии с замечаниями. Под красным текстом указал ответы.\n",
    "Но есть вопросы, они внизу. Заранее благодарен за ответы)\n",
    "\n",
    "2. Добрый день! Исправления внесены, вопросы написал ниже. ЗАранее благодарю за ответы."
   ]
  },
  {
   "cell_type": "markdown",
   "metadata": {},
   "source": [
    "# Описание проекта"
   ]
  },
  {
   "cell_type": "markdown",
   "metadata": {},
   "source": [
    "Допустим, вы работаете в добывающей компании «ГлавРосГосНефть». Нужно решить, где бурить новую скважину.\n",
    "\n",
    "Вам предоставлены пробы нефти в трёх регионах: в каждом 10 000 месторождений, где измерили качество нефти и объём её запасов. Постройте модель машинного обучения, которая поможет определить регион, где добыча принесёт наибольшую прибыль. Проанализируйте возможную прибыль и риски техникой *Bootstrap.*\n",
    "\n",
    "Шаги для выбора локации:\n",
    "\n",
    "- В избранном регионе ищут месторождения, для каждого определяют значения признаков;\n",
    "- Строят модель и оценивают объём запасов;\n",
    "- Выбирают месторождения с самым высокими оценками значений. Количество месторождений зависит от бюджета компании и стоимости разработки одной скважины;\n",
    "- Прибыль равна суммарной прибыли отобранных месторождений."
   ]
  },
  {
   "cell_type": "markdown",
   "metadata": {},
   "source": [
    "# 1. Загрузка и подготовка данных"
   ]
  },
  {
   "cell_type": "code",
   "execution_count": 20,
   "metadata": {},
   "outputs": [],
   "source": [
    "                             import numpy as np\n",
    "from numpy.random            import RandomState\n",
    "                             import pandas as pd\n",
    "                             import seaborn as sns\n",
    "                             import matplotlib.pyplot as plt\n",
    "                             import scipy as st\n",
    "from scipy.stats             import shapiro , normaltest\n",
    "from sklearn.model_selection import train_test_split\n",
    "\n",
    "from sklearn.linear_model    import LinearRegression\n",
    "from sklearn.tree            import DecisionTreeRegressor \n",
    "from sklearn.metrics         import mean_squared_error\n",
    "\n",
    "\n"
   ]
  },
  {
   "cell_type": "code",
   "execution_count": 21,
   "metadata": {},
   "outputs": [
    {
     "data": {
      "text/html": [
       "<div>\n",
       "<style scoped>\n",
       "    .dataframe tbody tr th:only-of-type {\n",
       "        vertical-align: middle;\n",
       "    }\n",
       "\n",
       "    .dataframe tbody tr th {\n",
       "        vertical-align: top;\n",
       "    }\n",
       "\n",
       "    .dataframe thead th {\n",
       "        text-align: right;\n",
       "    }\n",
       "</style>\n",
       "<table border=\"1\" class=\"dataframe\">\n",
       "  <thead>\n",
       "    <tr style=\"text-align: right;\">\n",
       "      <th></th>\n",
       "      <th>f0</th>\n",
       "      <th>f1</th>\n",
       "      <th>f2</th>\n",
       "      <th>product</th>\n",
       "    </tr>\n",
       "  </thead>\n",
       "  <tbody>\n",
       "    <tr>\n",
       "      <td>count</td>\n",
       "      <td>100000.000000</td>\n",
       "      <td>100000.000000</td>\n",
       "      <td>100000.000000</td>\n",
       "      <td>100000.000000</td>\n",
       "    </tr>\n",
       "    <tr>\n",
       "      <td>mean</td>\n",
       "      <td>0.500419</td>\n",
       "      <td>0.250143</td>\n",
       "      <td>2.502647</td>\n",
       "      <td>92.500000</td>\n",
       "    </tr>\n",
       "    <tr>\n",
       "      <td>std</td>\n",
       "      <td>0.871832</td>\n",
       "      <td>0.504433</td>\n",
       "      <td>3.248248</td>\n",
       "      <td>44.288691</td>\n",
       "    </tr>\n",
       "    <tr>\n",
       "      <td>min</td>\n",
       "      <td>-1.408605</td>\n",
       "      <td>-0.848218</td>\n",
       "      <td>-12.088328</td>\n",
       "      <td>0.000000</td>\n",
       "    </tr>\n",
       "    <tr>\n",
       "      <td>25%</td>\n",
       "      <td>-0.072580</td>\n",
       "      <td>-0.200881</td>\n",
       "      <td>0.287748</td>\n",
       "      <td>56.497507</td>\n",
       "    </tr>\n",
       "    <tr>\n",
       "      <td>50%</td>\n",
       "      <td>0.502360</td>\n",
       "      <td>0.250252</td>\n",
       "      <td>2.515969</td>\n",
       "      <td>91.849972</td>\n",
       "    </tr>\n",
       "    <tr>\n",
       "      <td>75%</td>\n",
       "      <td>1.073581</td>\n",
       "      <td>0.700646</td>\n",
       "      <td>4.715088</td>\n",
       "      <td>128.564089</td>\n",
       "    </tr>\n",
       "    <tr>\n",
       "      <td>max</td>\n",
       "      <td>2.362331</td>\n",
       "      <td>1.343769</td>\n",
       "      <td>16.003790</td>\n",
       "      <td>185.364347</td>\n",
       "    </tr>\n",
       "  </tbody>\n",
       "</table>\n",
       "</div>"
      ],
      "text/plain": [
       "                  f0             f1             f2        product\n",
       "count  100000.000000  100000.000000  100000.000000  100000.000000\n",
       "mean        0.500419       0.250143       2.502647      92.500000\n",
       "std         0.871832       0.504433       3.248248      44.288691\n",
       "min        -1.408605      -0.848218     -12.088328       0.000000\n",
       "25%        -0.072580      -0.200881       0.287748      56.497507\n",
       "50%         0.502360       0.250252       2.515969      91.849972\n",
       "75%         1.073581       0.700646       4.715088     128.564089\n",
       "max         2.362331       1.343769      16.003790     185.364347"
      ]
     },
     "execution_count": 21,
     "metadata": {},
     "output_type": "execute_result"
    }
   ],
   "source": [
    "# 1-й регион\n",
    "df_0 = pd.read_csv('/datasets/geo_data_0.csv')\n",
    "\n",
    "# Информация о выборке\n",
    "df_0.describe()"
   ]
  },
  {
   "cell_type": "code",
   "execution_count": 22,
   "metadata": {},
   "outputs": [
    {
     "data": {
      "image/png": "[encoded data removed]",
      "text/plain": [
       "<Figure size 432x288 with 1 Axes>"
      ]
     },
     "metadata": {
      "needs_background": "light"
     },
     "output_type": "display_data"
    }
   ],
   "source": [
    "ax=sns.distplot(df_0['product'] , bins = 15);\n",
    "ax.set_title('Распределение запасов нефти по региону 1' , fontdict = {'fontsize':15});"
   ]
  },
  {
   "cell_type": "code",
   "execution_count": 23,
   "metadata": {},
   "outputs": [
    {
     "data": {
      "text/html": [
       "<div>\n",
       "<style scoped>\n",
       "    .dataframe tbody tr th:only-of-type {\n",
       "        vertical-align: middle;\n",
       "    }\n",
       "\n",
       "    .dataframe tbody tr th {\n",
       "        vertical-align: top;\n",
       "    }\n",
       "\n",
       "    .dataframe thead th {\n",
       "        text-align: right;\n",
       "    }\n",
       "</style>\n",
       "<table border=\"1\" class=\"dataframe\">\n",
       "  <thead>\n",
       "    <tr style=\"text-align: right;\">\n",
       "      <th></th>\n",
       "      <th>f0</th>\n",
       "      <th>f1</th>\n",
       "      <th>f2</th>\n",
       "      <th>product</th>\n",
       "    </tr>\n",
       "  </thead>\n",
       "  <tbody>\n",
       "    <tr>\n",
       "      <td>count</td>\n",
       "      <td>100000.000000</td>\n",
       "      <td>100000.000000</td>\n",
       "      <td>100000.000000</td>\n",
       "      <td>100000.000000</td>\n",
       "    </tr>\n",
       "    <tr>\n",
       "      <td>mean</td>\n",
       "      <td>1.141296</td>\n",
       "      <td>-4.796579</td>\n",
       "      <td>2.494541</td>\n",
       "      <td>68.825000</td>\n",
       "    </tr>\n",
       "    <tr>\n",
       "      <td>std</td>\n",
       "      <td>8.965932</td>\n",
       "      <td>5.119872</td>\n",
       "      <td>1.703572</td>\n",
       "      <td>45.944423</td>\n",
       "    </tr>\n",
       "    <tr>\n",
       "      <td>min</td>\n",
       "      <td>-31.609576</td>\n",
       "      <td>-26.358598</td>\n",
       "      <td>-0.018144</td>\n",
       "      <td>0.000000</td>\n",
       "    </tr>\n",
       "    <tr>\n",
       "      <td>25%</td>\n",
       "      <td>-6.298551</td>\n",
       "      <td>-8.267985</td>\n",
       "      <td>1.000021</td>\n",
       "      <td>26.953261</td>\n",
       "    </tr>\n",
       "    <tr>\n",
       "      <td>50%</td>\n",
       "      <td>1.153055</td>\n",
       "      <td>-4.813172</td>\n",
       "      <td>2.011479</td>\n",
       "      <td>57.085625</td>\n",
       "    </tr>\n",
       "    <tr>\n",
       "      <td>75%</td>\n",
       "      <td>8.621015</td>\n",
       "      <td>-1.332816</td>\n",
       "      <td>3.999904</td>\n",
       "      <td>107.813044</td>\n",
       "    </tr>\n",
       "    <tr>\n",
       "      <td>max</td>\n",
       "      <td>29.421755</td>\n",
       "      <td>18.734063</td>\n",
       "      <td>5.019721</td>\n",
       "      <td>137.945408</td>\n",
       "    </tr>\n",
       "  </tbody>\n",
       "</table>\n",
       "</div>"
      ],
      "text/plain": [
       "                  f0             f1             f2        product\n",
       "count  100000.000000  100000.000000  100000.000000  100000.000000\n",
       "mean        1.141296      -4.796579       2.494541      68.825000\n",
       "std         8.965932       5.119872       1.703572      45.944423\n",
       "min       -31.609576     -26.358598      -0.018144       0.000000\n",
       "25%        -6.298551      -8.267985       1.000021      26.953261\n",
       "50%         1.153055      -4.813172       2.011479      57.085625\n",
       "75%         8.621015      -1.332816       3.999904     107.813044\n",
       "max        29.421755      18.734063       5.019721     137.945408"
      ]
     },
     "execution_count": 23,
     "metadata": {},
     "output_type": "execute_result"
    }
   ],
   "source": [
    "# 2-й регион\n",
    "df_1 = pd.read_csv('/datasets/geo_data_1.csv')\n",
    "\n",
    "# Информация о выборке\n",
    "df_1.describe()"
   ]
  },
  {
   "cell_type": "code",
   "execution_count": 24,
   "metadata": {},
   "outputs": [
    {
     "data": {
      "image/png": "[encoded data removed]",
      "text/plain": [
       "<Figure size 432x288 with 1 Axes>"
      ]
     },
     "metadata": {
      "needs_background": "light"
     },
     "output_type": "display_data"
    }
   ],
   "source": [
    "ax=sns.distplot(df_1['product'], bins = 15);\n",
    "ax.set_title('Распределение запасов нефти по региону 2' , fontdict = {'fontsize':15});"
   ]
  },
  {
   "cell_type": "code",
   "execution_count": 25,
   "metadata": {},
   "outputs": [
    {
     "data": {
      "text/plain": [
       "12"
      ]
     },
     "execution_count": 25,
     "metadata": {},
     "output_type": "execute_result"
    }
   ],
   "source": [
    "len(df_1['product'].unique())"
   ]
  },
  {
   "cell_type": "code",
   "execution_count": 26,
   "metadata": {},
   "outputs": [
    {
     "data": {
      "text/html": [
       "<div>\n",
       "<style scoped>\n",
       "    .dataframe tbody tr th:only-of-type {\n",
       "        vertical-align: middle;\n",
       "    }\n",
       "\n",
       "    .dataframe tbody tr th {\n",
       "        vertical-align: top;\n",
       "    }\n",
       "\n",
       "    .dataframe thead th {\n",
       "        text-align: right;\n",
       "    }\n",
       "</style>\n",
       "<table border=\"1\" class=\"dataframe\">\n",
       "  <thead>\n",
       "    <tr style=\"text-align: right;\">\n",
       "      <th></th>\n",
       "      <th>f0</th>\n",
       "      <th>f1</th>\n",
       "      <th>f2</th>\n",
       "      <th>product</th>\n",
       "    </tr>\n",
       "  </thead>\n",
       "  <tbody>\n",
       "    <tr>\n",
       "      <td>count</td>\n",
       "      <td>100000.000000</td>\n",
       "      <td>100000.000000</td>\n",
       "      <td>100000.000000</td>\n",
       "      <td>100000.000000</td>\n",
       "    </tr>\n",
       "    <tr>\n",
       "      <td>mean</td>\n",
       "      <td>0.002023</td>\n",
       "      <td>-0.002081</td>\n",
       "      <td>2.495128</td>\n",
       "      <td>95.000000</td>\n",
       "    </tr>\n",
       "    <tr>\n",
       "      <td>std</td>\n",
       "      <td>1.732045</td>\n",
       "      <td>1.730417</td>\n",
       "      <td>3.473445</td>\n",
       "      <td>44.749921</td>\n",
       "    </tr>\n",
       "    <tr>\n",
       "      <td>min</td>\n",
       "      <td>-8.760004</td>\n",
       "      <td>-7.084020</td>\n",
       "      <td>-11.970335</td>\n",
       "      <td>0.000000</td>\n",
       "    </tr>\n",
       "    <tr>\n",
       "      <td>25%</td>\n",
       "      <td>-1.162288</td>\n",
       "      <td>-1.174820</td>\n",
       "      <td>0.130359</td>\n",
       "      <td>59.450441</td>\n",
       "    </tr>\n",
       "    <tr>\n",
       "      <td>50%</td>\n",
       "      <td>0.009424</td>\n",
       "      <td>-0.009482</td>\n",
       "      <td>2.484236</td>\n",
       "      <td>94.925613</td>\n",
       "    </tr>\n",
       "    <tr>\n",
       "      <td>75%</td>\n",
       "      <td>1.158535</td>\n",
       "      <td>1.163678</td>\n",
       "      <td>4.858794</td>\n",
       "      <td>130.595027</td>\n",
       "    </tr>\n",
       "    <tr>\n",
       "      <td>max</td>\n",
       "      <td>7.238262</td>\n",
       "      <td>7.844801</td>\n",
       "      <td>16.739402</td>\n",
       "      <td>190.029838</td>\n",
       "    </tr>\n",
       "  </tbody>\n",
       "</table>\n",
       "</div>"
      ],
      "text/plain": [
       "                  f0             f1             f2        product\n",
       "count  100000.000000  100000.000000  100000.000000  100000.000000\n",
       "mean        0.002023      -0.002081       2.495128      95.000000\n",
       "std         1.732045       1.730417       3.473445      44.749921\n",
       "min        -8.760004      -7.084020     -11.970335       0.000000\n",
       "25%        -1.162288      -1.174820       0.130359      59.450441\n",
       "50%         0.009424      -0.009482       2.484236      94.925613\n",
       "75%         1.158535       1.163678       4.858794     130.595027\n",
       "max         7.238262       7.844801      16.739402     190.029838"
      ]
     },
     "execution_count": 26,
     "metadata": {},
     "output_type": "execute_result"
    }
   ],
   "source": [
    "# 3-й регион\n",
    "df_2 = pd.read_csv('/datasets/geo_data_2.csv')\n",
    "\n",
    "# Информация о выборке\n",
    "df_2.describe()"
   ]
  },
  {
   "cell_type": "code",
   "execution_count": 27,
   "metadata": {},
   "outputs": [
    {
     "data": {
      "image/png": "[encoded data removed]",
      "text/plain": [
       "<Figure size 432x288 with 1 Axes>"
      ]
     },
     "metadata": {
      "needs_background": "light"
     },
     "output_type": "display_data"
    }
   ],
   "source": [
    "ax=sns.distplot(df_2['product'] , bins = 15);\n",
    "ax.set_title('Распределение запасов нефти по региону 3' , fontdict = {'fontsize':15} );"
   ]
  },
  {
   "cell_type": "markdown",
   "metadata": {},
   "source": [
    "### Вывод по этапу:\n",
    "Как видно по графикам запасов нефти по регионам распределение запасов 1-го и 3-го близко к нормальному. Распределение 2-го региона не нормально, при этом в таблице всего 12 уникальных значений."
   ]
  },
  {
   "cell_type": "markdown",
   "metadata": {},
   "source": [
    "<font color='blue'>Все верно, но вид распределения сильно зависит от числа столбиков (bins) в гистограмме: если их задать меньше, то для региона 1 и 3 распределение будет похоже на нормальное. Альтернативный вариант – воспользоваться функцией df[...].plot.kde() для получения сглаженного графика распределения. </font>\n",
    "\n",
    "<font color='blue'>~~Признак id является неинформативным, и ты его не используешь – про это лучше написать. ~~  </font> Ответ: дополнено в выводе следующего раздела\n"
   ]
  },
  {
   "cell_type": "markdown",
   "metadata": {},
   "source": [
    "# 2. Обучение и проверка модели"
   ]
  },
  {
   "cell_type": "code",
   "execution_count": 28,
   "metadata": {},
   "outputs": [],
   "source": [
    "# Функция для моделирования\n",
    "def modeling(data):\n",
    "    x = data[['f0', 'f1' , 'f2']]\n",
    "    y = data['product']\n",
    "    x_train , x_valid , y_train , y_valid = train_test_split(x , y , test_size = 0.25 , random_state = 12)\n",
    "    model = LinearRegression(normalize = False)\n",
    "    model.fit(x_train , y_train)\n",
    "    predictions = model.predict(x_valid)\n",
    "    return y_valid , predictions "
   ]
  },
  {
   "cell_type": "code",
   "execution_count": 29,
   "metadata": {},
   "outputs": [
    {
     "name": "stdout",
     "output_type": "stream",
     "text": [
      "Регион 1: RMSE / Запасы нефти, тыс.бар. : 37.79/ 92.50\n",
      "Регион 2: RMSE / Запасы нефти, тыс.бар. : 0.89/ 68.83\n",
      "Регион 3: RMSE / Запасы нефти, тыс.бар. : 39.80/ 95.00\n"
     ]
    }
   ],
   "source": [
    "# Результаты 1-го региона\n",
    "y_0 , y_pred_0 = modeling(df_0)\n",
    "\n",
    "rmse_0 = mean_squared_error(y_0 , y_pred_0)**0.5\n",
    "print('Регион 1: RMSE / Запасы нефти, тыс.бар. : {:.2f}/ {:.2f}' .format(rmse_0 , df_0['product'].mean()))\n",
    "\n",
    "# Результаты 2-го региона\n",
    "y_1 , y_pred_1 = modeling(df_1)\n",
    "rmse_1 = mean_squared_error(y_1 , y_pred_1)**0.5\n",
    "print('Регион 2: RMSE / Запасы нефти, тыс.бар. : {:.2f}/ {:.2f}' .format(rmse_1 , df_1['product'].mean()))\n",
    "\n",
    "\n",
    "# Результаты 3-го региона\n",
    "y_2 , y_pred_2 = modeling(df_2)\n",
    "rmse_2 = mean_squared_error(y_2 , y_pred_2)**0.5\n",
    "print('Регион 3: RMSE / Запасы нефти, тыс.бар. : {:.2f}/ {:.2f}' .format(rmse_2 , df_2['product'].mean()))\n",
    "\n",
    "\n"
   ]
  },
  {
   "cell_type": "markdown",
   "metadata": {},
   "source": [
    "<font color='green'>Здорово, что не дублируешь код. Все значения правильные, молодец. </font>\n"
   ]
  },
  {
   "cell_type": "markdown",
   "metadata": {},
   "source": [
    "### Вывод по проверке моделей:\n",
    "Признаками были приняты столбцы f0 , f1 , f2. Столбец id является уникальным для каждой скважины, поэтому его не рассматриваем.\n",
    "Целевым признаком принят столбец product. \n",
    " \n",
    "\n",
    "Для анализа данных согласно условию принята модель линейной регрессии, которая вызывается методом LinearRegression()  в модуле sklearn. Модель была обучена на 75% процентах данных и проверена на выборке из 25% данных. \n",
    "Для оценки качества моделей использована метрика RMSE, которая определяется как корень из среднеквадратичной ошибки между предсказанными и реальными значениями. Лучше всего модель сработала для 2-го региона: RMSE составляет 0,89; при этом средний запас нефти составляет 68,83 тыс.бар., что меньше, чем в 1-м и 3-м регионах."
   ]
  },
  {
   "cell_type": "markdown",
   "metadata": {},
   "source": [
    "<font color='green'>Совершенно верно. </font>\n"
   ]
  },
  {
   "cell_type": "markdown",
   "metadata": {},
   "source": [
    "# 3. Подготовка к расчёту прибыли"
   ]
  },
  {
   "cell_type": "code",
   "execution_count": 30,
   "metadata": {},
   "outputs": [
    {
     "name": "stdout",
     "output_type": "stream",
     "text": [
      "Количество скважин, которые можно разработать при данном бюджете:  200\n",
      "Минимальный средний объём сырья, тыс. бар.:  11.11\n"
     ]
    }
   ],
   "source": [
    "HOLES_NUMBER = 500  # Количество скважин для разведки\n",
    "BUDGET = 1e10       # Бюджет на разработку месторождений — 10 млрд рублей,\n",
    "HOLE_COST = 5e7     # Стоимость бурения одной скважины — 50 млн рублей.\n",
    "BAREL_PROFIT = 4500 # Прибыль  в рублях от одного барелля\n",
    "\n",
    "# Количество скважин, которые можно разработать при бюджете\n",
    "holes_research_num = int( BUDGET / HOLE_COST)\n",
    "\n",
    "#Минимальный объем сырья \n",
    "min_reserve = BUDGET / (BAREL_PROFIT * holes_research_num*1000)\n",
    "print(\"Количество скважин, которые можно разработать при данном бюджете: \" ,  holes_research_num)\n",
    "print(\"Минимальный средний объём сырья, тыс. бар.: {: .2f}\".format(min_reserve))"
   ]
  },
  {
   "cell_type": "markdown",
   "metadata": {},
   "source": [
    "<font color='blue'>~~Константы лучше называть заглавными буквами: BUDGET и т.п.~~ </font>\n",
    "\n",
    "<font color='green'>Количество скважин найдено верно. </font>\n",
    "\n",
    "<font color='red'>~~Чему равен минимальный средний объем сырья в месторождениях региона, достаточный для его разработки? То есть сколько должно быть найдено сырья, чтобы покрыть стоимость бурения скважины (получить нулевую прибыль)?~~</font> /Ответ: Минимальный объем сырья добавлен \n",
    "\n",
    "<font color='green'>Спасибо, все правильно. </font>\n"
   ]
  },
  {
   "cell_type": "markdown",
   "metadata": {},
   "source": [
    "<font color='red'>~~Лучшие скважины – это те, у которых наибольший предсказанный запас сырья prediction (а не разница между истинным значением и предсказанным). В реальности мы не знаем истинного значения, а если бы знали, то модель вообще не нужна бы была :) ~~</font> / Ответ: спасибо! Осознал) смутило наличие известных значений валидационной выборки. Ячейка с этим кодом удалена\n"
   ]
  },
  {
   "cell_type": "code",
   "execution_count": 31,
   "metadata": {},
   "outputs": [],
   "source": [
    "# Функция для определения прибыли\n",
    "def profit_search(y , y_pred):\n",
    "    profit = []      \n",
    "    data = pd.DataFrame({\"target\":y , \"predictions\":y_pred})    \n",
    "    for _ in range(0,1000):\n",
    "    # делаем выборки по 500 скважин  1000раз \n",
    "        sample_500 = data.sample(HOLES_NUMBER , \n",
    "                                 replace = True , \n",
    "                                      ) ### replace=True, так как выборка должны быть с возвращением  \n",
    "        sample_200 = sample_500.sort_values(by ='predictions' , ascending = False).head(200) # Выбираем 200 максимальных значений  \n",
    "        profit_200 = ((sample_200['target'].sum() * 1000 * BAREL_PROFIT) - BUDGET )/ 1e9   # Считаем прибыль от 200 скважин в млрд. руб.       \n",
    "        profit.append(profit_200)\n",
    "    \n",
    "    # возвращаем  список прибылей\n",
    "    return profit"
   ]
  },
  {
   "cell_type": "markdown",
   "metadata": {},
   "source": [
    "<font color='red'>~~В цикле 1000 раз нужно делать следующее. Сэмплировать с возвращением (replace=true) 500 объектов из валидационной выборки. Среди них выбирать 200 лучших (с наибольшим предсказанным значением). После этого вычислять прибыль, которую мы получим, если будем бурить скважины в этих 200 точках.~~</font>\n",
    "\n",
    "Ответ: выполнено в функциию. Вопрос: выбор максимальных предсказанных значений кажется странным, т.к. заведомо максимизирует запасы и соответственно прибыль. Почему выбираются максимальные значения?\n",
    "\n",
    "<font color='green'>Максимизация прибыли и является целью, разве не так? :) «Заведомая максимизация запасов» будет происходить только если наша модель предсказаний идеальна.</font>\n",
    "\n",
    "<font color='red'>~~Поправь, пожалуйста, функцию profit_search: в строке, где ты вычисляешь profit_200 должны принимать участие ИСТИННЫЕ запасы нефти (то есть «y», соответствующие 200 лучшим месторождениям «sample_200»). Ведь «y» отвечает за то, какое количество нефти мы добудем, пробурив скважины в этих 200 точках. ~~</font>\n",
    "\n",
    "<font color='red'>~~Будь внимателен с индексами: индексы у «y» и «y_pred» должны совпадать. Возможно, для этого придется выполнить *.reset_index(drop=True).~~</font>\n",
    "\n",
    "Ответ: Исправлено. Но не понятно почему берем запас из реальных скважин, а не из предсказанных моделью.\n",
    "Ведь по идее должно быть так: пробурили скважину - взяли пробу - проанализировали, получили признаки - загрузили в модель - получили предсказанный запас в скважине.\n",
    "\n",
    "<font color='green'>Признаки месторождений получают до бурения скважин. На основании их значений выбирают 200 лучших точек (с максимальным предсказанным запасом). Бурение скважин и происходит в этих 200 точках (бюджета хватает только на 200 шт). До бурения скважин нельзя сказать, сколько на самом деле мы обнаружим сырья и какую прибыль мы получим (так как наша модель предсказаний, естественно, может ошибаться). Истинные запасы нефти, которые мы обнаружим, и принесут нам деньги, а не предсказанные :) Прибыль зависит именно от «y», а не от «y_pred».</font>\n",
    "\n",
    "\n",
    "<font color='red'>~~По 1000 полученным значениям прибыли найти среднюю прибыль, 95% доверительный интервал, риск убытков (долю отрицательных значений прибыли). ~~</font>\n",
    "\n",
    "Ответ: выполнено в следующем разделе, выведено на печать.\n",
    "\n",
    "<font color='red'>~~Для расчета прибыли стоит написать функцию, принимающую на вход истинные и предсказанные значения объемов сырья. Прибыль – это разница между тем, сколько мы получим, пробурив скважины в 200 точках с наибольшим prediction, и потраченными деньгами на бурение скважин.~~</font>\n",
    "\n",
    "Ответ: выполнено в функции как указано в твоем замечании. НО! тогда неправильно называть 4500руб прибылью, это доход от скважин.\n",
    "\n",
    "<font color='green'>Согласна, это может вносить путаницу. Прибыль, которую мы вычисляем, еще называют операционной прибылью. </font>\n"
   ]
  },
  {
   "cell_type": "code",
   "execution_count": 32,
   "metadata": {},
   "outputs": [],
   "source": [
    "# Записываем список прибылей для каждого региона в переменные\n",
    "profit_0 = profit_search(y_0 , y_pred_0)\n",
    "profit_1 = profit_search(y_1 , y_pred_1)\n",
    "profit_2 = profit_search(y_2 , y_pred_2)\n"
   ]
  },
  {
   "cell_type": "markdown",
   "metadata": {},
   "source": [
    "### Вывод по этапу:\n",
    " - на основании известного бюджета и стимости разработки одной скважины определено достаточное и необходимое количество скважин - 200 шт.\n",
    " - минимальный запас скважины в точке безубыточности определяем как бюджет, деленный на прибыль от 200 скважин. Таким образом получаем минимальный запас павный 11.1 тыс. бар.\n",
    " - для определения средней прибыли написана функция profit_search(), которая выполняет следующее:  \n",
    "     - методом библиотеки numpy выбирает случайным образом 500 месторождений из валидационной выборки; <font color='red'>~~(из валидационной выборки, а не из предсказанных моделью. Модель предсказывает объем запасов в месторождениях, а не сами месторождения)~~</font>     \n",
    "     Ответ: исправлено. \n",
    "\n",
    "     - из 500 месторождений определяет 200 лучших, т.е. с максимальным предсказанным запасом нефти; <font color='red'>~~(с максимальным предсказанным запасом нефти)~~</font>\n",
    "     \n",
    "     Ответ: исправлено.\n",
    "\n",
    "     - считает прибыль от 200 месторождений, равную разности полученного дохода и затраченного бюджета;\n",
    "     - пункты повторяются 1000 раз и прибыль от 200 скважин записывается в список.\n",
    "     - функция возвращает список прибылей, посчитанных 1000 раз.\n",
    " - результаты работы фунцкции записаны в переменные."
   ]
  },
  {
   "cell_type": "markdown",
   "metadata": {},
   "source": [
    "<font color='green'>Отлично, схема расчета прибыли, в целом, верная. </font>\n"
   ]
  },
  {
   "cell_type": "markdown",
   "metadata": {},
   "source": [
    "# 4. Расчёт прибыли и рисков "
   ]
  },
  {
   "cell_type": "code",
   "execution_count": 33,
   "metadata": {},
   "outputs": [],
   "source": [
    "# Подготовим данные для графиков паспределения прибыли\n",
    "data_profit = pd. DataFrame({'region_1':profit_0 , 'region_2':profit_1 ,'region_3':profit_2 })\n",
    "data_profit_tranformed = pd.melt(data_profit)\n",
    "data_profit_tranformed.columns = ['region' , 'profit']"
   ]
  },
  {
   "cell_type": "code",
   "execution_count": 34,
   "metadata": {},
   "outputs": [
    {
     "data": {
      "image/png": "[encoded data removed]",
      "text/plain": [
       "<Figure size 1440x360 with 1 Axes>"
      ]
     },
     "metadata": {
      "needs_background": "light"
     },
     "output_type": "display_data"
    }
   ],
   "source": [
    "# Распределение прибыли для всех регионов\n",
    "plt.figure(figsize=(20,5)) \n",
    "ax = sns.boxplot(x=\"profit\", y=\"region\" , data = data_profit_tranformed);\n",
    "ax.set_title('Распределение прибыли по регионам (ящик с усами)' , fontdict = {'fontsize':20});"
   ]
  },
  {
   "cell_type": "code",
   "execution_count": 35,
   "metadata": {},
   "outputs": [
    {
     "data": {
      "image/png": "[encoded data removed]",
      "text/plain": [
       "<Figure size 720x576 with 1 Axes>"
      ]
     },
     "metadata": {
      "needs_background": "light"
     },
     "output_type": "display_data"
    }
   ],
   "source": [
    "# Распределение прибыли для всех регионов\n",
    "plt.figure(figsize=(10,8))\n",
    "sns.distplot(profit_0)\n",
    "sns.distplot(profit_1)\n",
    "sns.distplot(profit_2)\n",
    "plt.title('Распределение прибыли по регионам' , fontsize =20)\n",
    "plt.show()"
   ]
  },
  {
   "cell_type": "code",
   "execution_count": 36,
   "metadata": {},
   "outputs": [
    {
     "name": "stdout",
     "output_type": "stream",
     "text": [
      "Средняя прибыль для 1-го региона, млрд. руб: 94.38\n",
      "Средняя прибыль для 2-го региона, млрд. руб: 94.89\n",
      "Средняя прибыль для 3-го региона, млрд. руб: 93.54\n"
     ]
    }
   ],
   "source": [
    "# Средняя прибыль 1-го региона\n",
    "mean_profit_0 = sum(profit_0)/ len(profit_0)\n",
    "print(\"Средняя прибыль для 1-го региона, млрд. руб: {:.2f}\".format(mean_profit_0))\n",
    "\n",
    "# Средняя прибыль 2-го региона\n",
    "mean_profit_1 = sum(profit_1)/ len(profit_1)\n",
    "print(\"Средняя прибыль для 2-го региона, млрд. руб: {:.2f}\".format(mean_profit_1))\n",
    "\n",
    "# Средняя прибыль 3-го региона\n",
    "mean_profit_2 = sum(profit_2)/ len(profit_2)\n",
    "print(\"Средняя прибыль для 3-го региона, млрд. руб: {:.2f}\".format(mean_profit_2))"
   ]
  },
  {
   "cell_type": "code",
   "execution_count": 37,
   "metadata": {},
   "outputs": [
    {
     "name": "stdout",
     "output_type": "stream",
     "text": [
      "Регион   | Нижняя граница 95% интервала | Верхняя граница 95% интервала\n",
      "______________________________________________________________________\n",
      "Регион 1 |                         89.13|                         99.70\n",
      "Регион 2 |                         90.84|                         98.94\n",
      "Регион 3 |                         88.26|                         98.78\n"
     ]
    }
   ],
   "source": [
    "# Определяем 95% интервал прибыли по регионам\n",
    "\n",
    "# регион 1\n",
    "profit_0_low , profit_0_up = np.percentile(profit_0 , 2.5) , np.percentile(profit_0 , 97.5)\n",
    "\n",
    "# регион 2\n",
    "profit_1_low , profit_1_up = np.percentile(profit_1 , 2.5) , np.percentile(profit_1 , 97.5)\n",
    "\n",
    "# регион 3\n",
    "profit_2_low , profit_2_up = np.percentile(profit_2 , 2.5) , np.percentile(profit_2 , 97.5)\n",
    "\n",
    "print(\"Регион   |\" , \"Нижняя граница 95% интервала |\" , \"Верхняя граница 95% интервала\")\n",
    "print(\"______________________________________________________________________\")\n",
    "print(\"Регион 1 | {: >29.2f}| {: >29.2f}\".format(profit_0_low , profit_0_up ,))\n",
    "print(\"Регион 2 | {: >29.2f}| {: >29.2f}\".format(profit_1_low , profit_1_up ,))\n",
    "print(\"Регион 3 | {: >29.2f}| {: >29.2f}\".format(profit_2_low , profit_2_up ,))"
   ]
  },
  {
   "cell_type": "code",
   "execution_count": 38,
   "metadata": {},
   "outputs": [
    {
     "name": "stdout",
     "output_type": "stream",
     "text": [
      "Риск убытков по всем скважинам региона 1:  0.0\n",
      "Риск убытков по всем скважинам региона 2:  0.0\n",
      "Риск убытков по всем скважинам региона 3:  0.0\n"
     ]
    }
   ],
   "source": [
    "# Расчет риска убытков\n",
    "\n",
    "print(\"Риск убытков по всем скважинам региона 1: \", st.stats.percentileofscore(profit_0, BUDGET / 1e9))\n",
    "print(\"Риск убытков по всем скважинам региона 2: \", st.stats.percentileofscore(profit_1, BUDGET / 1e9))\n",
    "print(\"Риск убытков по всем скважинам региона 3: \", st.stats.percentileofscore(profit_2, BUDGET / 1e9))\n"
   ]
  },
  {
   "cell_type": "markdown",
   "metadata": {},
   "source": [
    "### Вывод по этапу:\n",
    " - методом библиотеки Seaborn  построено распределение прибыли по каждому региону. \n",
    " - методом percentile() библиотеки numpy определены 95% доверительные интервалы распределения прибыли для каждого региона.\n",
    " - риск убытков для выбранных моделью скважин всех регионов равна 0. т.к. прибыль каждого региона в разы больше затрат на разработку скважин. Для 2-го региона прибыль больше затрат примерно в 9.5 раз.\n",
    " - На основании средней прибыли и отсутствующего риска убытков определен наиболее прибыльный регион - 2-й."
   ]
  },
  {
   "cell_type": "markdown",
   "metadata": {},
   "source": [
    "# Итоговый комментарий\n",
    "\n",
    "~~Спасибо, ты проделал большую работу. Особенно приятно, что ты не дублируешь код и выносишь все в отдельные функции. Осталось доработать подсчет прибыли и рисков. Ждем исправленную версию проекта, пиши, если возникнут вопросы.~~\n",
    "\n",
    "~~Спасибо за доработки, осталось совсем немного :)~~\n",
    "\n",
    "Все верно, побеждает регион 2. Работа отличная, молодец :)"
   ]
  },
  {
   "cell_type": "markdown",
   "metadata": {},
   "source": [
    "# Чек-лист готовности проекта"
   ]
  },
  {
   "cell_type": "markdown",
   "metadata": {},
   "source": [
    "Поставьте 'x' в выполненных пунктах. Далее нажмите Shift+Enter."
   ]
  },
  {
   "cell_type": "markdown",
   "metadata": {},
   "source": [
    "- [x]  Jupyter Notebook открыт\n",
    "- [x]  Весь код выполняется без ошибок\n",
    "- [x]  Ячейки с кодом расположены в порядке исполнения\n",
    "- [x]  Выполнен шаг 1: данные подготовлены\n",
    "- [x]  Выполнен шаг 2: модели обучены и проверены\n",
    "    - [x]  Данные корректно разбиты на обучающую и валидационную выборки\n",
    "    - [x]  Модели обучены, предсказания сделаны\n",
    "    - [x]  Предсказания и правильные ответы на валидационной выборке сохранены\n",
    "    - [x]  На экране напечатаны результаты\n",
    "    - [x]  Сделаны выводы\n",
    "- [x]  Выполнен шаг 3: проведена подготовка к расчёту прибыли\n",
    "    - [x]  Для всех ключевых значений созданы константы Python\n",
    "    - [x]  Посчитано минимальное среднее количество продукта в месторождениях региона, достаточное для разработки\n",
    "    - [x]  По предыдущему пункту сделаны выводы\n",
    "    - [x]  Написана функция расчёта прибыли\n",
    "- [ ]  Выполнен шаг 4: посчитаны риски и прибыль\n",
    "    - [x]  Проведена процедура *Bootstrap*\n",
    "    - [x]  Все параметры бутстрепа соответствуют условию\n",
    "    - [x]  Найдены все нужные величины\n",
    "    - [x]  Предложен регион для разработки месторождения\n",
    "    - [x]  Выбор региона обоснован"
   ]
  }
 ],
 "metadata": {
  "kernelspec": {
   "display_name": "Python 3",
   "language": "python",
   "name": "python3"
  },
  "language_info": {
   "codemirror_mode": {
    "name": "ipython",
    "version": 3
   },
   "file_extension": ".py",
   "mimetype": "text/x-python",
   "name": "python",
   "nbconvert_exporter": "python",
   "pygments_lexer": "ipython3",
   "version": "3.7.4"
  }
 },
 "nbformat": 4,
 "nbformat_minor": 2
}
