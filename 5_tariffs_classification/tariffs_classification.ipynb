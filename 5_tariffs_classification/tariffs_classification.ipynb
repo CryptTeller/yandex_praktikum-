{
 "cells": [
  {
   "cell_type": "markdown",
   "metadata": {},
   "source": [
    "# Рекомендация тарифов"
   ]
  },
  {
   "cell_type": "markdown",
   "metadata": {},
   "source": [
    "В вашем распоряжении данные о поведении клиентов, которые уже перешли на эти тарифы . Нужно построить модель для задачи классификации, которая выберет подходящий тариф. Предобработка данных не понадобится.\n",
    "\n",
    "Постройте модель с максимально большим значением *accuracy*. Чтобы сдать проект успешно, нужно довести долю правильных ответов по крайней мере до 0.75. Проверьте *accuracy* на тестовой выборке самостоятельно."
   ]
  },
  {
   "cell_type": "markdown",
   "metadata": {},
   "source": [
    "## 1. Откройте и изучите файл"
   ]
  },
  {
   "cell_type": "code",
   "execution_count": 1,
   "metadata": {},
   "outputs": [],
   "source": [
    "# импортируем все библиотеки\n",
    "import pandas   as pd\n",
    "from sklearn.tree            import DecisionTreeClassifier\n",
    "from sklearn.metrics         import accuracy_score\n",
    "from sklearn.ensemble        import RandomForestClassifier\n",
    "from sklearn.model_selection import train_test_split \n",
    "from sklearn.metrics         import mean_squared_error\n",
    "from sklearn.linear_model    import LogisticRegression\n",
    "from sklearn.dummy           import DummyClassifier"
   ]
  },
  {
   "cell_type": "code",
   "execution_count": 18,
   "metadata": {},
   "outputs": [
    {
     "data": {
      "text/html": [
       "<div>\n",
       "<style scoped>\n",
       "    .dataframe tbody tr th:only-of-type {\n",
       "        vertical-align: middle;\n",
       "    }\n",
       "\n",
       "    .dataframe tbody tr th {\n",
       "        vertical-align: top;\n",
       "    }\n",
       "\n",
       "    .dataframe thead th {\n",
       "        text-align: right;\n",
       "    }\n",
       "</style>\n",
       "<table border=\"1\" class=\"dataframe\">\n",
       "  <thead>\n",
       "    <tr style=\"text-align: right;\">\n",
       "      <th></th>\n",
       "      <th>calls</th>\n",
       "      <th>minutes</th>\n",
       "      <th>messages</th>\n",
       "      <th>mb_used</th>\n",
       "      <th>is_ultra</th>\n",
       "    </tr>\n",
       "  </thead>\n",
       "  <tbody>\n",
       "    <tr>\n",
       "      <td>0</td>\n",
       "      <td>40.0</td>\n",
       "      <td>311.90</td>\n",
       "      <td>83.0</td>\n",
       "      <td>19915.42</td>\n",
       "      <td>0</td>\n",
       "    </tr>\n",
       "    <tr>\n",
       "      <td>1</td>\n",
       "      <td>85.0</td>\n",
       "      <td>516.75</td>\n",
       "      <td>56.0</td>\n",
       "      <td>22696.96</td>\n",
       "      <td>0</td>\n",
       "    </tr>\n",
       "    <tr>\n",
       "      <td>2</td>\n",
       "      <td>77.0</td>\n",
       "      <td>467.66</td>\n",
       "      <td>86.0</td>\n",
       "      <td>21060.45</td>\n",
       "      <td>0</td>\n",
       "    </tr>\n",
       "    <tr>\n",
       "      <td>3</td>\n",
       "      <td>106.0</td>\n",
       "      <td>745.53</td>\n",
       "      <td>81.0</td>\n",
       "      <td>8437.39</td>\n",
       "      <td>1</td>\n",
       "    </tr>\n",
       "    <tr>\n",
       "      <td>4</td>\n",
       "      <td>66.0</td>\n",
       "      <td>418.74</td>\n",
       "      <td>1.0</td>\n",
       "      <td>14502.75</td>\n",
       "      <td>0</td>\n",
       "    </tr>\n",
       "  </tbody>\n",
       "</table>\n",
       "</div>"
      ],
      "text/plain": [
       "   calls  minutes  messages   mb_used  is_ultra\n",
       "0   40.0   311.90      83.0  19915.42         0\n",
       "1   85.0   516.75      56.0  22696.96         0\n",
       "2   77.0   467.66      86.0  21060.45         0\n",
       "3  106.0   745.53      81.0   8437.39         1\n",
       "4   66.0   418.74       1.0  14502.75         0"
      ]
     },
     "execution_count": 18,
     "metadata": {},
     "output_type": "execute_result"
    }
   ],
   "source": [
    "# Записываем датасет в переменную\n",
    "data_tarif = pd.read_csv('/datasets/users_behavior.csv')\n",
    "data_tarif.head()"
   ]
  },
  {
   "cell_type": "code",
   "execution_count": 21,
   "metadata": {},
   "outputs": [],
   "source": [
    "data_tarif.to_csv(r'C:\\pr2.csv')"
   ]
  },
  {
   "cell_type": "code",
   "execution_count": 3,
   "metadata": {},
   "outputs": [
    {
     "name": "stdout",
     "output_type": "stream",
     "text": [
      "<class 'pandas.core.frame.DataFrame'>\n",
      "RangeIndex: 3214 entries, 0 to 3213\n",
      "Data columns (total 5 columns):\n",
      "calls       3214 non-null float64\n",
      "minutes     3214 non-null float64\n",
      "messages    3214 non-null float64\n",
      "mb_used     3214 non-null float64\n",
      "is_ultra    3214 non-null int64\n",
      "dtypes: float64(4), int64(1)\n",
      "memory usage: 125.7 KB\n"
     ]
    }
   ],
   "source": [
    "data_tarif.info()"
   ]
  },
  {
   "cell_type": "markdown",
   "metadata": {},
   "source": [
    "##### Краткий вывод:\n",
    "Датасет идеален. Можно точно выделить целевые признаки и зависимую переменную.\n",
    "\n",
    "Целевые признаки: сalls, minutes, messages, mb_used.\n",
    "\n",
    "Зависмая переменная: is_ultra    "
   ]
  },
  {
   "cell_type": "markdown",
   "metadata": {},
   "source": [
    "## 2. Разбейте данные на выборки"
   ]
  },
  {
   "cell_type": "code",
   "execution_count": 4,
   "metadata": {},
   "outputs": [
    {
     "name": "stdout",
     "output_type": "stream",
     "text": [
      "Размер обучающей выборки:  (2571, 5)\n",
      "Размер валидационной выборки:  (321, 5)\n",
      "Размер тестовой выборки:  (322, 5)\n"
     ]
    }
   ],
   "source": [
    "# Разбиваем данные на выборки\n",
    "data_tarif_train , data_tarif_valid_test = train_test_split(data_tarif , \n",
    "                                                            train_size = 0.8 , \n",
    "                                                            test_size = 0.2,                                                                  \n",
    "                                                            random_state = 123)\n",
    "data_tarif_valid ,data_tarif_test = train_test_split(data_tarif_valid_test , \n",
    "                                                            train_size = 0.5 , \n",
    "                                                            test_size = 0.5,                                                                  \n",
    "                                                            random_state = 123)\n",
    "print('Размер обучающей выборки: ', data_tarif_train.shape)\n",
    "print('Размер валидационной выборки: ', data_tarif_valid.shape)\n",
    "print('Размер тестовой выборки: ', data_tarif_test.shape)"
   ]
  },
  {
   "cell_type": "markdown",
   "metadata": {},
   "source": [
    "##### Вывод:\n",
    "Методом train_test_split() данные разбиты на 3 выборки:\n",
    "- Обучающую,      60% данных;\n",
    "- Валидационную , 20% данных;\n",
    "- Тестовую ,      20% данных;"
   ]
  },
  {
   "cell_type": "markdown",
   "metadata": {},
   "source": [
    "## 3. Исследуйте модели"
   ]
  },
  {
   "cell_type": "code",
   "execution_count": 5,
   "metadata": {},
   "outputs": [],
   "source": [
    "# Создаем обучающие переменные\n",
    "x_train = data_tarif_train.drop('is_ultra' , axis = 1)\n",
    "y_train = data_tarif_train['is_ultra']\n",
    "\n",
    "# Создаем валидационные переменные\n",
    "x_valid = data_tarif_valid.drop('is_ultra' , axis = 1)\n",
    "y_valid = data_tarif_valid['is_ultra']\n",
    "\n",
    "# Создаем тестовые переменные\n",
    "x_test = data_tarif_test.drop('is_ultra' , axis = 1)\n",
    "y_test = data_tarif_test['is_ultra']"
   ]
  },
  {
   "cell_type": "code",
   "execution_count": 6,
   "metadata": {},
   "outputs": [],
   "source": [
    "# Модель деревья решений\n",
    "# Словарь для записи промежуточных параметров и поиска оптимального\n",
    "result_tree={}\n",
    "\n",
    "# Цикл для поиска оптимальной глубины дерева\n",
    "for i in range(2 , 20):\n",
    "    model_dec_tree = DecisionTreeClassifier(random_state = 12345 , max_depth = i)\n",
    "    model_dec_tree.fit(x_train , y_train)\n",
    "    pred = model_dec_tree.predict(x_valid)\n",
    "    result_tree[i] = accuracy_score(y_valid , pred)"
   ]
  },
  {
   "cell_type": "code",
   "execution_count": 7,
   "metadata": {},
   "outputs": [],
   "source": [
    "# Функция для определения максимальной точности\n",
    "def result_detection(result_dict):\n",
    "    # Спимок значений словаря ошибок\n",
    "    error_list = list(result_dict.values())\n",
    "    # Список ключей словаря ошибок\n",
    "    param_list = list(result_dict.keys())\n",
    "    # Максимальная точность\n",
    "    max_score = max(list(result_dict.values()))\n",
    "    # Значение гиперпараметра при известной максимальной точности\n",
    "    result_param = param_list[error_list.index(max_score)]\n",
    "    return (result_param  , max_score)"
   ]
  },
  {
   "cell_type": "code",
   "execution_count": 8,
   "metadata": {},
   "outputs": [
    {
     "data": {
      "text/plain": [
       "(8, 0.822429906542056)"
      ]
     },
     "execution_count": 8,
     "metadata": {},
     "output_type": "execute_result"
    }
   ],
   "source": [
    "#  Оптимальные параметры для дерева решений\n",
    "result_detection(result_tree)"
   ]
  },
  {
   "cell_type": "markdown",
   "metadata": {},
   "source": [
    "Для модели дерева решений оптимальная глубина 5, при этом точность предсказания на валидационной выборке составляет 0,83."
   ]
  },
  {
   "cell_type": "code",
   "execution_count": 9,
   "metadata": {},
   "outputs": [],
   "source": [
    "# Модель случайный лес\n",
    "# Словарь для записи промежуточных параметров и поиска оптимального точности\n",
    "result_random={}\n",
    "\n",
    "# Цикл для поиска оптимального количества деревьев\n",
    "for estim in range(5 , 80,5):\n",
    "    for depth in range(2 , 20):\n",
    "        model_dec_random = RandomForestClassifier(random_state = 12345 , n_estimators = estim , max_depth = depth )\n",
    "        model_dec_random.fit(x_train , y_train)\n",
    "        pred = model_dec_random.predict(x_valid)\n",
    "        result_random[estim , depth] = accuracy_score(y_valid , pred)"
   ]
  },
  {
   "cell_type": "code",
   "execution_count": 10,
   "metadata": {},
   "outputs": [
    {
     "data": {
      "text/plain": [
       "((5, 5), 0.8317757009345794)"
      ]
     },
     "execution_count": 10,
     "metadata": {},
     "output_type": "execute_result"
    }
   ],
   "source": [
    "# Оптимальные параметры для случайного леса\n",
    "result_detection(result_random)"
   ]
  },
  {
   "cell_type": "code",
   "execution_count": 11,
   "metadata": {},
   "outputs": [
    {
     "data": {
      "text/plain": [
       "0.7414330218068536"
      ]
     },
     "execution_count": 11,
     "metadata": {},
     "output_type": "execute_result"
    }
   ],
   "source": [
    "# Модель логистической регрессии\n",
    "model_dec_log = LogisticRegression(solver = 'lbfgs')\n",
    "model_dec_log.fit(x_train , y_train)\n",
    "pred = model_dec_log.predict(x_valid)\n",
    "# Точность модели\n",
    "result_logistic = accuracy_score(y_valid , pred)\n",
    "result_logistic"
   ]
  },
  {
   "cell_type": "markdown",
   "metadata": {},
   "source": [
    "#### Вывод:\n",
    "Методами библиотеки sklearn проверены 3 модели: дерево решений, случайный лес и логистическая регрессия.\n",
    "##### Дерево решений\n",
    "В цикле была определена оптимальная глубина модели. В качестве метрики использовалось количество правильных ответов на обучающей выборке - accuracy_score. Результаты записывались в словарь, в котором определялось максимальное значение метрики и соответствующее ему значение глубины дерева. Результат : глубина 5, правильность - 0,8227.\n",
    "##### Случайный лес\n",
    "В цикле были определены оптимальная глубина модели и количество деревьев. В качестве метрики использовалось количество правильных ответов на обучающей выборке - accuracy_score. Результаты записывались в словарь, в котором определялось максимальное значение метрики и соответствующие ему значения количества деревьев и их глубины. Результат : количество деревьев 70, глубина 10, правильность - 0,8367.\n",
    "##### Логистическая регрессия\n",
    "Ручным подбором параметров решателя был определен гиперпараметр \"lbfgs\". Максимальная правильность решений для этой модели составляет - 0,7589.\n",
    "\n",
    "Для дальнейшей проверки на тестовой выборке принимаем модель Случайного леса с параметрами: количество деревьев 70, глубина 10.\n",
    "    "
   ]
  },
  {
   "cell_type": "markdown",
   "metadata": {},
   "source": [
    "## 4. Проверьте модель на тестовой выборке"
   ]
  },
  {
   "cell_type": "code",
   "execution_count": 12,
   "metadata": {},
   "outputs": [
    {
     "name": "stdout",
     "output_type": "stream",
     "text": [
      "Правильных предсказаний:\n"
     ]
    },
    {
     "data": {
      "text/plain": [
       "0.8012422360248447"
      ]
     },
     "execution_count": 12,
     "metadata": {},
     "output_type": "execute_result"
    }
   ],
   "source": [
    "# Модель случайного леса на тестовой выборке\n",
    "model_forest = RandomForestClassifier(random_state = 12345 , n_estimators = 70 , max_depth = 10 )\n",
    "model_forest.fit(x_train , y_train)\n",
    "prediction = model_forest.predict(x_test)\n",
    "\n",
    "# Точность модели\n",
    "result_forest = accuracy_score(y_test , prediction)\n",
    "print('Правильных предсказаний:')\n",
    "result_forest"
   ]
  },
  {
   "cell_type": "markdown",
   "metadata": {},
   "source": [
    "#### Вывод:\n",
    "На тестовой выборке выбранная модель случайного леса с гиперпараметрами количества деревьев равным 70 и глубиной дерева 10 определяет правильно 78,85% решений. "
   ]
  },
  {
   "cell_type": "markdown",
   "metadata": {},
   "source": [
    "## 5. (бонус) Проверьте модели на адекватность"
   ]
  },
  {
   "cell_type": "code",
   "execution_count": 13,
   "metadata": {},
   "outputs": [
    {
     "name": "stdout",
     "output_type": "stream",
     "text": [
      "Количество правильных решений: 0.593167701863354\n"
     ]
    }
   ],
   "source": [
    "# Случайная модель с учетом распределения обучающей модели \n",
    "dummy_model  = DummyClassifier(strategy=\"stratified\" , random_state = 12345)\n",
    "dummy_model.fit(x_train , y_train)\n",
    "dummy_prediction = dummy_model.predict(x_test)\n",
    "print('Количество правильных решений:' , accuracy_score(y_test , dummy_prediction))\n"
   ]
  },
  {
   "cell_type": "code",
   "execution_count": 14,
   "metadata": {},
   "outputs": [
    {
     "name": "stdout",
     "output_type": "stream",
     "text": [
      "Количество правильных решений\n"
     ]
    },
    {
     "data": {
      "text/plain": [
       "0.5527950310559007"
      ]
     },
     "execution_count": 14,
     "metadata": {},
     "output_type": "execute_result"
    }
   ],
   "source": [
    "# Случайная модель  с рандомным выбором значения признака\n",
    "dummy_model  = DummyClassifier(strategy=\"uniform\", random_state = 12345)\n",
    "dummy_model.fit(x_train , y_train)\n",
    "dummy_prediction = dummy_model.predict(x_test)\n",
    "print('Количество правильных решений')\n",
    "accuracy_score(y_test , dummy_prediction)\n"
   ]
  },
  {
   "cell_type": "code",
   "execution_count": 15,
   "metadata": {},
   "outputs": [
    {
     "name": "stdout",
     "output_type": "stream",
     "text": [
      "Количество правильных решений\n"
     ]
    },
    {
     "data": {
      "text/plain": [
       "0.7111801242236024"
      ]
     },
     "execution_count": 15,
     "metadata": {},
     "output_type": "execute_result"
    }
   ],
   "source": [
    "# Модель с одним целевым признаком.\n",
    "dummy_model  = DummyClassifier(strategy=\"most_frequent\", random_state = 12345)\n",
    "dummy_model.fit(x_train , y_train)\n",
    "dummy_prediction = dummy_model.predict(x_test)\n",
    "print('Количество правильных решений')\n",
    "accuracy_score(y_test , dummy_prediction)\n"
   ]
  },
  {
   "cell_type": "code",
   "execution_count": null,
   "metadata": {},
   "outputs": [],
   "source": []
  },
  {
   "cell_type": "markdown",
   "metadata": {},
   "source": [
    "#### Вывод:\n",
    "Для проверки модели на адекватность было проведено сравнение с 3-мя простыми моделями:\n",
    "- stratified - с распределением аналогичным распределению тестовой выборки. \n",
    "- uniform - со случайным распределением.\n",
    "- most_frequent -  с одним значем, которое встречается чаще другого . В нашем случае это 0.\n",
    "\n",
    "В качестве метрики был применен показатель accuracy_score. Показатели правильности всех простых моделей меньше правильности предсказаний выбранной модели Случайного леса с гиперпараметрами количества деревьев равным 70 и глубиной дерева 10. Это позволяет сделать вывод, что выбранная модель предсказывает значения лучше случайной модели и является адекватной."
   ]
  },
  {
   "cell_type": "markdown",
   "metadata": {},
   "source": [
    "## Чек-лист готовности проекта"
   ]
  },
  {
   "cell_type": "markdown",
   "metadata": {},
   "source": [
    "Поставьте 'x' в выполненных пунктах. Далее нажмите Shift+Enter."
   ]
  },
  {
   "cell_type": "markdown",
   "metadata": {},
   "source": [
    "- [x] Jupyter Notebook открыт\n",
    "- [х] Весь код исполняется без ошибок\n",
    "- [х] Ячейки с кодом расположены в порядке исполнения\n",
    "- [х] Выполнено задание 1: данные загружены и изучены\n",
    "- [х] Выполнено задание 2: данные разбиты на три выборки\n",
    "- [х] Выполнено задание 3: проведено исследование моделей\n",
    "    - [х] Рассмотрено больше одной модели\n",
    "    - [х] Рассмотрено хотя бы 3 значения гипепараметров для какой-нибудь модели\n",
    "    - [х] Написаны выводы по результатам исследования\n",
    "- [х] Выполнено задание 3: Проведено тестирование\n",
    "- [х] Удалось достичь accuracy не меньше 0.75\n"
   ]
  }
 ],
 "metadata": {
  "kernelspec": {
   "display_name": "Python 3",
   "language": "python",
   "name": "python3"
  },
  "language_info": {
   "codemirror_mode": {
    "name": "ipython",
    "version": 3
   },
   "file_extension": ".py",
   "mimetype": "text/x-python",
   "name": "python",
   "nbconvert_exporter": "python",
   "pygments_lexer": "ipython3",
   "version": "3.7.6"
  }
 },
 "nbformat": 4,
 "nbformat_minor": 2
}
