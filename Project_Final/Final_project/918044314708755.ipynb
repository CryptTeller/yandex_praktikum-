{
 "cells": [
  {
   "cell_type": "markdown",
   "metadata": {},
   "source": [
    "# Проект \"Телеком\""
   ]
  },
  {
   "cell_type": "markdown",
   "metadata": {},
   "source": [
    "#### Исследование"
   ]
  },
  {
   "cell_type": "code",
   "execution_count": 1,
   "metadata": {},
   "outputs": [
    {
     "ename": "NameError",
     "evalue": "name 'df' is not defined",
     "output_type": "error",
     "traceback": [
      "\u001b[1;31m---------------------------------------------------------------------------\u001b[0m",
      "\u001b[1;31mNameError\u001b[0m                                 Traceback (most recent call last)",
      "\u001b[1;32m<ipython-input-1-5c65fe58eefa>\u001b[0m in \u001b[0;36m<module>\u001b[1;34m\u001b[0m\n\u001b[1;32m----> 1\u001b[1;33m \u001b[0mdf_c1\u001b[0m \u001b[1;33m=\u001b[0m \u001b[0mdf\u001b[0m\u001b[1;33m.\u001b[0m\u001b[0mquery\u001b[0m\u001b[1;33m(\u001b[0m\u001b[1;34m'Churn==1'\u001b[0m\u001b[1;33m)\u001b[0m \u001b[1;31m#Клиенты, расторгнувшие договор\u001b[0m\u001b[1;33m\u001b[0m\u001b[1;33m\u001b[0m\u001b[0m\n\u001b[0m\u001b[0;32m      2\u001b[0m \u001b[0mdf_c0\u001b[0m \u001b[1;33m=\u001b[0m \u001b[0mdf\u001b[0m\u001b[1;33m.\u001b[0m\u001b[0mquery\u001b[0m\u001b[1;33m(\u001b[0m\u001b[1;34m'Churn==0'\u001b[0m\u001b[1;33m)\u001b[0m \u001b[1;31m#Активные клиенты\u001b[0m\u001b[1;33m\u001b[0m\u001b[1;33m\u001b[0m\u001b[0m\n",
      "\u001b[1;31mNameError\u001b[0m: name 'df' is not defined"
     ]
    }
   ],
   "source": [
    "df_c1 = df.query('Churn==1') #Клиенты, расторгнувшие договор\n",
    "df_c0 = df.query('Churn==0') #Активные клиенты"
   ]
  },
  {
   "cell_type": "code",
   "execution_count": null,
   "metadata": {},
   "outputs": [],
   "source": [
    "df_c0['MonthlyCharges'].hist()\n",
    "df_c1['MonthlyCharges'].hist()"
   ]
  },
  {
   "cell_type": "markdown",
   "metadata": {},
   "source": [
    "Распределение ежемесячной абонентской платы среди активных клиентов, и клиентов расторгнувших договор схожее, однако среди клиентов с расторжением гораздо меньше низких абонентских плат."
   ]
  },
  {
   "cell_type": "code",
   "execution_count": null,
   "metadata": {},
   "outputs": [],
   "source": [
    "c0stat =  df_c0[['customerID','MonthlyCharges']].describe().T\n",
    "c1stat =  df_c1[['customerID','MonthlyCharges']].describe().T\n",
    "cstat = c0stat.append(c1stat)\n",
    "cstat.set_index([[\"Churn=0\",\"Churn=1\"]],inplace=True)"
   ]
  },
  {
   "cell_type": "code",
   "execution_count": null,
   "metadata": {
    "scrolled": false
   },
   "outputs": [],
   "source": [
    "for i in cstat.columns:\n",
    "    print(\"----\"+i+\"----\")\n",
    "    plt.bar(x=cstat.index,height=cstat[i],color=['blue','red'])\n",
    "    plt.show()"
   ]
  },
  {
   "cell_type": "markdown",
   "metadata": {},
   "source": [
    "Средние абонентские платы (далее АП) у клиентов из оттока немного выше, в тоже время минимальные и максимальные значения АП в рассматривемых группах одинаковое.\n",
    "Медиана активных клиентов ниже, также как 25%-квартиль - среди активных клиентов большее количество договоров с низкими АП. \n",
    "75%-квартиль активных клиентов приближен к группе оттока. "
   ]
  },
  {
   "cell_type": "code",
   "execution_count": null,
   "metadata": {},
   "outputs": [],
   "source": [
    "def df_info(df,ysl):\n",
    "    x = df.pivot_table(index=ysl,values='customerID',aggfunc='count')\n",
    "    xf=x[x.index==False].sum()\n",
    "    xt=x[x.index==True].sum()\n",
    "    print(xt/(xf+xt))"
   ]
  },
  {
   "cell_type": "code",
   "execution_count": null,
   "metadata": {},
   "outputs": [],
   "source": [
    "x= df.pivot_table(index='Internet',values='customerID',aggfunc='count')\n",
    "x.index==True"
   ]
  },
  {
   "cell_type": "code",
   "execution_count": null,
   "metadata": {},
   "outputs": [],
   "source": [
    "df_info(df_c1,'Internet')\n",
    "df_c1.pivot_table(index='Internet',values='customerID',aggfunc='count').plot(kind='bar',title=\"Клиенты, расторгнувшие договор\")\n",
    "plt.show()\n",
    "df_info(df_c0,'Internet')\n",
    "df_c0.pivot_table(index='Internet',values='customerID',aggfunc='count').plot(kind='bar',title=\"Активные клиенты\")"
   ]
  },
  {
   "cell_type": "markdown",
   "metadata": {},
   "source": [
    "Соотношения наличия интернета среди 2 групп клиентов практически одинаковое - среди клиентов, расторгнувших договор, наибольшая часть имели интернет.\n",
    "Среди активных договоров с наличием интернета немного меньше."
   ]
  },
  {
   "cell_type": "code",
   "execution_count": null,
   "metadata": {},
   "outputs": [],
   "source": [
    "df_info(df_c1,'Telephony')\n",
    "df_c1.pivot_table(index='Telephony',values='customerID',aggfunc='count').plot(kind='bar',title=\"Клиенты, расторгнувшие договор\")\n",
    "plt.show()\n",
    "df_info(df_c0,'Telephony')\n",
    "df_c0.pivot_table(index='Telephony',values='customerID',aggfunc='count').plot(kind='bar',title=\"Активные клиенты\")"
   ]
  },
  {
   "cell_type": "markdown",
   "metadata": {},
   "source": [
    "Соотношения наличия телефонии среди 2 групп клиентов одинаковое - среди клиентов, 90% имеют услуги телефонии"
   ]
  },
  {
   "cell_type": "markdown",
   "metadata": {},
   "source": [
    "## Вывод"
   ]
  },
  {
   "cell_type": "markdown",
   "metadata": {},
   "source": [
    "Обе рассматриваемые группы клиентов схожи друг с другом.\n",
    "Из расмотренных признаков, самое явное отличие в группах - ежемесячная абонентская плата.\n",
    "Клиенты с невысокой АП расторгают договоры гораздо реже.\n",
    "Также пользователей интернета среди расторгнувних немного больше.\n",
    "Можно предположить, что клиенты могут уходить в связи с недостаточным объемом пакетных услуг (интернета и.т.д.).\n",
    "\n",
    "Для большего понимания групп, необходимо рассмотреть другие данные по договорам и клиентам, а также объемам используемых ими услуг."
   ]
  },
  {
   "cell_type": "code",
   "execution_count": null,
   "metadata": {},
   "outputs": [],
   "source": []
  }
 ],
 "metadata": {
  "kernelspec": {
   "display_name": "Python 3",
   "language": "python",
   "name": "python3"
  },
  "language_info": {
   "codemirror_mode": {
    "name": "ipython",
    "version": 3
   },
   "file_extension": ".py",
   "mimetype": "text/x-python",
   "name": "python",
   "nbconvert_exporter": "python",
   "pygments_lexer": "ipython3",
   "version": "3.7.4"
  }
 },
 "nbformat": 4,
 "nbformat_minor": 2
}
