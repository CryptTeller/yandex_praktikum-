{
 "cells": [
  {
   "cell_type": "markdown",
   "metadata": {},
   "source": [
    "# Исследование объявлений о продаже квартир\n",
    "\n",
    "В вашем распоряжении данные сервиса Яндекс.Недвижимость — архив объявлений о продаже квартир в Санкт-Петербурге и соседних населённых пунктов за несколько лет. Нужно научиться определять рыночную стоимость объектов недвижимости. Ваша задача — установить параметры. Это позволит построить автоматизированную систему: она отследит аномалии и мошенническую деятельность. \n",
    "\n",
    "По каждой квартире на продажу доступны два вида данных. Первые вписаны пользователем, вторые — получены автоматически на основе картографических данных. Например, расстояние до центра, аэропорта, ближайшего парка и водоёма. "
   ]
  },
  {
   "cell_type": "markdown",
   "metadata": {},
   "source": [
    "### Шаг 1. Откройте файл с данными и изучите общую информацию. "
   ]
  },
  {
   "cell_type": "code",
   "execution_count": 1,
   "metadata": {},
   "outputs": [
    {
     "name": "stdout",
     "output_type": "stream",
     "text": [
      "<class 'pandas.core.frame.DataFrame'>\n",
      "RangeIndex: 23699 entries, 0 to 23698\n",
      "Data columns (total 22 columns):\n",
      "total_images            23699 non-null int64\n",
      "last_price              23699 non-null float64\n",
      "total_area              23699 non-null float64\n",
      "first_day_exposition    23699 non-null object\n",
      "rooms                   23699 non-null int64\n",
      "ceiling_height          14504 non-null float64\n",
      "floors_total            23613 non-null float64\n",
      "living_area             21796 non-null float64\n",
      "floor                   23699 non-null int64\n",
      "is_apartment            2775 non-null object\n",
      "studio                  23699 non-null bool\n",
      "open_plan               23699 non-null bool\n",
      "kitchen_area            21421 non-null float64\n",
      "balcony                 12180 non-null float64\n",
      "locality_name           23650 non-null object\n",
      "airports_nearest        18157 non-null float64\n",
      "cityCenters_nearest     18180 non-null float64\n",
      "parks_around3000        18181 non-null float64\n",
      "parks_nearest           8079 non-null float64\n",
      "ponds_around3000        18181 non-null float64\n",
      "ponds_nearest           9110 non-null float64\n",
      "days_exposition         20518 non-null float64\n",
      "dtypes: bool(2), float64(14), int64(3), object(3)\n",
      "memory usage: 3.7+ MB\n"
     ]
    },
    {
     "data": {
      "text/html": [
       "<div>\n",
       "<style scoped>\n",
       "    .dataframe tbody tr th:only-of-type {\n",
       "        vertical-align: middle;\n",
       "    }\n",
       "\n",
       "    .dataframe tbody tr th {\n",
       "        vertical-align: top;\n",
       "    }\n",
       "\n",
       "    .dataframe thead th {\n",
       "        text-align: right;\n",
       "    }\n",
       "</style>\n",
       "<table border=\"1\" class=\"dataframe\">\n",
       "  <thead>\n",
       "    <tr style=\"text-align: right;\">\n",
       "      <th></th>\n",
       "      <th>total_images</th>\n",
       "      <th>last_price</th>\n",
       "      <th>total_area</th>\n",
       "      <th>first_day_exposition</th>\n",
       "      <th>rooms</th>\n",
       "      <th>ceiling_height</th>\n",
       "      <th>floors_total</th>\n",
       "      <th>living_area</th>\n",
       "      <th>floor</th>\n",
       "      <th>is_apartment</th>\n",
       "      <th>...</th>\n",
       "      <th>kitchen_area</th>\n",
       "      <th>balcony</th>\n",
       "      <th>locality_name</th>\n",
       "      <th>airports_nearest</th>\n",
       "      <th>cityCenters_nearest</th>\n",
       "      <th>parks_around3000</th>\n",
       "      <th>parks_nearest</th>\n",
       "      <th>ponds_around3000</th>\n",
       "      <th>ponds_nearest</th>\n",
       "      <th>days_exposition</th>\n",
       "    </tr>\n",
       "  </thead>\n",
       "  <tbody>\n",
       "    <tr>\n",
       "      <td>0</td>\n",
       "      <td>20</td>\n",
       "      <td>13000000.0</td>\n",
       "      <td>108.00</td>\n",
       "      <td>2019-03-07T00:00:00</td>\n",
       "      <td>3</td>\n",
       "      <td>2.70</td>\n",
       "      <td>16.0</td>\n",
       "      <td>51.00</td>\n",
       "      <td>8</td>\n",
       "      <td>NaN</td>\n",
       "      <td>...</td>\n",
       "      <td>25.00</td>\n",
       "      <td>NaN</td>\n",
       "      <td>Санкт-Петербург</td>\n",
       "      <td>18863.0</td>\n",
       "      <td>16028.0</td>\n",
       "      <td>1.0</td>\n",
       "      <td>482.0</td>\n",
       "      <td>2.0</td>\n",
       "      <td>755.0</td>\n",
       "      <td>NaN</td>\n",
       "    </tr>\n",
       "    <tr>\n",
       "      <td>1</td>\n",
       "      <td>7</td>\n",
       "      <td>3350000.0</td>\n",
       "      <td>40.40</td>\n",
       "      <td>2018-12-04T00:00:00</td>\n",
       "      <td>1</td>\n",
       "      <td>NaN</td>\n",
       "      <td>11.0</td>\n",
       "      <td>18.60</td>\n",
       "      <td>1</td>\n",
       "      <td>NaN</td>\n",
       "      <td>...</td>\n",
       "      <td>11.00</td>\n",
       "      <td>2.0</td>\n",
       "      <td>посёлок Шушары</td>\n",
       "      <td>12817.0</td>\n",
       "      <td>18603.0</td>\n",
       "      <td>0.0</td>\n",
       "      <td>NaN</td>\n",
       "      <td>0.0</td>\n",
       "      <td>NaN</td>\n",
       "      <td>81.0</td>\n",
       "    </tr>\n",
       "    <tr>\n",
       "      <td>2</td>\n",
       "      <td>10</td>\n",
       "      <td>5196000.0</td>\n",
       "      <td>56.00</td>\n",
       "      <td>2015-08-20T00:00:00</td>\n",
       "      <td>2</td>\n",
       "      <td>NaN</td>\n",
       "      <td>5.0</td>\n",
       "      <td>34.30</td>\n",
       "      <td>4</td>\n",
       "      <td>NaN</td>\n",
       "      <td>...</td>\n",
       "      <td>8.30</td>\n",
       "      <td>0.0</td>\n",
       "      <td>Санкт-Петербург</td>\n",
       "      <td>21741.0</td>\n",
       "      <td>13933.0</td>\n",
       "      <td>1.0</td>\n",
       "      <td>90.0</td>\n",
       "      <td>2.0</td>\n",
       "      <td>574.0</td>\n",
       "      <td>558.0</td>\n",
       "    </tr>\n",
       "    <tr>\n",
       "      <td>3</td>\n",
       "      <td>0</td>\n",
       "      <td>64900000.0</td>\n",
       "      <td>159.00</td>\n",
       "      <td>2015-07-24T00:00:00</td>\n",
       "      <td>3</td>\n",
       "      <td>NaN</td>\n",
       "      <td>14.0</td>\n",
       "      <td>NaN</td>\n",
       "      <td>9</td>\n",
       "      <td>NaN</td>\n",
       "      <td>...</td>\n",
       "      <td>NaN</td>\n",
       "      <td>0.0</td>\n",
       "      <td>Санкт-Петербург</td>\n",
       "      <td>28098.0</td>\n",
       "      <td>6800.0</td>\n",
       "      <td>2.0</td>\n",
       "      <td>84.0</td>\n",
       "      <td>3.0</td>\n",
       "      <td>234.0</td>\n",
       "      <td>424.0</td>\n",
       "    </tr>\n",
       "    <tr>\n",
       "      <td>4</td>\n",
       "      <td>2</td>\n",
       "      <td>10000000.0</td>\n",
       "      <td>100.00</td>\n",
       "      <td>2018-06-19T00:00:00</td>\n",
       "      <td>2</td>\n",
       "      <td>3.03</td>\n",
       "      <td>14.0</td>\n",
       "      <td>32.00</td>\n",
       "      <td>13</td>\n",
       "      <td>NaN</td>\n",
       "      <td>...</td>\n",
       "      <td>41.00</td>\n",
       "      <td>NaN</td>\n",
       "      <td>Санкт-Петербург</td>\n",
       "      <td>31856.0</td>\n",
       "      <td>8098.0</td>\n",
       "      <td>2.0</td>\n",
       "      <td>112.0</td>\n",
       "      <td>1.0</td>\n",
       "      <td>48.0</td>\n",
       "      <td>121.0</td>\n",
       "    </tr>\n",
       "    <tr>\n",
       "      <td>5</td>\n",
       "      <td>10</td>\n",
       "      <td>2890000.0</td>\n",
       "      <td>30.40</td>\n",
       "      <td>2018-09-10T00:00:00</td>\n",
       "      <td>1</td>\n",
       "      <td>NaN</td>\n",
       "      <td>12.0</td>\n",
       "      <td>14.40</td>\n",
       "      <td>5</td>\n",
       "      <td>NaN</td>\n",
       "      <td>...</td>\n",
       "      <td>9.10</td>\n",
       "      <td>NaN</td>\n",
       "      <td>городской посёлок Янино-1</td>\n",
       "      <td>NaN</td>\n",
       "      <td>NaN</td>\n",
       "      <td>NaN</td>\n",
       "      <td>NaN</td>\n",
       "      <td>NaN</td>\n",
       "      <td>NaN</td>\n",
       "      <td>55.0</td>\n",
       "    </tr>\n",
       "    <tr>\n",
       "      <td>6</td>\n",
       "      <td>6</td>\n",
       "      <td>3700000.0</td>\n",
       "      <td>37.30</td>\n",
       "      <td>2017-11-02T00:00:00</td>\n",
       "      <td>1</td>\n",
       "      <td>NaN</td>\n",
       "      <td>26.0</td>\n",
       "      <td>10.60</td>\n",
       "      <td>6</td>\n",
       "      <td>NaN</td>\n",
       "      <td>...</td>\n",
       "      <td>14.40</td>\n",
       "      <td>1.0</td>\n",
       "      <td>посёлок Парголово</td>\n",
       "      <td>52996.0</td>\n",
       "      <td>19143.0</td>\n",
       "      <td>0.0</td>\n",
       "      <td>NaN</td>\n",
       "      <td>0.0</td>\n",
       "      <td>NaN</td>\n",
       "      <td>155.0</td>\n",
       "    </tr>\n",
       "    <tr>\n",
       "      <td>7</td>\n",
       "      <td>5</td>\n",
       "      <td>7915000.0</td>\n",
       "      <td>71.60</td>\n",
       "      <td>2019-04-18T00:00:00</td>\n",
       "      <td>2</td>\n",
       "      <td>NaN</td>\n",
       "      <td>24.0</td>\n",
       "      <td>NaN</td>\n",
       "      <td>22</td>\n",
       "      <td>NaN</td>\n",
       "      <td>...</td>\n",
       "      <td>18.90</td>\n",
       "      <td>2.0</td>\n",
       "      <td>Санкт-Петербург</td>\n",
       "      <td>23982.0</td>\n",
       "      <td>11634.0</td>\n",
       "      <td>0.0</td>\n",
       "      <td>NaN</td>\n",
       "      <td>0.0</td>\n",
       "      <td>NaN</td>\n",
       "      <td>NaN</td>\n",
       "    </tr>\n",
       "    <tr>\n",
       "      <td>8</td>\n",
       "      <td>20</td>\n",
       "      <td>2900000.0</td>\n",
       "      <td>33.16</td>\n",
       "      <td>2018-05-23T00:00:00</td>\n",
       "      <td>1</td>\n",
       "      <td>NaN</td>\n",
       "      <td>27.0</td>\n",
       "      <td>15.43</td>\n",
       "      <td>26</td>\n",
       "      <td>NaN</td>\n",
       "      <td>...</td>\n",
       "      <td>8.81</td>\n",
       "      <td>NaN</td>\n",
       "      <td>посёлок Мурино</td>\n",
       "      <td>NaN</td>\n",
       "      <td>NaN</td>\n",
       "      <td>NaN</td>\n",
       "      <td>NaN</td>\n",
       "      <td>NaN</td>\n",
       "      <td>NaN</td>\n",
       "      <td>189.0</td>\n",
       "    </tr>\n",
       "    <tr>\n",
       "      <td>9</td>\n",
       "      <td>18</td>\n",
       "      <td>5400000.0</td>\n",
       "      <td>61.00</td>\n",
       "      <td>2017-02-26T00:00:00</td>\n",
       "      <td>3</td>\n",
       "      <td>2.50</td>\n",
       "      <td>9.0</td>\n",
       "      <td>43.60</td>\n",
       "      <td>7</td>\n",
       "      <td>NaN</td>\n",
       "      <td>...</td>\n",
       "      <td>6.50</td>\n",
       "      <td>2.0</td>\n",
       "      <td>Санкт-Петербург</td>\n",
       "      <td>50898.0</td>\n",
       "      <td>15008.0</td>\n",
       "      <td>0.0</td>\n",
       "      <td>NaN</td>\n",
       "      <td>0.0</td>\n",
       "      <td>NaN</td>\n",
       "      <td>289.0</td>\n",
       "    </tr>\n",
       "  </tbody>\n",
       "</table>\n",
       "<p>10 rows × 22 columns</p>\n",
       "</div>"
      ],
      "text/plain": [
       "   total_images  last_price  total_area first_day_exposition  rooms  \\\n",
       "0            20  13000000.0      108.00  2019-03-07T00:00:00      3   \n",
       "1             7   3350000.0       40.40  2018-12-04T00:00:00      1   \n",
       "2            10   5196000.0       56.00  2015-08-20T00:00:00      2   \n",
       "3             0  64900000.0      159.00  2015-07-24T00:00:00      3   \n",
       "4             2  10000000.0      100.00  2018-06-19T00:00:00      2   \n",
       "5            10   2890000.0       30.40  2018-09-10T00:00:00      1   \n",
       "6             6   3700000.0       37.30  2017-11-02T00:00:00      1   \n",
       "7             5   7915000.0       71.60  2019-04-18T00:00:00      2   \n",
       "8            20   2900000.0       33.16  2018-05-23T00:00:00      1   \n",
       "9            18   5400000.0       61.00  2017-02-26T00:00:00      3   \n",
       "\n",
       "   ceiling_height  floors_total  living_area  floor is_apartment  ...  \\\n",
       "0            2.70          16.0        51.00      8          NaN  ...   \n",
       "1             NaN          11.0        18.60      1          NaN  ...   \n",
       "2             NaN           5.0        34.30      4          NaN  ...   \n",
       "3             NaN          14.0          NaN      9          NaN  ...   \n",
       "4            3.03          14.0        32.00     13          NaN  ...   \n",
       "5             NaN          12.0        14.40      5          NaN  ...   \n",
       "6             NaN          26.0        10.60      6          NaN  ...   \n",
       "7             NaN          24.0          NaN     22          NaN  ...   \n",
       "8             NaN          27.0        15.43     26          NaN  ...   \n",
       "9            2.50           9.0        43.60      7          NaN  ...   \n",
       "\n",
       "   kitchen_area  balcony              locality_name  airports_nearest  \\\n",
       "0         25.00      NaN            Санкт-Петербург           18863.0   \n",
       "1         11.00      2.0             посёлок Шушары           12817.0   \n",
       "2          8.30      0.0            Санкт-Петербург           21741.0   \n",
       "3           NaN      0.0            Санкт-Петербург           28098.0   \n",
       "4         41.00      NaN            Санкт-Петербург           31856.0   \n",
       "5          9.10      NaN  городской посёлок Янино-1               NaN   \n",
       "6         14.40      1.0          посёлок Парголово           52996.0   \n",
       "7         18.90      2.0            Санкт-Петербург           23982.0   \n",
       "8          8.81      NaN             посёлок Мурино               NaN   \n",
       "9          6.50      2.0            Санкт-Петербург           50898.0   \n",
       "\n",
       "  cityCenters_nearest  parks_around3000  parks_nearest  ponds_around3000  \\\n",
       "0             16028.0               1.0          482.0               2.0   \n",
       "1             18603.0               0.0            NaN               0.0   \n",
       "2             13933.0               1.0           90.0               2.0   \n",
       "3              6800.0               2.0           84.0               3.0   \n",
       "4              8098.0               2.0          112.0               1.0   \n",
       "5                 NaN               NaN            NaN               NaN   \n",
       "6             19143.0               0.0            NaN               0.0   \n",
       "7             11634.0               0.0            NaN               0.0   \n",
       "8                 NaN               NaN            NaN               NaN   \n",
       "9             15008.0               0.0            NaN               0.0   \n",
       "\n",
       "   ponds_nearest  days_exposition  \n",
       "0          755.0              NaN  \n",
       "1            NaN             81.0  \n",
       "2          574.0            558.0  \n",
       "3          234.0            424.0  \n",
       "4           48.0            121.0  \n",
       "5            NaN             55.0  \n",
       "6            NaN            155.0  \n",
       "7            NaN              NaN  \n",
       "8            NaN            189.0  \n",
       "9            NaN            289.0  \n",
       "\n",
       "[10 rows x 22 columns]"
      ]
     },
     "execution_count": 1,
     "metadata": {},
     "output_type": "execute_result"
    }
   ],
   "source": [
    "import pandas as pd\n",
    "import matplotlib.pyplot as plt\n",
    "\n",
    "flat_data = pd.read_csv('/datasets/real_estate_data.csv' , sep = '\\t')\n",
    "flat_data.info()\n",
    "\n",
    "flat_data.head(10)"
   ]
  },
  {
   "cell_type": "markdown",
   "metadata": {},
   "source": [
    "### Вывод"
   ]
  },
  {
   "cell_type": "markdown",
   "metadata": {},
   "source": [
    "При первом открытии файла без указания разделителя визуально был определен разделитель \"\\t\" между столбцами. Затем в методе read_csv был указан метод sep = '\\t' и таблица открылась в правильном виде.\n",
    "По информации, полученной методом .info() видно, что многие столбцы содержат пропуски, и где то их очень много.\n",
    "Кратко опишем первое впечатление об информации:\n",
    "1. total_images - число фотографий в объявлении. Пропусков нет, тип данных int64.\n",
    "2. last_price - цена на момент снятия с публикации, можно считать продаже. Пропусков нет, тип данных float.\n",
    "3. Total area - общая площадь квартиры. Пропусков нет, тип данных float.\n",
    "4. first_day_exposition - дата публикации. Пропусков нет, но нужно изменить тип данных, чтобы потом работать с этим столбцом.\n",
    "5. rooms - количество комнат. Пропусков нет, тип данных int64.\n",
    "6. ceiling_height - высота потолков. Много пропусков, которые надо правильно заменить тип данных float. Причина пропусков - не указывают в объявлении, т.к. не является важным параметром квартиры. Возможна замена по медиане в зависимости от площади квартиры.\n",
    "7. floors_total - количество этажей в доме. Есть пропуски и тип данных float. Тип данных нужно изменить на целые числа. Причина пропусков - человечески фактор, не указывают в объявлении. Возможна замена по медиане в зависимости от площади квартиры или удалить если пропусков не много.Причина пропусков - человечески фактор, не указывают в объявлении\n",
    "8. living_area - жилая площадь. Есть пропуски, тип данных float. Причина пропусков - человечески фактор, не указывают в объявлении. Возможна замена по медиане в зависимости от площади квартиры.\n",
    "9. floor -  этаж квартиры. Пропусков нет, тип данных int64.\n",
    "10. is_apartment - аппартаменты. Пропуском очень много, нужно тщательно проверить. Тип данных bool. Причина пропусков - возможно значения False были приняты как пропуск. \n",
    "11. studio - квартира-студия. Пропусков нет. Тип данных bool.\n",
    "12. open_plan - свободная планировка. Пропусков нет. Тип данных bool.\n",
    "13. kitchen_area - площадь кухни. Есть пропуски, но их немного, тип данных float. Причина пропусков - человечески фактор, не указывают в объявлении. Возможна замена по медиане в зависимости от площади квартиры.\n",
    "14. balcony - количество балконов. Много пропусков, тип данных float. Тип данных необходимо изменить. Причина пропусков - возможно значения 0 были приняты как пропуск. \n",
    "15. locality_name - название населеного пункта. Есть пропуски, но их совсем немного. Тип данных object, возможно разное написание название. Нужно проверять на уникальность. Причина пропусков - автоматически не определено название. Если их немного то проще всего их удалить.\n",
    "16. airports_nearest - расстояние до ближайшего аэропорта. Много пропусков, тип данных float. Возможная причина - невозможность алгоритма автоматически определить расстояние. Замена - по названию населенного пункта.\n",
    "17. cityCenters_nearest - расстояние до центра. Много пропусков, тип данных float. озможная причина - невозможность алгоритма автоматически определить расстояние. Замена - по названию населенного пункта.\n",
    "18. parks_around3000 - количество парков в радиусе 3км. Много пропусков, тип данных float. Тип данных необходимо изменить. Причина пропусков - возможно значения 0 были приняты как пропуск. \n",
    "19. parks_nearest - расстояние до ближайшего парка. Очень много пропусков. Тип данных float.\n",
    "20. ponds_around3000 - число водоемов в радиусе 3км. Много пропусков, тип данных float. Тип данных необходимо изменить. Возможная причина - невозможность алгоритма автоматически определить расстояние. Замена чем-то вряд ли получится.\n",
    "21. ponds_nearest - расстояние до ближайшего пруда. Много пропусков, тип данных float. Причина пропусков - возможно значения 0 были приняты как пропуск.  Возможная причина - невозможность алгоритма автоматически определить расстояние. Замена чем-то вряд ли получится.\n",
    "22. days_exposition - длительность размещения объявления. Много пропусков, тип данных float. Тип данных необходимо изменить. Пропуски это не снятое объявление, т.е. можно заменить большим числом, и в последствии его отсечь как аномальное."
   ]
  },
  {
   "cell_type": "markdown",
   "metadata": {},
   "source": [
    "### Шаг 2. Предобработка данных"
   ]
  },
  {
   "cell_type": "markdown",
   "metadata": {},
   "source": [
    "#### Ищем пропуски и дубликаты:"
   ]
  },
  {
   "cell_type": "code",
   "execution_count": 2,
   "metadata": {},
   "outputs": [
    {
     "name": "stdout",
     "output_type": "stream",
     "text": [
      "Пропуски в таблице:\n",
      "total_images                0\n",
      "last_price                  0\n",
      "total_area                  0\n",
      "first_day_exposition        0\n",
      "rooms                       0\n",
      "ceiling_height           9195\n",
      "floors_total               86\n",
      "living_area              1903\n",
      "floor                       0\n",
      "is_apartment            20924\n",
      "studio                      0\n",
      "open_plan                   0\n",
      "kitchen_area             2278\n",
      "balcony                 11519\n",
      "locality_name              49\n",
      "airports_nearest         5542\n",
      "cityCenters_nearest      5519\n",
      "parks_around3000         5518\n",
      "parks_nearest           15620\n",
      "ponds_around3000         5518\n",
      "ponds_nearest           14589\n",
      "days_exposition          3181\n",
      "dtype: int64\n",
      "\n",
      "Дубликтов в таблице нет:\n",
      "0\n",
      "\n"
     ]
    }
   ],
   "source": [
    "# Проверим наличие пропусков\n",
    "print('Пропуски в таблице:')\n",
    "print(flat_data.isna().sum())\n",
    "print()\n",
    "# Проверим наличие дубликатов\n",
    "print('Дубликтов в таблице нет:')\n",
    "print(flat_data.duplicated().sum())\n",
    "print()\n"
   ]
  },
  {
   "cell_type": "markdown",
   "metadata": {},
   "source": [
    "#### Удаляем / заполняем пропуски в floors_total ,  locality_name , balcony , is_apartment,   locality_name:"
   ]
  },
  {
   "cell_type": "code",
   "execution_count": 3,
   "metadata": {},
   "outputs": [],
   "source": [
    "# Удаляем пропуски в столбце floors_total:\n",
    "flat_data = flat_data.dropna(subset = ['floors_total']).reset_index(drop = True)\n",
    "\n",
    "# Удаляем пропуски в столбце locality_name\n",
    "flat_data = flat_data.dropna(subset = ['locality_name']).reset_index(drop = True)"
   ]
  },
  {
   "cell_type": "code",
   "execution_count": 4,
   "metadata": {},
   "outputs": [
    {
     "name": "stdout",
     "output_type": "stream",
     "text": [
      "Пропусков в floors_total и locality_name:\n",
      "floors_total:  0\n",
      "locality_name:  0\n"
     ]
    }
   ],
   "source": [
    "# Проверим наличие пропусков\n",
    "print('Пропусков в floors_total и locality_name:')\n",
    "print('floors_total: ' , flat_data['floors_total'].isna().sum())\n",
    "print('locality_name: ' , flat_data['locality_name'].isna().sum())\n"
   ]
  },
  {
   "cell_type": "code",
   "execution_count": 5,
   "metadata": {},
   "outputs": [
    {
     "name": "stdout",
     "output_type": "stream",
     "text": [
      "5 значений и уникальные значения в столбце balcony:\n",
      "0    NaN\n",
      "1    2.0\n",
      "2    0.0\n",
      "3    0.0\n",
      "4    NaN\n",
      "Name: balcony, dtype: float64\n",
      "[nan  2.  0.  1.  5.  4.  3.]\n"
     ]
    }
   ],
   "source": [
    "#Проверим столбец balcony:\n",
    "print('5 значений и уникальные значения в столбце balcony:')\n",
    "print(flat_data['balcony'].head(5))\n",
    "print(flat_data['balcony'].unique())\n",
    "\n",
    "# Заменяем пропуски в столбце balcony:\n",
    "flat_data['balcony'] = flat_data['balcony'].fillna(0)"
   ]
  },
  {
   "cell_type": "code",
   "execution_count": 6,
   "metadata": {},
   "outputs": [
    {
     "name": "stdout",
     "output_type": "stream",
     "text": [
      "5 значений и уникальные значения в столбце is_apartment:\n",
      "0    NaN\n",
      "1    NaN\n",
      "2    NaN\n",
      "3    NaN\n",
      "4    NaN\n",
      "Name: is_apartment, dtype: object\n",
      "[nan False True]\n"
     ]
    }
   ],
   "source": [
    "#Проверим столбец is_apartment:\n",
    "print('5 значений и уникальные значения в столбце is_apartment:')\n",
    "print(flat_data['is_apartment'].head(5))\n",
    "print(flat_data['is_apartment'].unique())\n",
    "\n",
    "#Заменяем пропуски в столбце is_apartment:\n",
    "flat_data['is_apartment'] = flat_data['is_apartment'].fillna(False)"
   ]
  },
  {
   "cell_type": "markdown",
   "metadata": {},
   "source": [
    "#### Заполняем пропуски в living_area , kitchen_area:"
   ]
  },
  {
   "cell_type": "code",
   "execution_count": 7,
   "metadata": {
    "scrolled": false
   },
   "outputs": [
    {
     "name": "stdout",
     "output_type": "stream",
     "text": [
      "Пропусков одновременно в living_area и kitchen_area:\n",
      "1427\n",
      "\n",
      "Статистические характеристики living_area до замены пропусков:\n",
      "count    21700.000000\n",
      "mean        34.454822\n",
      "std         22.045359\n",
      "min          2.000000\n",
      "25%         18.600000\n",
      "50%         30.000000\n",
      "75%         42.300000\n",
      "max        409.700000\n",
      "Name: living_area, dtype: float64\n",
      "\n",
      "Статистические характеристики kitchen_area до замены пропусков:\n",
      "count    21343.000000\n",
      "mean        10.560994\n",
      "std          5.900630\n",
      "min          1.300000\n",
      "25%          7.000000\n",
      "50%          9.100000\n",
      "75%         12.000000\n",
      "max        112.000000\n",
      "Name: kitchen_area, dtype: float64\n"
     ]
    }
   ],
   "source": [
    "# Проверим как соотносятся пропуски в площадях. Найдем количество пропусков одновременно в двух столбцах.\n",
    "area_na = flat_data.isna().query('living_area == True and kitchen_area == True')\n",
    "print('Пропусков одновременно в living_area и kitchen_area:')\n",
    "print(len(area_na))\n",
    "print()\n",
    "\n",
    "print('Статистические характеристики living_area до замены пропусков:')\n",
    "print(flat_data['living_area'].describe())\n",
    "print()\n",
    "\n",
    "print('Статистические характеристики kitchen_area до замены пропусков:')\n",
    "print(flat_data['kitchen_area'].describe())"
   ]
  },
  {
   "cell_type": "code",
   "execution_count": 8,
   "metadata": {},
   "outputs": [
    {
     "name": "stdout",
     "output_type": "stream",
     "text": [
      "   total_area  living_area  kitchen_area\n",
      "0       108.0         51.0          25.0\n",
      "1        40.4         18.6          11.0\n",
      "2        56.0         34.3           8.3\n",
      "3       159.0          NaN           NaN\n",
      "4       100.0         32.0          41.0\n",
      "Максимальное и минимальное значение столбца total_area:\n",
      "900.0 12.0\n"
     ]
    }
   ],
   "source": [
    "# Проверим связь между площадями\n",
    "data_area = flat_data.loc[:,['total_area' , 'living_area', 'kitchen_area']]\n",
    "print(data_area.head(5))\n",
    "print('Максимальное и минимальное значение столбца total_area:')\n",
    "print(data_area['total_area'].max() , data_area['total_area'].min())"
   ]
  },
  {
   "cell_type": "code",
   "execution_count": 9,
   "metadata": {},
   "outputs": [
    {
     "name": "stdout",
     "output_type": "stream",
     "text": [
      "Гистограма общей площади\n"
     ]
    },
    {
     "data": {
      "image/png": "[encoded data removed]",
      "text/plain": [
       "<Figure size 720x360 with 1 Axes>"
      ]
     },
     "metadata": {
      "needs_background": "light"
     },
     "output_type": "display_data"
    },
    {
     "name": "stdout",
     "output_type": "stream",
     "text": [
      "График зависимости жилой площади от общей площади\n"
     ]
    },
    {
     "data": {
      "image/png": "[encoded data removed]",
      "text/plain": [
       "<Figure size 720x360 with 1 Axes>"
      ]
     },
     "metadata": {
      "needs_background": "light"
     },
     "output_type": "display_data"
    },
    {
     "name": "stdout",
     "output_type": "stream",
     "text": [
      "График зависимости площади кухни от общей площади\n"
     ]
    },
    {
     "data": {
      "image/png": "[encoded data removed]",
      "text/plain": [
       "<Figure size 720x360 with 1 Axes>"
      ]
     },
     "metadata": {
      "needs_background": "light"
     },
     "output_type": "display_data"
    }
   ],
   "source": [
    "# На графике и гистограммах предварительно проверим данные\n",
    "print('Гистограма общей площади')\n",
    "flat_data['total_area'].hist(bins = 50 , figsize = (10,5))\n",
    "plt.show()\n",
    "print('График зависимости жилой площади от общей площади')\n",
    "flat_data.plot(x='total_area' , y='living_area' , style = 'o', grid = True ,figsize = (10,5))\n",
    "plt.show()\n",
    "print('График зависимости площади кухни от общей площади')\n",
    "flat_data.plot(x='total_area' , y='kitchen_area' , style = 'o', grid = True ,figsize = (10,5))\n",
    "plt.show()"
   ]
  },
  {
   "cell_type": "code",
   "execution_count": 10,
   "metadata": {},
   "outputs": [],
   "source": [
    "#Список для категоризации общей площади \n",
    "area_array_1 = [i  for i in range(10 , 150 , 10)]  # шаг принимаем вначале чаще, т.к. таких значений больше\n",
    "area_array_2 = [i  for i in range(150 , 925 , 25)]  #далее шаг увеличиваем для упрощения\n",
    "area_array = area_array_1 + area_array_2\n",
    "\n",
    "# Создаем столбец с категориями площадей\n",
    "data_area.loc[:,'area_category'] = pd.cut(x=data_area.loc[:,'total_area'] , bins = area_array)\n",
    "\n",
    "# Определяем медианы living_area и kitchen_area по категориям общей площади \n",
    "pivot_area_median = (data_area.\n",
    "                    pivot_table(index = 'area_category' , \n",
    "                                values = ['kitchen_area','living_area'] ,\n",
    "                                aggfunc = 'median')\n",
    ")\n",
    "pivot_area_median.columns =['kitchen_median' , 'living_median']\n",
    "flat_data.loc[:,'total_area_category'] = data_area.loc[:,'area_category']\n",
    "# ВЫВОДА НЕТ. Здесь только вычисления"
   ]
  },
  {
   "cell_type": "code",
   "execution_count": 11,
   "metadata": {},
   "outputs": [],
   "source": [
    "#Заполняем пропуски в living_area и kitchen_area медианой по группе значения общей площади\n",
    "for category in pivot_area_median.index:    \n",
    "    data_living_filter = flat_data['living_area'].isna() &  (flat_data['total_area_category'] == category)\n",
    "    if  len(flat_data.loc[data_living_filter]) > 0:\n",
    "        flat_data.loc[data_living_filter , 'living_area'] = pivot_area_median.loc[category , 'living_median']    \n",
    "    data_kitchen_filter = flat_data['kitchen_area'].isna() &  (flat_data['total_area_category'] == category)\n",
    "    if  len(flat_data.loc[data_kitchen_filter]) > 0:\n",
    "        flat_data.loc[data_kitchen_filter , 'kitchen_area'] = pivot_area_median.loc[category , 'kitchen_median']\n",
    "# ВЫВОДА НЕТ. Здесь только вычисления"
   ]
  },
  {
   "cell_type": "code",
   "execution_count": 12,
   "metadata": {},
   "outputs": [
    {
     "name": "stdout",
     "output_type": "stream",
     "text": [
      "Пропусков в kitchen_area после преобразований: 0\n",
      "Пропусков в living_area после преобразований: 0\n",
      "Статистические характеристики living_area после замены пропусков:\n",
      "count    23565.000000\n",
      "mean        34.649017\n",
      "std         22.463483\n",
      "min          2.000000\n",
      "25%         18.600000\n",
      "50%         30.000000\n",
      "75%         42.300000\n",
      "max        409.700000\n",
      "Name: living_area, dtype: float64\n",
      "Статистические характеристики kitchen_area после замены пропусков:\n",
      "count    23565.000000\n",
      "mean        10.438879\n",
      "std          5.750847\n",
      "min          1.300000\n",
      "25%          7.100000\n",
      "50%          9.000000\n",
      "75%         11.800000\n",
      "max        112.000000\n",
      "Name: kitchen_area, dtype: float64\n"
     ]
    }
   ],
   "source": [
    "# Выводим результаты анализа\n",
    "print('Пропусков в kitchen_area после преобразований:',flat_data['kitchen_area'].isna().sum())\n",
    "print('Пропусков в living_area после преобразований:',flat_data['living_area'].isna().sum())\n",
    "print('Статистические характеристики living_area после замены пропусков:')\n",
    "print(flat_data['living_area'].describe())\n",
    "print('Статистические характеристики kitchen_area после замены пропусков:')\n",
    "print(flat_data['kitchen_area'].describe())"
   ]
  },
  {
   "cell_type": "markdown",
   "metadata": {},
   "source": [
    "#### Заполняем пропуски в ceiling_height"
   ]
  },
  {
   "cell_type": "code",
   "execution_count": 13,
   "metadata": {},
   "outputs": [
    {
     "name": "stdout",
     "output_type": "stream",
     "text": [
      "Максимальное значение в столбце ceiling_height:   100.0\n",
      "Минимальное значение в столбце ceiling_height:   1.0\n",
      "Медиана значений в столбце ceiling_height:   2.65\n"
     ]
    },
    {
     "data": {
      "text/plain": [
       "<matplotlib.axes._subplots.AxesSubplot at 0x7f5a9a5d2898>"
      ]
     },
     "execution_count": 13,
     "metadata": {},
     "output_type": "execute_result"
    },
    {
     "data": {
      "image/png": "[encoded data removed]",
      "text/plain": [
       "<Figure size 720x360 with 1 Axes>"
      ]
     },
     "metadata": {
      "needs_background": "light"
     },
     "output_type": "display_data"
    }
   ],
   "source": [
    "# Проверим значения в столбце ceiling_height\n",
    "print('Максимальное значение в столбце ceiling_height:  ' ,flat_data['ceiling_height'].max())\n",
    "print('Минимальное значение в столбце ceiling_height:  ' , flat_data['ceiling_height'].min())\n",
    "print('Медиана значений в столбце ceiling_height:  ' , flat_data['ceiling_height'].median())\n",
    "\n",
    "# Проверим значения в столбце ceiling_height визуально на гистограмме\n",
    "flat_data['ceiling_height'].hist(bins = 50 , figsize = (10,5) , range = (1 , 5)  )"
   ]
  },
  {
   "cell_type": "code",
   "execution_count": 14,
   "metadata": {},
   "outputs": [
    {
     "name": "stdout",
     "output_type": "stream",
     "text": [
      "Значения медианы в по категории площади:\n",
      "                     ceiling_median\n",
      "total_area_category                \n",
      "(10, 20]                       2.70\n",
      "(20, 30]                       2.57\n",
      "(30, 40]                       2.60\n",
      "(40, 50]                       2.60\n",
      "(50, 60]                       2.60\n",
      "(60, 70]                       2.65\n",
      "(70, 80]                       2.71\n",
      "(80, 90]                       2.80\n",
      "(90, 100]                      2.80\n",
      "(100, 110]                     3.00\n",
      "(110, 120]                     3.00\n",
      "(120, 130]                     3.00\n",
      "(130, 140]                     3.00\n",
      "(140, 150]                     3.00\n",
      "(150, 175]                     3.10\n",
      "(175, 200]                     3.00\n",
      "(200, 225]                     3.30\n",
      "(225, 250]                     3.50\n",
      "(250, 275]                     3.11\n",
      "(275, 300]                     3.40\n",
      "(300, 325]                     3.30\n",
      "(325, 350]                     3.86\n",
      "(350, 375]                     3.32\n",
      "(375, 400]                     3.60\n",
      "(400, 425]                     3.15\n",
      "(425, 450]                     3.70\n",
      "(450, 475]                     3.10\n",
      "(475, 500]                     3.20\n",
      "(500, 525]                     4.45\n",
      "(575, 600]                     3.50\n",
      "(600, 625]                     3.40\n",
      "(625, 650]                     3.90\n",
      "(875, 900]                     2.80\n",
      "Пропусков в ceiling_height после преобразований: 0\n"
     ]
    }
   ],
   "source": [
    "# Проверим медианы в столбце ceiling_height в зависимости от категори общей площади\n",
    "pivot_ceiling_median = flat_data.pivot_table(index = 'total_area_category' , values = 'ceiling_height', aggfunc = 'median')\n",
    "pivot_ceiling_median.columns =['ceiling_median']\n",
    "print('Значения медианы в по категории площади:')\n",
    "print(pivot_ceiling_median)\n",
    "\n",
    "# Заменяем аналогично тому, как это делали для столбцов с площадями, \n",
    "# т.к. значения медиан в общем не выбиваются за рамки разумного\n",
    "for category in pivot_ceiling_median.index:    \n",
    "    data_ceiling_filter = flat_data['ceiling_height'].isna() &  (flat_data['total_area_category'] == category)\n",
    "    if  len(flat_data.loc[data_ceiling_filter]) > 0:\n",
    "        flat_data.loc[data_ceiling_filter , 'ceiling_height'] = pivot_ceiling_median.loc[category , 'ceiling_median'] \n",
    "\n",
    "print('Пропусков в ceiling_height после преобразований:',flat_data['ceiling_height'].isna().sum())"
   ]
  },
  {
   "cell_type": "markdown",
   "metadata": {},
   "source": [
    "#### Заполняем пропуски в столбце cityCenters_nearest"
   ]
  },
  {
   "cell_type": "code",
   "execution_count": 15,
   "metadata": {},
   "outputs": [
    {
     "name": "stdout",
     "output_type": "stream",
     "text": [
      "Максимальное значение в столбце cityCenters_nearest:   65968.0\n",
      "Минимальное значение в столбце cityCenters_nearest:   181.0\n",
      "Медиана значений в столбце cityCenters_nearest:   13096.5\n",
      "Количество пропусков в cityCenters_nearest: 5501\n"
     ]
    }
   ],
   "source": [
    "# Проверим значения в столбце cityCenters_nearest\n",
    "print('Максимальное значение в столбце cityCenters_nearest:  ' ,flat_data['cityCenters_nearest'].max())\n",
    "print('Минимальное значение в столбце cityCenters_nearest:  ' , flat_data['cityCenters_nearest'].min())\n",
    "print('Медиана значений в столбце cityCenters_nearest:  ' , flat_data['cityCenters_nearest'].median())\n",
    "print('Количество пропусков в cityCenters_nearest:', flat_data['cityCenters_nearest'].isna().sum())"
   ]
  },
  {
   "cell_type": "code",
   "execution_count": 16,
   "metadata": {},
   "outputs": [
    {
     "data": {
      "text/plain": [
       "<matplotlib.axes._subplots.AxesSubplot at 0x7f5a9a611c18>"
      ]
     },
     "execution_count": 16,
     "metadata": {},
     "output_type": "execute_result"
    },
    {
     "data": {
      "image/png": "[encoded data removed]",
      "text/plain": [
       "<Figure size 720x360 with 1 Axes>"
      ]
     },
     "metadata": {
      "needs_background": "light"
     },
     "output_type": "display_data"
    }
   ],
   "source": [
    "# Проверим значения в столбце cityCenters_nearest визуально на гистограмме\n",
    "flat_data['cityCenters_nearest'].plot(kind = 'hist',\n",
    "                                      bins = 50, \n",
    "                                      figsize = (10,5) , \n",
    "                                      grid = True , \n",
    "                                      title = 'Гистограмма cityCenters_nearest' )"
   ]
  },
  {
   "cell_type": "code",
   "execution_count": 17,
   "metadata": {},
   "outputs": [
    {
     "name": "stdout",
     "output_type": "stream",
     "text": [
      "Количество населенных пунктов, по которым можно заполнить пропуски:  7\n",
      "Количество пропусков в cityCenters_nearest после замены:   5432\n"
     ]
    }
   ],
   "source": [
    "# Посчитаем количество по каким населенным пунктам есть одновременно пропуски и значение >0 cityCenters_nearest, чтобы можно было посчитать медиану.\n",
    "# Заменим пропуски в    cityCenters_nearest медианой по населенному пункту, если они есть\n",
    "n=0\n",
    "for name in flat_data['locality_name'].unique():\n",
    "    data_filter_isna = flat_data['cityCenters_nearest'].isna() & (flat_data['locality_name'] == name)\n",
    "    data_filter =  (flat_data['locality_name'] == name)\n",
    "    len_data_filter = len(flat_data.loc[data_filter , 'cityCenters_nearest'])\n",
    "    len_data_filter_isna = len(flat_data.loc[data_filter_isna , 'cityCenters_nearest'])\n",
    "    if len_data_filter > len_data_filter_isna and len_data_filter_isna !=0:\n",
    "        n+=1\n",
    "        flat_data.loc[data_filter_isna , 'cityCenters_nearest'] = flat_data.loc[flat_data['locality_name'] == name \n",
    "                                                                                , 'cityCenters_nearest'].median()\n",
    "        \n",
    "if n == 0:\n",
    "    print('Населенных пунктов со значениями в столбце cityCenters_nearest и пропусками нет, поэтому можно сделать вывод ,\\n что пропущеные значения целиком принадлежат одному населенному пункту')\n",
    "    print('Поэтому заменить пропуски медианой или средним по населенному пункту не представляется возможным')\n",
    "else: \n",
    "    print('Количество населенных пунктов, по которым можно заполнить пропуски: ',n)\n",
    "\n",
    "    \n",
    "\n",
    "print('Количество пропусков в cityCenters_nearest после замены:  ', flat_data['cityCenters_nearest'].isna().sum())\n"
   ]
  },
  {
   "cell_type": "code",
   "execution_count": 18,
   "metadata": {},
   "outputs": [
    {
     "name": "stdout",
     "output_type": "stream",
     "text": [
      "Количество пропусков в cityCenters_nearest после замены индикаторным значением:  0\n"
     ]
    }
   ],
   "source": [
    "# Оставшиеся пропуски заменяем индикаторным значением -1000\n",
    "flat_data['cityCenters_nearest'] = flat_data['cityCenters_nearest'].fillna(-1000)\n",
    "\n",
    "print('Количество пропусков в cityCenters_nearest после замены индикаторным значением: '\n",
    "      , flat_data['cityCenters_nearest'].isna().sum())\n"
   ]
  },
  {
   "cell_type": "markdown",
   "metadata": {},
   "source": [
    "#### Заполняем пропуски в столбце airports_nearest"
   ]
  },
  {
   "cell_type": "code",
   "execution_count": 19,
   "metadata": {},
   "outputs": [
    {
     "name": "stdout",
     "output_type": "stream",
     "text": [
      "Максимальное значение в столбце airports_nearest:   84869.0\n",
      "Минимальное значение в столбце airports_nearest:   0.0\n",
      "Медиана значений в столбце airports_nearest:   26757.0\n",
      "Количество пропусков в airports_nearest:  5524\n"
     ]
    }
   ],
   "source": [
    "# Проверим значения в столбце airports_nearest\n",
    "print('Максимальное значение в столбце airports_nearest:  ' ,flat_data['airports_nearest'].max())\n",
    "print('Минимальное значение в столбце airports_nearest:  ' , flat_data['airports_nearest'].min())\n",
    "print('Медиана значений в столбце airports_nearest:  ' , flat_data['airports_nearest'].median())\n",
    "print('Количество пропусков в airports_nearest: ' , flat_data['airports_nearest'].isna().sum())\n"
   ]
  },
  {
   "cell_type": "code",
   "execution_count": 20,
   "metadata": {},
   "outputs": [
    {
     "name": "stdout",
     "output_type": "stream",
     "text": [
      "Количество населенных пунктов, по которым можно заполнить пропуски:  6\n",
      "Количество пропусков в airports_nearest после замены:  5432\n"
     ]
    }
   ],
   "source": [
    "# Посчитаем количество по каким населенным пунктам есть одновременно пропуски и значение >0 airports_nearest, \n",
    "# чтобы можно было посчитать медиану.\n",
    "n=0\n",
    "# Заменим пропуски в    airports_nearest медианой по населенному пункту.\n",
    "for name in flat_data['locality_name'].unique():\n",
    "    data_filter_isna = flat_data['airports_nearest'].isna() & (flat_data['locality_name'] == name)\n",
    "    data_filter =  (flat_data['locality_name'] == name)\n",
    "    len_data_filter = len(flat_data.loc[data_filter , 'airports_nearest'])\n",
    "    len_data_filter_isna = len(flat_data.loc[data_filter_isna , 'airports_nearest'])\n",
    "    if len_data_filter > len_data_filter_isna and len_data_filter_isna !=0:\n",
    "        n+=1\n",
    "        flat_data.loc[data_filter_isna , 'airports_nearest'] = flat_data.loc[flat_data['locality_name'] == name \n",
    "                                                                             , 'airports_nearest'].median()\n",
    "\n",
    "if n == 0:\n",
    "    print('Населенных пунктов со значениями в столбце airports_nearest и пропусками нет, поэтому можно сделать вывод ,\\n что пропущеные значения целиком принадлежат одному населенному пункту')\n",
    "    print('Поэтому заменить пропуски медианой или средним по населенному пункту не представляется возможным')\n",
    "else: \n",
    "    print('Количество населенных пунктов, по которым можно заполнить пропуски: ',n)\n",
    "                \n",
    "print('Количество пропусков в airports_nearest после замены: ', flat_data['airports_nearest'].isna().sum())\n"
   ]
  },
  {
   "cell_type": "code",
   "execution_count": 21,
   "metadata": {},
   "outputs": [
    {
     "name": "stdout",
     "output_type": "stream",
     "text": [
      "Количество пропусков в airports_nearest после замены индикаторным значением:  0\n"
     ]
    }
   ],
   "source": [
    "# Оставшиеся пропуски заменяем индикаторным значением -1000\n",
    "flat_data['airports_nearest'] = flat_data['airports_nearest'].fillna(-1000)\n",
    "\n",
    "print('Количество пропусков в airports_nearest после замены индикаторным значением: '\n",
    "      , flat_data['airports_nearest'].isna().sum())\n"
   ]
  },
  {
   "cell_type": "markdown",
   "metadata": {},
   "source": [
    "#### Вывод: \n",
    "Заполняем по медиане расстояния соответствующего населенного пункта. Проверив пропуски и их соотношение со столбцом locality_name, было определено, что большая часть пропусков относится к отдельным населенным пунктам. Т.е. по отдельному населенному пункту нет никакой информации о его расположении относительно центра и аэропорта. К этим столбцам не получается применить какую либо гипотезу, которая позволит корректно заполнить пропущенные значения. Поэтому заполняем пропуски индикаторным значением -1000, чтобы это было видно на графиках\n",
    "\n",
    "---"
   ]
  },
  {
   "cell_type": "markdown",
   "metadata": {},
   "source": [
    "#### Заполняем пропуски в столбцах parks_around3000 , parks_nearest , ponds_around3000 , ponds_nearest"
   ]
  },
  {
   "cell_type": "code",
   "execution_count": 22,
   "metadata": {},
   "outputs": [
    {
     "name": "stdout",
     "output_type": "stream",
     "text": [
      "Уникальные значения в parks_around3000:\n",
      "[ 1.  0.  2. nan  3.]\n",
      "Уникальные значения в ponds_around3000:\n",
      "[ 2.  0.  3.  1. nan]\n"
     ]
    }
   ],
   "source": [
    "# Определим уникальный значения по столбцам parks_around3000 ponds_around3000\n",
    "print('Уникальные значения в parks_around3000:')\n",
    "print(flat_data['parks_around3000'].unique())\n",
    "print('Уникальные значения в ponds_around3000:')\n",
    "print(flat_data['ponds_around3000'].unique())\n",
    "\n"
   ]
  },
  {
   "cell_type": "code",
   "execution_count": 23,
   "metadata": {},
   "outputs": [
    {
     "name": "stdout",
     "output_type": "stream",
     "text": [
      "Максимальное значение в столбце parks_nearest:   3190.0\n",
      "Минимальное значение в столбце parks_nearest:   1.0\n",
      "Медиана значений в столбце parks_nearest:   455.0\n",
      "Количество пропусков в parks_nearest:  15535\n"
     ]
    }
   ],
   "source": [
    "# Проверим значения в столбце parks_nearest\n",
    "print('Максимальное значение в столбце parks_nearest:  ' ,flat_data['parks_nearest'].max())\n",
    "print('Минимальное значение в столбце parks_nearest:  ' , flat_data['parks_nearest'].min())\n",
    "print('Медиана значений в столбце parks_nearest:  ' , flat_data['parks_nearest'].median())\n",
    "print('Количество пропусков в parks_nearest: ' , flat_data['parks_nearest'].isna().sum())"
   ]
  },
  {
   "cell_type": "code",
   "execution_count": 24,
   "metadata": {},
   "outputs": [
    {
     "name": "stdout",
     "output_type": "stream",
     "text": [
      "Максимальное значение в столбце ponds_nearest:   1344.0\n",
      "Минимальное значение в столбце ponds_nearest:   13.0\n",
      "Медиана значений в столбце ponds_nearest:   503.0\n",
      "Количество пропусков в ponds_nearest:  14529\n"
     ]
    }
   ],
   "source": [
    "# Проверим значения в столбце ponds_nearest\n",
    "print('Максимальное значение в столбце ponds_nearest:  ' ,flat_data['ponds_nearest'].max())\n",
    "print('Минимальное значение в столбце ponds_nearest:  ' , flat_data['ponds_nearest'].min())\n",
    "print('Медиана значений в столбце ponds_nearest:  ' , flat_data['ponds_nearest'].median())\n",
    "print('Количество пропусков в ponds_nearest: ' , flat_data['ponds_nearest'].isna().sum())"
   ]
  },
  {
   "cell_type": "code",
   "execution_count": 25,
   "metadata": {},
   "outputs": [
    {
     "name": "stdout",
     "output_type": "stream",
     "text": [
      "Количество пропусков в столбце parks_around3000 при расстоянии в parks_nearest больше нуля:\n",
      "0\n",
      "Количество пропусков в столбце ponds_around3000 при расстоянии в parks_nearest больше нуля:\n",
      "0\n"
     ]
    }
   ],
   "source": [
    "# Как соотносятся пропуски с расстоянием до парка и пруда\n",
    "print('Количество пропусков в столбце parks_around3000 при расстоянии в parks_nearest больше нуля:')\n",
    "print(len(flat_data.loc[flat_data['parks_around3000'].isna() &  flat_data['parks_nearest'] >0, 'parks_nearest']))\n",
    "print('Количество пропусков в столбце ponds_around3000 при расстоянии в parks_nearest больше нуля:')\n",
    "print(len(flat_data.loc[flat_data['ponds_around3000'].isna() &  flat_data['ponds_nearest'] >0, 'ponds_nearest']))"
   ]
  },
  {
   "cell_type": "code",
   "execution_count": 26,
   "metadata": {},
   "outputs": [
    {
     "name": "stdout",
     "output_type": "stream",
     "text": [
      "Количество пропусков в parks_nearest после замены: 5500\n",
      "Количество пропусков в ponds_nearest  после замены: 5500\n"
     ]
    }
   ],
   "source": [
    "# Заменим пропуски в parks_around3000 и ponds_around3000 нулями.\n",
    "flat_data['parks_around3000'].fillna(0)\n",
    "flat_data['ponds_around3000'].fillna(0)\n",
    "# Заменим пропуски в parks_nearest и ponds_nearest нулям там где нули parks_around3000 и ponds_around3000\n",
    "flat_data.loc[(flat_data['parks_nearest'].isna()) & (flat_data['parks_around3000'] == 0), 'parks_nearest'] = 0\n",
    "flat_data.loc[(flat_data['ponds_nearest'].isna()) & (flat_data['ponds_around3000'] == 0), 'ponds_nearest'] = 0\n",
    "\n",
    "print('Количество пропусков в parks_nearest после замены:' , flat_data['parks_nearest'].isna().sum())\n",
    "\n",
    "print('Количество пропусков в ponds_nearest  после замены:' , flat_data['ponds_nearest'].isna().sum())\n"
   ]
  },
  {
   "cell_type": "code",
   "execution_count": 27,
   "metadata": {},
   "outputs": [
    {
     "name": "stdout",
     "output_type": "stream",
     "text": [
      "Количество пропусков в parks_around3000 после замены индикаторным значением:  0\n"
     ]
    }
   ],
   "source": [
    "# Оставшиеся пропуски parks_around3000 заменяем индикаторным значением -1 \n",
    "flat_data['parks_around3000'] = flat_data['parks_around3000'].fillna(-1)\n",
    "\n",
    "print('Количество пропусков в parks_around3000 после замены индикаторным значением: '\n",
    "      , flat_data['parks_around3000'].isna().sum())\n"
   ]
  },
  {
   "cell_type": "code",
   "execution_count": 28,
   "metadata": {},
   "outputs": [
    {
     "name": "stdout",
     "output_type": "stream",
     "text": [
      "Количество пропусков в ponds_around3000 после замены индикаторным значением:  0\n"
     ]
    }
   ],
   "source": [
    "# Оставшиеся пропуски ponds_around3000 заменяем индикаторным значением -1 \n",
    "flat_data['ponds_around3000'] = flat_data['ponds_around3000'].fillna(-1)\n",
    "\n",
    "print('Количество пропусков в ponds_around3000 после замены индикаторным значением: '\n",
    "      , flat_data['ponds_around3000'].isna().sum())\n"
   ]
  },
  {
   "cell_type": "code",
   "execution_count": 29,
   "metadata": {},
   "outputs": [
    {
     "name": "stdout",
     "output_type": "stream",
     "text": [
      "Количество пропусков в parks_nearest после замены индикаторным значением:  0\n"
     ]
    }
   ],
   "source": [
    "# Оставшиеся пропуски parks_nearest заменяем индикаторным значением -1 \n",
    "flat_data['parks_nearest'] = flat_data['parks_nearest'].fillna(-500)\n",
    "\n",
    "print('Количество пропусков в parks_nearest после замены индикаторным значением: '\n",
    "      , flat_data['parks_nearest'].isna().sum())\n"
   ]
  },
  {
   "cell_type": "code",
   "execution_count": 30,
   "metadata": {},
   "outputs": [
    {
     "name": "stdout",
     "output_type": "stream",
     "text": [
      "Количество пропусков в ponds_nearest после замены индикаторным значением:  0\n"
     ]
    }
   ],
   "source": [
    "# Оставшиеся пропуски ponds_nearest заменяем индикаторным значением -500 \n",
    "flat_data['ponds_nearest'] = flat_data['ponds_nearest'].fillna(-500)\n",
    "\n",
    "print('Количество пропусков в ponds_nearest после замены индикаторным значением: '\n",
    "      , flat_data['ponds_nearest'].isna().sum())\n"
   ]
  },
  {
   "cell_type": "markdown",
   "metadata": {},
   "source": [
    "#### Вывод: \n",
    "Заполняем по медиане расстояния соответствующего населенного пункта. Проверив пропуски и их соотношение со столбцом locality_name, было определено, что большая часть пропусков относится к отдельным населенным пунктам. Т.е. по отдельному населенному пункту нет никакой информации о его расположении относительно центра и аэропорта. К этим столбцам не получается применить какую либо гипотезу, которая позволит корректно заполнить пропущенные значения. Поэтому заполняем пропуски индикаторным значением -5 для количества и -500 для расстояния, чтобы это было видно на графиках."
   ]
  },
  {
   "cell_type": "markdown",
   "metadata": {},
   "source": [
    "---\n",
    "## Комментарий от наставника\n",
    "\n",
    "Пропуски в географических столбцах, которые заполняются автоматически, заполнить разумным значением трудно. Верная замена с использованием индикаторного значения, сигнализирующем о пропуске в данной ячейке.\n",
    "\n",
    "---"
   ]
  },
  {
   "cell_type": "markdown",
   "metadata": {},
   "source": [
    "#### Заполняем пропуски в столбцах days_exposition"
   ]
  },
  {
   "cell_type": "code",
   "execution_count": 31,
   "metadata": {},
   "outputs": [
    {
     "name": "stdout",
     "output_type": "stream",
     "text": [
      "Максимальное значение в столбце days_exposition:   1580.0\n",
      "Минимальное значение в столбце days_exposition:   1.0\n",
      "Медиана значений в столбце days_exposition:   95.0\n",
      "Количество пропусков в days_exposition:  3171\n"
     ]
    }
   ],
   "source": [
    "# Проверим значения в столбце days_exposition\n",
    "print('Максимальное значение в столбце days_exposition:  ' ,flat_data['days_exposition'].max())\n",
    "print('Минимальное значение в столбце days_exposition:  ' , flat_data['days_exposition'].min())\n",
    "print('Медиана значений в столбце days_exposition:  ' , flat_data['days_exposition'].median())\n",
    "print('Количество пропусков в days_exposition: ' , flat_data['days_exposition'].isna().sum())\n"
   ]
  },
  {
   "cell_type": "code",
   "execution_count": 32,
   "metadata": {},
   "outputs": [
    {
     "name": "stdout",
     "output_type": "stream",
     "text": [
      "Исходные статистические характеристики: count    20394.000000\n",
      "mean       180.741395\n",
      "std        219.732782\n",
      "min          1.000000\n",
      "25%         45.000000\n",
      "50%         95.000000\n",
      "75%        231.000000\n",
      "max       1580.000000\n",
      "Name: days_exposition, dtype: float64\n"
     ]
    },
    {
     "data": {
      "image/png": "[encoded data removed]",
      "text/plain": [
       "<Figure size 720x360 with 1 Axes>"
      ]
     },
     "metadata": {
      "needs_background": "light"
     },
     "output_type": "display_data"
    }
   ],
   "source": [
    "# Проверим на гистограмме значения столбца days_exposition\n",
    "flat_data['days_exposition'].hist(bins = 50 , grid=True , figsize = (10,5))\n",
    "print('Исходные статистические характеристики:' ,flat_data['days_exposition'].describe())"
   ]
  },
  {
   "cell_type": "code",
   "execution_count": 33,
   "metadata": {},
   "outputs": [
    {
     "name": "stdout",
     "output_type": "stream",
     "text": [
      "Статистические характеристики после замены медианой: count    23565.000000\n",
      "mean       169.203692\n",
      "std        206.497729\n",
      "min          1.000000\n",
      "25%         45.000000\n",
      "50%         95.000000\n",
      "75%        198.000000\n",
      "max       1580.000000\n",
      "Name: days_exposition, dtype: float64\n",
      "Статистические характеристики после замены средним: count    23565.000000\n",
      "mean       180.741395\n",
      "std        204.414127\n",
      "min          1.000000\n",
      "25%         45.000000\n",
      "50%        124.000000\n",
      "75%        198.000000\n",
      "max       1580.000000\n",
      "Name: days_exposition, dtype: float64\n"
     ]
    }
   ],
   "source": [
    "# Заменим пропуски медианой и проверим \n",
    "data_days_exp = flat_data['days_exposition']\n",
    "data_days_exp = data_days_exp.fillna(data_days_exp.median())\n",
    "print('Статистические характеристики после замены медианой:' , data_days_exp.describe())\n",
    "\n",
    "# Заменим пропуски средним и проверим \n",
    "data_days_exp = flat_data['days_exposition']\n",
    "data_days_exp = data_days_exp.fillna(data_days_exp.mean())\n",
    "print('Статистические характеристики после замены средним:' , data_days_exp.describe())"
   ]
  },
  {
   "cell_type": "code",
   "execution_count": 34,
   "metadata": {},
   "outputs": [
    {
     "name": "stdout",
     "output_type": "stream",
     "text": [
      "Статистические характеристики после замены 0: count    23565.000000\n",
      "mean       156.420115\n",
      "std        213.517293\n",
      "min          0.000000\n",
      "25%         22.000000\n",
      "50%         73.000000\n",
      "75%        198.000000\n",
      "max       1580.000000\n",
      "Name: days_exposition, dtype: float64\n"
     ]
    }
   ],
   "source": [
    "# Заменим пропуски 0 и проверим \n",
    "data_days_exp = flat_data['days_exposition']\n",
    "data_days_exp = data_days_exp.fillna(0)\n",
    "print('Статистические характеристики после замены 0:' , data_days_exp.describe())"
   ]
  },
  {
   "cell_type": "code",
   "execution_count": 35,
   "metadata": {},
   "outputs": [
    {
     "name": "stdout",
     "output_type": "stream",
     "text": [
      "Количество пропусков в days_exposition после замены индикаторным значением:  0\n"
     ]
    }
   ],
   "source": [
    "# Пропуски days_exposition заменяем индикаторным значением -1 \n",
    "flat_data['days_exposition'] = flat_data['days_exposition'].fillna(-50)\n",
    "\n",
    "print('Количество пропусков в days_exposition после замены индикаторным значением: '\n",
    "      , flat_data['days_exposition'].isna().sum())\n"
   ]
  },
  {
   "cell_type": "markdown",
   "metadata": {},
   "source": [
    "#### Вывод. \n",
    "Методом describe() определены исходные статистические характеристики значений. При сравнении характеристик исходных значений и значений после предварительной замены медианой и средним, было определено, что замена средним, медианой, нулем сильно искажает значения. Поэтому такая замена не является корректной. По этой причине пропуски заменяем индикаторным значением -50, чтобы это было видно на графиках.\n",
    "\n",
    "---"
   ]
  },
  {
   "cell_type": "markdown",
   "metadata": {},
   "source": [
    "#### Изменяем тип данных"
   ]
  },
  {
   "cell_type": "code",
   "execution_count": 36,
   "metadata": {},
   "outputs": [],
   "source": [
    "# Заменим тип количественных данных на тип данных int\n",
    "flat_data[['floors_total' ,\n",
    "           'balcony',\n",
    "           'last_price' , \n",
    "           'total_area', \n",
    "           'ceiling_height', \n",
    "           'living_area', \n",
    "           'kitchen_area', \n",
    "           'airports_nearest' , \n",
    "           'cityCenters_nearest' , \n",
    "           'parks_around3000' ,\n",
    "           'ponds_around3000' ,\n",
    "           'parks_nearest' ,\n",
    "            'ponds_nearest' , \n",
    "           'days_exposition' ]] = flat_data[['floors_total' ,\n",
    "                                              'balcony' ,\n",
    "                                              'last_price' , \n",
    "                                              'total_area', \n",
    "                                              'ceiling_height', \n",
    "                                              'living_area', \n",
    "                                              'kitchen_area', \n",
    "                                              'airports_nearest' , \n",
    "                                              'cityCenters_nearest' , \n",
    "                                              'parks_around3000' ,\n",
    "                                               'ponds_around3000' ,\n",
    "                                               'parks_nearest' ,\n",
    "                                                'ponds_nearest' ,\n",
    "                                              'days_exposition']].astype('int')"
   ]
  },
  {
   "cell_type": "code",
   "execution_count": 37,
   "metadata": {},
   "outputs": [
    {
     "name": "stdout",
     "output_type": "stream",
     "text": [
      "<class 'pandas.core.frame.DataFrame'>\n",
      "RangeIndex: 23565 entries, 0 to 23564\n",
      "Data columns (total 23 columns):\n",
      "total_images            23565 non-null int64\n",
      "last_price              23565 non-null int64\n",
      "total_area              23565 non-null int64\n",
      "first_day_exposition    23565 non-null datetime64[ns]\n",
      "rooms                   23565 non-null int64\n",
      "ceiling_height          23565 non-null int64\n",
      "floors_total            23565 non-null int64\n",
      "living_area             23565 non-null int64\n",
      "floor                   23565 non-null int64\n",
      "is_apartment            23565 non-null bool\n",
      "studio                  23565 non-null bool\n",
      "open_plan               23565 non-null bool\n",
      "kitchen_area            23565 non-null int64\n",
      "balcony                 23565 non-null int64\n",
      "locality_name           23565 non-null object\n",
      "airports_nearest        23565 non-null int64\n",
      "cityCenters_nearest     23565 non-null int64\n",
      "parks_around3000        23565 non-null int64\n",
      "parks_nearest           23565 non-null int64\n",
      "ponds_around3000        23565 non-null int64\n",
      "ponds_nearest           23565 non-null int64\n",
      "days_exposition         23565 non-null int64\n",
      "total_area_category     23565 non-null category\n",
      "dtypes: bool(3), category(1), datetime64[ns](1), int64(17), object(1)\n",
      "memory usage: 3.5+ MB\n"
     ]
    }
   ],
   "source": [
    "# Преобразуем столбец с датой first_day_exposition к правильному типу\n",
    "flat_data['first_day_exposition'] = pd.to_datetime(flat_data['first_day_exposition'] , format = '%Y-%m-%dT%H:%M:%S')\n",
    "\n",
    "flat_data.info()"
   ]
  },
  {
   "cell_type": "markdown",
   "metadata": {},
   "source": [
    "#### Проверяем пропуски после преобразований:"
   ]
  },
  {
   "cell_type": "code",
   "execution_count": 38,
   "metadata": {},
   "outputs": [
    {
     "name": "stdout",
     "output_type": "stream",
     "text": [
      "Пропуски в таблице после преобразований:\n",
      "total_images            0\n",
      "last_price              0\n",
      "total_area              0\n",
      "first_day_exposition    0\n",
      "rooms                   0\n",
      "ceiling_height          0\n",
      "floors_total            0\n",
      "living_area             0\n",
      "floor                   0\n",
      "is_apartment            0\n",
      "studio                  0\n",
      "open_plan               0\n",
      "kitchen_area            0\n",
      "balcony                 0\n",
      "locality_name           0\n",
      "airports_nearest        0\n",
      "cityCenters_nearest     0\n",
      "parks_around3000        0\n",
      "parks_nearest           0\n",
      "ponds_around3000        0\n",
      "ponds_nearest           0\n",
      "days_exposition         0\n",
      "total_area_category     0\n",
      "dtype: int64\n"
     ]
    },
    {
     "data": {
      "text/html": [
       "<div>\n",
       "<style scoped>\n",
       "    .dataframe tbody tr th:only-of-type {\n",
       "        vertical-align: middle;\n",
       "    }\n",
       "\n",
       "    .dataframe tbody tr th {\n",
       "        vertical-align: top;\n",
       "    }\n",
       "\n",
       "    .dataframe thead th {\n",
       "        text-align: right;\n",
       "    }\n",
       "</style>\n",
       "<table border=\"1\" class=\"dataframe\">\n",
       "  <thead>\n",
       "    <tr style=\"text-align: right;\">\n",
       "      <th></th>\n",
       "      <th>total_images</th>\n",
       "      <th>last_price</th>\n",
       "      <th>total_area</th>\n",
       "      <th>first_day_exposition</th>\n",
       "      <th>rooms</th>\n",
       "      <th>ceiling_height</th>\n",
       "      <th>floors_total</th>\n",
       "      <th>living_area</th>\n",
       "      <th>floor</th>\n",
       "      <th>is_apartment</th>\n",
       "      <th>...</th>\n",
       "      <th>balcony</th>\n",
       "      <th>locality_name</th>\n",
       "      <th>airports_nearest</th>\n",
       "      <th>cityCenters_nearest</th>\n",
       "      <th>parks_around3000</th>\n",
       "      <th>parks_nearest</th>\n",
       "      <th>ponds_around3000</th>\n",
       "      <th>ponds_nearest</th>\n",
       "      <th>days_exposition</th>\n",
       "      <th>total_area_category</th>\n",
       "    </tr>\n",
       "  </thead>\n",
       "  <tbody>\n",
       "    <tr>\n",
       "      <td>0</td>\n",
       "      <td>20</td>\n",
       "      <td>13000000</td>\n",
       "      <td>108</td>\n",
       "      <td>2019-03-07</td>\n",
       "      <td>3</td>\n",
       "      <td>2</td>\n",
       "      <td>16</td>\n",
       "      <td>51</td>\n",
       "      <td>8</td>\n",
       "      <td>False</td>\n",
       "      <td>...</td>\n",
       "      <td>0</td>\n",
       "      <td>Санкт-Петербург</td>\n",
       "      <td>18863</td>\n",
       "      <td>16028</td>\n",
       "      <td>1</td>\n",
       "      <td>482</td>\n",
       "      <td>2</td>\n",
       "      <td>755</td>\n",
       "      <td>-50</td>\n",
       "      <td>(100, 110]</td>\n",
       "    </tr>\n",
       "    <tr>\n",
       "      <td>1</td>\n",
       "      <td>7</td>\n",
       "      <td>3350000</td>\n",
       "      <td>40</td>\n",
       "      <td>2018-12-04</td>\n",
       "      <td>1</td>\n",
       "      <td>2</td>\n",
       "      <td>11</td>\n",
       "      <td>18</td>\n",
       "      <td>1</td>\n",
       "      <td>False</td>\n",
       "      <td>...</td>\n",
       "      <td>2</td>\n",
       "      <td>посёлок Шушары</td>\n",
       "      <td>12817</td>\n",
       "      <td>18603</td>\n",
       "      <td>0</td>\n",
       "      <td>0</td>\n",
       "      <td>0</td>\n",
       "      <td>0</td>\n",
       "      <td>81</td>\n",
       "      <td>(40, 50]</td>\n",
       "    </tr>\n",
       "    <tr>\n",
       "      <td>2</td>\n",
       "      <td>10</td>\n",
       "      <td>5196000</td>\n",
       "      <td>56</td>\n",
       "      <td>2015-08-20</td>\n",
       "      <td>2</td>\n",
       "      <td>2</td>\n",
       "      <td>5</td>\n",
       "      <td>34</td>\n",
       "      <td>4</td>\n",
       "      <td>False</td>\n",
       "      <td>...</td>\n",
       "      <td>0</td>\n",
       "      <td>Санкт-Петербург</td>\n",
       "      <td>21741</td>\n",
       "      <td>13933</td>\n",
       "      <td>1</td>\n",
       "      <td>90</td>\n",
       "      <td>2</td>\n",
       "      <td>574</td>\n",
       "      <td>558</td>\n",
       "      <td>(50, 60]</td>\n",
       "    </tr>\n",
       "    <tr>\n",
       "      <td>3</td>\n",
       "      <td>0</td>\n",
       "      <td>64900000</td>\n",
       "      <td>159</td>\n",
       "      <td>2015-07-24</td>\n",
       "      <td>3</td>\n",
       "      <td>3</td>\n",
       "      <td>14</td>\n",
       "      <td>95</td>\n",
       "      <td>9</td>\n",
       "      <td>False</td>\n",
       "      <td>...</td>\n",
       "      <td>0</td>\n",
       "      <td>Санкт-Петербург</td>\n",
       "      <td>28098</td>\n",
       "      <td>6800</td>\n",
       "      <td>2</td>\n",
       "      <td>84</td>\n",
       "      <td>3</td>\n",
       "      <td>234</td>\n",
       "      <td>424</td>\n",
       "      <td>(150, 175]</td>\n",
       "    </tr>\n",
       "    <tr>\n",
       "      <td>4</td>\n",
       "      <td>2</td>\n",
       "      <td>10000000</td>\n",
       "      <td>100</td>\n",
       "      <td>2018-06-19</td>\n",
       "      <td>2</td>\n",
       "      <td>3</td>\n",
       "      <td>14</td>\n",
       "      <td>32</td>\n",
       "      <td>13</td>\n",
       "      <td>False</td>\n",
       "      <td>...</td>\n",
       "      <td>0</td>\n",
       "      <td>Санкт-Петербург</td>\n",
       "      <td>31856</td>\n",
       "      <td>8098</td>\n",
       "      <td>2</td>\n",
       "      <td>112</td>\n",
       "      <td>1</td>\n",
       "      <td>48</td>\n",
       "      <td>121</td>\n",
       "      <td>(90, 100]</td>\n",
       "    </tr>\n",
       "    <tr>\n",
       "      <td>5</td>\n",
       "      <td>10</td>\n",
       "      <td>2890000</td>\n",
       "      <td>30</td>\n",
       "      <td>2018-09-10</td>\n",
       "      <td>1</td>\n",
       "      <td>2</td>\n",
       "      <td>12</td>\n",
       "      <td>14</td>\n",
       "      <td>5</td>\n",
       "      <td>False</td>\n",
       "      <td>...</td>\n",
       "      <td>0</td>\n",
       "      <td>городской посёлок Янино-1</td>\n",
       "      <td>-1000</td>\n",
       "      <td>-1000</td>\n",
       "      <td>-1</td>\n",
       "      <td>-500</td>\n",
       "      <td>-1</td>\n",
       "      <td>-500</td>\n",
       "      <td>55</td>\n",
       "      <td>(30, 40]</td>\n",
       "    </tr>\n",
       "    <tr>\n",
       "      <td>6</td>\n",
       "      <td>6</td>\n",
       "      <td>3700000</td>\n",
       "      <td>37</td>\n",
       "      <td>2017-11-02</td>\n",
       "      <td>1</td>\n",
       "      <td>2</td>\n",
       "      <td>26</td>\n",
       "      <td>10</td>\n",
       "      <td>6</td>\n",
       "      <td>False</td>\n",
       "      <td>...</td>\n",
       "      <td>1</td>\n",
       "      <td>посёлок Парголово</td>\n",
       "      <td>52996</td>\n",
       "      <td>19143</td>\n",
       "      <td>0</td>\n",
       "      <td>0</td>\n",
       "      <td>0</td>\n",
       "      <td>0</td>\n",
       "      <td>155</td>\n",
       "      <td>(30, 40]</td>\n",
       "    </tr>\n",
       "    <tr>\n",
       "      <td>7</td>\n",
       "      <td>5</td>\n",
       "      <td>7915000</td>\n",
       "      <td>71</td>\n",
       "      <td>2019-04-18</td>\n",
       "      <td>2</td>\n",
       "      <td>2</td>\n",
       "      <td>24</td>\n",
       "      <td>45</td>\n",
       "      <td>22</td>\n",
       "      <td>False</td>\n",
       "      <td>...</td>\n",
       "      <td>2</td>\n",
       "      <td>Санкт-Петербург</td>\n",
       "      <td>23982</td>\n",
       "      <td>11634</td>\n",
       "      <td>0</td>\n",
       "      <td>0</td>\n",
       "      <td>0</td>\n",
       "      <td>0</td>\n",
       "      <td>-50</td>\n",
       "      <td>(70, 80]</td>\n",
       "    </tr>\n",
       "    <tr>\n",
       "      <td>8</td>\n",
       "      <td>20</td>\n",
       "      <td>2900000</td>\n",
       "      <td>33</td>\n",
       "      <td>2018-05-23</td>\n",
       "      <td>1</td>\n",
       "      <td>2</td>\n",
       "      <td>27</td>\n",
       "      <td>15</td>\n",
       "      <td>26</td>\n",
       "      <td>False</td>\n",
       "      <td>...</td>\n",
       "      <td>0</td>\n",
       "      <td>посёлок Мурино</td>\n",
       "      <td>-1000</td>\n",
       "      <td>-1000</td>\n",
       "      <td>-1</td>\n",
       "      <td>-500</td>\n",
       "      <td>-1</td>\n",
       "      <td>-500</td>\n",
       "      <td>189</td>\n",
       "      <td>(30, 40]</td>\n",
       "    </tr>\n",
       "    <tr>\n",
       "      <td>9</td>\n",
       "      <td>18</td>\n",
       "      <td>5400000</td>\n",
       "      <td>61</td>\n",
       "      <td>2017-02-26</td>\n",
       "      <td>3</td>\n",
       "      <td>2</td>\n",
       "      <td>9</td>\n",
       "      <td>43</td>\n",
       "      <td>7</td>\n",
       "      <td>False</td>\n",
       "      <td>...</td>\n",
       "      <td>2</td>\n",
       "      <td>Санкт-Петербург</td>\n",
       "      <td>50898</td>\n",
       "      <td>15008</td>\n",
       "      <td>0</td>\n",
       "      <td>0</td>\n",
       "      <td>0</td>\n",
       "      <td>0</td>\n",
       "      <td>289</td>\n",
       "      <td>(60, 70]</td>\n",
       "    </tr>\n",
       "  </tbody>\n",
       "</table>\n",
       "<p>10 rows × 23 columns</p>\n",
       "</div>"
      ],
      "text/plain": [
       "   total_images  last_price  total_area first_day_exposition  rooms  \\\n",
       "0            20    13000000         108           2019-03-07      3   \n",
       "1             7     3350000          40           2018-12-04      1   \n",
       "2            10     5196000          56           2015-08-20      2   \n",
       "3             0    64900000         159           2015-07-24      3   \n",
       "4             2    10000000         100           2018-06-19      2   \n",
       "5            10     2890000          30           2018-09-10      1   \n",
       "6             6     3700000          37           2017-11-02      1   \n",
       "7             5     7915000          71           2019-04-18      2   \n",
       "8            20     2900000          33           2018-05-23      1   \n",
       "9            18     5400000          61           2017-02-26      3   \n",
       "\n",
       "   ceiling_height  floors_total  living_area  floor  is_apartment  ...  \\\n",
       "0               2            16           51      8         False  ...   \n",
       "1               2            11           18      1         False  ...   \n",
       "2               2             5           34      4         False  ...   \n",
       "3               3            14           95      9         False  ...   \n",
       "4               3            14           32     13         False  ...   \n",
       "5               2            12           14      5         False  ...   \n",
       "6               2            26           10      6         False  ...   \n",
       "7               2            24           45     22         False  ...   \n",
       "8               2            27           15     26         False  ...   \n",
       "9               2             9           43      7         False  ...   \n",
       "\n",
       "   balcony              locality_name  airports_nearest  cityCenters_nearest  \\\n",
       "0        0            Санкт-Петербург             18863                16028   \n",
       "1        2             посёлок Шушары             12817                18603   \n",
       "2        0            Санкт-Петербург             21741                13933   \n",
       "3        0            Санкт-Петербург             28098                 6800   \n",
       "4        0            Санкт-Петербург             31856                 8098   \n",
       "5        0  городской посёлок Янино-1             -1000                -1000   \n",
       "6        1          посёлок Парголово             52996                19143   \n",
       "7        2            Санкт-Петербург             23982                11634   \n",
       "8        0             посёлок Мурино             -1000                -1000   \n",
       "9        2            Санкт-Петербург             50898                15008   \n",
       "\n",
       "  parks_around3000  parks_nearest  ponds_around3000  ponds_nearest  \\\n",
       "0                1            482                 2            755   \n",
       "1                0              0                 0              0   \n",
       "2                1             90                 2            574   \n",
       "3                2             84                 3            234   \n",
       "4                2            112                 1             48   \n",
       "5               -1           -500                -1           -500   \n",
       "6                0              0                 0              0   \n",
       "7                0              0                 0              0   \n",
       "8               -1           -500                -1           -500   \n",
       "9                0              0                 0              0   \n",
       "\n",
       "   days_exposition  total_area_category  \n",
       "0              -50           (100, 110]  \n",
       "1               81             (40, 50]  \n",
       "2              558             (50, 60]  \n",
       "3              424           (150, 175]  \n",
       "4              121            (90, 100]  \n",
       "5               55             (30, 40]  \n",
       "6              155             (30, 40]  \n",
       "7              -50             (70, 80]  \n",
       "8              189             (30, 40]  \n",
       "9              289             (60, 70]  \n",
       "\n",
       "[10 rows x 23 columns]"
      ]
     },
     "execution_count": 38,
     "metadata": {},
     "output_type": "execute_result"
    }
   ],
   "source": [
    "#Проверим наличие пропусков в таблице после преобразований:\n",
    "print('Пропуски в таблице после преобразований:')\n",
    "print(flat_data.isna().sum())\n",
    "\n",
    "flat_data.head(10)"
   ]
  },
  {
   "cell_type": "markdown",
   "metadata": {},
   "source": [
    "Комментарии и выводы по предобработке данных.\n",
    " - **floors_total**. Пропусков в столбце floors_total всего 86, что составляет 86/23698 = 0,4%. Влияние на данные не значительно, поэтому пропуски удаляем. Т.к. пропусков мало, то можно предположить, что при составлении объявления количество этажей не знали или забыли указать.\n",
    " \n",
    " \n",
    " - **balcony**. Пропусков в столбце balcony всего 11519. Предположим, что пропуск появился от указания, что в кавартире нет балконов. В этом случае можем заменить пропуск на False. Заменяем на 0. \n",
    " \n",
    " \n",
    " - **is_apartment**. В столбце is_apartment вместе с пропусками есть значения True и  False. Предположим, что пропуск появился по причине указания, что кавартира не является аппартаментами. В этом случае можем заменить пропуск на False.\n",
    " \n",
    " \n",
    " - **locality_name**. Т.к. общее количество пропусков незначительно и никак не повлияет на результаты (0,2%), то эти строки можно удалить.\n",
    " \n",
    " \n",
    " - **living_area , kitchen_area**. Пропуски площадей заполняем медианой значени по категории площади. Для этого методом cut() для каждого значения общей площади в столбце total_area присваиваем категорию. В исходную таблицу добавляем столбец с категориями. Методом pivot_table() делаем сводную таблицу по категориям площади со значениями медиан столбцов living_area и kitchen_area. На гистограмме видно, что большая часть квартир имеет площадь до 150квм, поэтому в этом промежутке категории делаем чаще, с шагом 10, а после 150 с шагом 25, чтобы сократить количество значений. Далее циклом заполняем пропуски в основной таблице значениями из сводной таблицы. Методом describe() определили, что такая замена почти не повлияла на статистические характеристики.\n",
    " \n",
    " \n",
    " - **ceiling_height**. Проверив максимальнео и минимальнео значения видно, что есть аномальные значения. Поэтому пропуски необходимо заменять медианой. Медиана всех значений составляет 2,65м, что не реалистично для квартир с большой площадью. Проверив в сводной таблице медианы по категориям площадей аналогично тому, как это делалось для площадей, можно сделать выводы, что аномальных значений нет и эти значения можно применить для замены пропусков в столбце. Далее циклом заполняем пропуски в основной таблице значениями из сводной таблицы.\n",
    " \n",
    " \n",
    " - **cityCenters_nearest , airports_nearest**  заполняем по медиане расстояния соответствующего населенного пункта. Проверив пропуски и их соотношение со столбцом locality_name, было определено, что большая часть пропусков относится к отдельным населенным пунктам. Т.е. по отдельному населенному пункту нет никакой информации о его расположении относительно центра и аэропорта. К этим столбцам не получается применить какую либо гипотезу, которая позволит корректно заполнить пропущенные значения. Поэтому заполняем пропуски индикаторным значением -1.\n",
    " \n",
    " \n",
    " - **parks_around3000 , parks_nearest , ponds_around3000 , ponds_nearest**. В столбцах с количеством парков и прудов в радиусе 3км вероятное появление пропусков это отсутствие парков или прудов, т.е. значение 0. Проверив также эти значения со значениями пропусков в расстоянии до парков и прудов можно сделать вывод, что пропуски являются 0, поэтому заменяем пропуски в количестве на 0. Соответствующие пропуски в столбцах с расстоянием также заменяем на 0. К оставшимся пропускам не получается применить какую либо гипотезу, которая позволит корректно заполнить пропущенные значения. Поэтому заполняем пропуски индикаторным значением -1.\n",
    " \n",
    " \n",
    " - **days_exposition**. Методом describe() определены исходные статистические характеристики значений. При сравнении характеристик исходных значений и значений после замены медианой и средним, было определено, что замена средним, медианой, нулем сильно искажает значения. Поэтому такая заменая не является корректной. Поэтому заполняем пропуски индикаторным значением -1.\n",
    " \n",
    "#### Замена типа данных.\n",
    "\n",
    "    Для удобства работы с таблицей и сокращения использования памяти в столбцах заменены вещественные числа на целые методом astype(). \n",
    "    Для работы с датой публикации столбец first_day_exposition преобразован к типу данных datetime64[ns] методом to_datetime()"
   ]
  },
  {
   "cell_type": "markdown",
   "metadata": {},
   "source": [
    "### Шаг 3. Посчитайте и добавьте в таблицу"
   ]
  },
  {
   "cell_type": "code",
   "execution_count": 39,
   "metadata": {},
   "outputs": [],
   "source": [
    "#Считаем и добавляем цену квадратного метра\n",
    "flat_data['price_per_area'] = round(flat_data['last_price'] / flat_data['total_area'] , 2)\n",
    "\n",
    "# Добавляем день недели, месяц и год публикации объявления\n",
    "flat_data['weekday'] = flat_data['first_day_exposition'].dt.weekday\n",
    "flat_data['month'] = flat_data['first_day_exposition'].dt.month\n",
    "flat_data['year'] = flat_data['first_day_exposition'].dt.year"
   ]
  },
  {
   "cell_type": "code",
   "execution_count": 40,
   "metadata": {},
   "outputs": [],
   "source": [
    "# Добавляем в таблицу категории этажей\n",
    "flat_data['floor_category'] = flat_data['floor'].where(flat_data['floor'] !=1, 'Первый')\n",
    "flat_data['floor_category'] = flat_data['floor_category'].where(flat_data['floor']!=flat_data['floors_total'], 'Последний')\n",
    "flat_data['floor_category'] = flat_data['floor_category'].where(flat_data['floor_category']\n",
    "                                                                .isin(['Первый' , 'Последний']), 'Другой')\n"
   ]
  },
  {
   "cell_type": "code",
   "execution_count": 41,
   "metadata": {},
   "outputs": [],
   "source": [
    "# Добавляем соотношение жилой площади и площади кухни\n",
    "flat_data['living_coef'] = round(flat_data['living_area'] / flat_data['total_area'] , 2) \n",
    "flat_data['kitchen_coef'] = round(flat_data['kitchen_area'] / flat_data['total_area'] , 2)\n"
   ]
  },
  {
   "cell_type": "code",
   "execution_count": 42,
   "metadata": {},
   "outputs": [
    {
     "data": {
      "text/html": [
       "<div>\n",
       "<style scoped>\n",
       "    .dataframe tbody tr th:only-of-type {\n",
       "        vertical-align: middle;\n",
       "    }\n",
       "\n",
       "    .dataframe tbody tr th {\n",
       "        vertical-align: top;\n",
       "    }\n",
       "\n",
       "    .dataframe thead th {\n",
       "        text-align: right;\n",
       "    }\n",
       "</style>\n",
       "<table border=\"1\" class=\"dataframe\">\n",
       "  <thead>\n",
       "    <tr style=\"text-align: right;\">\n",
       "      <th></th>\n",
       "      <th>total_images</th>\n",
       "      <th>last_price</th>\n",
       "      <th>total_area</th>\n",
       "      <th>first_day_exposition</th>\n",
       "      <th>rooms</th>\n",
       "      <th>ceiling_height</th>\n",
       "      <th>floors_total</th>\n",
       "      <th>living_area</th>\n",
       "      <th>floor</th>\n",
       "      <th>is_apartment</th>\n",
       "      <th>...</th>\n",
       "      <th>ponds_nearest</th>\n",
       "      <th>days_exposition</th>\n",
       "      <th>total_area_category</th>\n",
       "      <th>price_per_area</th>\n",
       "      <th>weekday</th>\n",
       "      <th>month</th>\n",
       "      <th>year</th>\n",
       "      <th>floor_category</th>\n",
       "      <th>living_coef</th>\n",
       "      <th>kitchen_coef</th>\n",
       "    </tr>\n",
       "  </thead>\n",
       "  <tbody>\n",
       "    <tr>\n",
       "      <td>0</td>\n",
       "      <td>20</td>\n",
       "      <td>13000000</td>\n",
       "      <td>108</td>\n",
       "      <td>2019-03-07</td>\n",
       "      <td>3</td>\n",
       "      <td>2</td>\n",
       "      <td>16</td>\n",
       "      <td>51</td>\n",
       "      <td>8</td>\n",
       "      <td>False</td>\n",
       "      <td>...</td>\n",
       "      <td>755</td>\n",
       "      <td>-50</td>\n",
       "      <td>(100, 110]</td>\n",
       "      <td>120370.37</td>\n",
       "      <td>3</td>\n",
       "      <td>3</td>\n",
       "      <td>2019</td>\n",
       "      <td>Другой</td>\n",
       "      <td>0.47</td>\n",
       "      <td>0.23</td>\n",
       "    </tr>\n",
       "    <tr>\n",
       "      <td>1</td>\n",
       "      <td>7</td>\n",
       "      <td>3350000</td>\n",
       "      <td>40</td>\n",
       "      <td>2018-12-04</td>\n",
       "      <td>1</td>\n",
       "      <td>2</td>\n",
       "      <td>11</td>\n",
       "      <td>18</td>\n",
       "      <td>1</td>\n",
       "      <td>False</td>\n",
       "      <td>...</td>\n",
       "      <td>0</td>\n",
       "      <td>81</td>\n",
       "      <td>(40, 50]</td>\n",
       "      <td>83750.00</td>\n",
       "      <td>1</td>\n",
       "      <td>12</td>\n",
       "      <td>2018</td>\n",
       "      <td>Первый</td>\n",
       "      <td>0.45</td>\n",
       "      <td>0.28</td>\n",
       "    </tr>\n",
       "    <tr>\n",
       "      <td>2</td>\n",
       "      <td>10</td>\n",
       "      <td>5196000</td>\n",
       "      <td>56</td>\n",
       "      <td>2015-08-20</td>\n",
       "      <td>2</td>\n",
       "      <td>2</td>\n",
       "      <td>5</td>\n",
       "      <td>34</td>\n",
       "      <td>4</td>\n",
       "      <td>False</td>\n",
       "      <td>...</td>\n",
       "      <td>574</td>\n",
       "      <td>558</td>\n",
       "      <td>(50, 60]</td>\n",
       "      <td>92785.71</td>\n",
       "      <td>3</td>\n",
       "      <td>8</td>\n",
       "      <td>2015</td>\n",
       "      <td>Другой</td>\n",
       "      <td>0.61</td>\n",
       "      <td>0.14</td>\n",
       "    </tr>\n",
       "    <tr>\n",
       "      <td>3</td>\n",
       "      <td>0</td>\n",
       "      <td>64900000</td>\n",
       "      <td>159</td>\n",
       "      <td>2015-07-24</td>\n",
       "      <td>3</td>\n",
       "      <td>3</td>\n",
       "      <td>14</td>\n",
       "      <td>95</td>\n",
       "      <td>9</td>\n",
       "      <td>False</td>\n",
       "      <td>...</td>\n",
       "      <td>234</td>\n",
       "      <td>424</td>\n",
       "      <td>(150, 175]</td>\n",
       "      <td>408176.10</td>\n",
       "      <td>4</td>\n",
       "      <td>7</td>\n",
       "      <td>2015</td>\n",
       "      <td>Другой</td>\n",
       "      <td>0.60</td>\n",
       "      <td>0.12</td>\n",
       "    </tr>\n",
       "    <tr>\n",
       "      <td>4</td>\n",
       "      <td>2</td>\n",
       "      <td>10000000</td>\n",
       "      <td>100</td>\n",
       "      <td>2018-06-19</td>\n",
       "      <td>2</td>\n",
       "      <td>3</td>\n",
       "      <td>14</td>\n",
       "      <td>32</td>\n",
       "      <td>13</td>\n",
       "      <td>False</td>\n",
       "      <td>...</td>\n",
       "      <td>48</td>\n",
       "      <td>121</td>\n",
       "      <td>(90, 100]</td>\n",
       "      <td>100000.00</td>\n",
       "      <td>1</td>\n",
       "      <td>6</td>\n",
       "      <td>2018</td>\n",
       "      <td>Другой</td>\n",
       "      <td>0.32</td>\n",
       "      <td>0.41</td>\n",
       "    </tr>\n",
       "    <tr>\n",
       "      <td>5</td>\n",
       "      <td>10</td>\n",
       "      <td>2890000</td>\n",
       "      <td>30</td>\n",
       "      <td>2018-09-10</td>\n",
       "      <td>1</td>\n",
       "      <td>2</td>\n",
       "      <td>12</td>\n",
       "      <td>14</td>\n",
       "      <td>5</td>\n",
       "      <td>False</td>\n",
       "      <td>...</td>\n",
       "      <td>-500</td>\n",
       "      <td>55</td>\n",
       "      <td>(30, 40]</td>\n",
       "      <td>96333.33</td>\n",
       "      <td>0</td>\n",
       "      <td>9</td>\n",
       "      <td>2018</td>\n",
       "      <td>Другой</td>\n",
       "      <td>0.47</td>\n",
       "      <td>0.30</td>\n",
       "    </tr>\n",
       "    <tr>\n",
       "      <td>6</td>\n",
       "      <td>6</td>\n",
       "      <td>3700000</td>\n",
       "      <td>37</td>\n",
       "      <td>2017-11-02</td>\n",
       "      <td>1</td>\n",
       "      <td>2</td>\n",
       "      <td>26</td>\n",
       "      <td>10</td>\n",
       "      <td>6</td>\n",
       "      <td>False</td>\n",
       "      <td>...</td>\n",
       "      <td>0</td>\n",
       "      <td>155</td>\n",
       "      <td>(30, 40]</td>\n",
       "      <td>100000.00</td>\n",
       "      <td>3</td>\n",
       "      <td>11</td>\n",
       "      <td>2017</td>\n",
       "      <td>Другой</td>\n",
       "      <td>0.27</td>\n",
       "      <td>0.38</td>\n",
       "    </tr>\n",
       "    <tr>\n",
       "      <td>7</td>\n",
       "      <td>5</td>\n",
       "      <td>7915000</td>\n",
       "      <td>71</td>\n",
       "      <td>2019-04-18</td>\n",
       "      <td>2</td>\n",
       "      <td>2</td>\n",
       "      <td>24</td>\n",
       "      <td>45</td>\n",
       "      <td>22</td>\n",
       "      <td>False</td>\n",
       "      <td>...</td>\n",
       "      <td>0</td>\n",
       "      <td>-50</td>\n",
       "      <td>(70, 80]</td>\n",
       "      <td>111478.87</td>\n",
       "      <td>3</td>\n",
       "      <td>4</td>\n",
       "      <td>2019</td>\n",
       "      <td>Другой</td>\n",
       "      <td>0.63</td>\n",
       "      <td>0.25</td>\n",
       "    </tr>\n",
       "    <tr>\n",
       "      <td>8</td>\n",
       "      <td>20</td>\n",
       "      <td>2900000</td>\n",
       "      <td>33</td>\n",
       "      <td>2018-05-23</td>\n",
       "      <td>1</td>\n",
       "      <td>2</td>\n",
       "      <td>27</td>\n",
       "      <td>15</td>\n",
       "      <td>26</td>\n",
       "      <td>False</td>\n",
       "      <td>...</td>\n",
       "      <td>-500</td>\n",
       "      <td>189</td>\n",
       "      <td>(30, 40]</td>\n",
       "      <td>87878.79</td>\n",
       "      <td>2</td>\n",
       "      <td>5</td>\n",
       "      <td>2018</td>\n",
       "      <td>Другой</td>\n",
       "      <td>0.45</td>\n",
       "      <td>0.24</td>\n",
       "    </tr>\n",
       "    <tr>\n",
       "      <td>9</td>\n",
       "      <td>18</td>\n",
       "      <td>5400000</td>\n",
       "      <td>61</td>\n",
       "      <td>2017-02-26</td>\n",
       "      <td>3</td>\n",
       "      <td>2</td>\n",
       "      <td>9</td>\n",
       "      <td>43</td>\n",
       "      <td>7</td>\n",
       "      <td>False</td>\n",
       "      <td>...</td>\n",
       "      <td>0</td>\n",
       "      <td>289</td>\n",
       "      <td>(60, 70]</td>\n",
       "      <td>88524.59</td>\n",
       "      <td>6</td>\n",
       "      <td>2</td>\n",
       "      <td>2017</td>\n",
       "      <td>Другой</td>\n",
       "      <td>0.70</td>\n",
       "      <td>0.10</td>\n",
       "    </tr>\n",
       "  </tbody>\n",
       "</table>\n",
       "<p>10 rows × 30 columns</p>\n",
       "</div>"
      ],
      "text/plain": [
       "   total_images  last_price  total_area first_day_exposition  rooms  \\\n",
       "0            20    13000000         108           2019-03-07      3   \n",
       "1             7     3350000          40           2018-12-04      1   \n",
       "2            10     5196000          56           2015-08-20      2   \n",
       "3             0    64900000         159           2015-07-24      3   \n",
       "4             2    10000000         100           2018-06-19      2   \n",
       "5            10     2890000          30           2018-09-10      1   \n",
       "6             6     3700000          37           2017-11-02      1   \n",
       "7             5     7915000          71           2019-04-18      2   \n",
       "8            20     2900000          33           2018-05-23      1   \n",
       "9            18     5400000          61           2017-02-26      3   \n",
       "\n",
       "   ceiling_height  floors_total  living_area  floor  is_apartment  ...  \\\n",
       "0               2            16           51      8         False  ...   \n",
       "1               2            11           18      1         False  ...   \n",
       "2               2             5           34      4         False  ...   \n",
       "3               3            14           95      9         False  ...   \n",
       "4               3            14           32     13         False  ...   \n",
       "5               2            12           14      5         False  ...   \n",
       "6               2            26           10      6         False  ...   \n",
       "7               2            24           45     22         False  ...   \n",
       "8               2            27           15     26         False  ...   \n",
       "9               2             9           43      7         False  ...   \n",
       "\n",
       "   ponds_nearest  days_exposition  total_area_category  price_per_area  \\\n",
       "0            755              -50           (100, 110]       120370.37   \n",
       "1              0               81             (40, 50]        83750.00   \n",
       "2            574              558             (50, 60]        92785.71   \n",
       "3            234              424           (150, 175]       408176.10   \n",
       "4             48              121            (90, 100]       100000.00   \n",
       "5           -500               55             (30, 40]        96333.33   \n",
       "6              0              155             (30, 40]       100000.00   \n",
       "7              0              -50             (70, 80]       111478.87   \n",
       "8           -500              189             (30, 40]        87878.79   \n",
       "9              0              289             (60, 70]        88524.59   \n",
       "\n",
       "  weekday  month  year  floor_category  living_coef  kitchen_coef  \n",
       "0       3      3  2019          Другой         0.47          0.23  \n",
       "1       1     12  2018          Первый         0.45          0.28  \n",
       "2       3      8  2015          Другой         0.61          0.14  \n",
       "3       4      7  2015          Другой         0.60          0.12  \n",
       "4       1      6  2018          Другой         0.32          0.41  \n",
       "5       0      9  2018          Другой         0.47          0.30  \n",
       "6       3     11  2017          Другой         0.27          0.38  \n",
       "7       3      4  2019          Другой         0.63          0.25  \n",
       "8       2      5  2018          Другой         0.45          0.24  \n",
       "9       6      2  2017          Другой         0.70          0.10  \n",
       "\n",
       "[10 rows x 30 columns]"
      ]
     },
     "execution_count": 42,
     "metadata": {},
     "output_type": "execute_result"
    }
   ],
   "source": [
    "\n",
    "flat_data.head(10)"
   ]
  },
  {
   "cell_type": "markdown",
   "metadata": {},
   "source": [
    "### Шаг 4. Проведите исследовательский анализ данных и выполните инструкции:"
   ]
  },
  {
   "cell_type": "markdown",
   "metadata": {},
   "source": [
    "#### Гистограммы для площади, цена , число комнат, высота потолков по исходным данным"
   ]
  },
  {
   "cell_type": "code",
   "execution_count": 43,
   "metadata": {
    "scrolled": false
   },
   "outputs": [],
   "source": [
    "# Функция рисования гистограммы\n",
    "def hist_func(data, column, boxplot_bool ,min_value ,max_value , bins):\n",
    "    print('Гистограмма ', column)\n",
    "    if max_value >0 or min_value>0:\n",
    "        xlim_max = max_value\n",
    "        xlim_min = min_value\n",
    "    else:\n",
    "        xlim_max = data[column].max()\n",
    "        xlim_min = data[column].min()\n",
    "    if boxplot_bool == True:\n",
    "        data.boxplot(column = column )\n",
    "        plt.show()     \n",
    "    data[column].plot(bins = bins, grid = True , figsize = (10,3) , xlim=(xlim_min, xlim_max) , kind='hist' )\n",
    "    return plt.show()\n"
   ]
  },
  {
   "cell_type": "code",
   "execution_count": 44,
   "metadata": {},
   "outputs": [
    {
     "name": "stdout",
     "output_type": "stream",
     "text": [
      "Гистограмма  total_area\n"
     ]
    },
    {
     "data": {
      "image/png": "[encoded data removed]",
      "text/plain": [
       "<Figure size 720x216 with 1 Axes>"
      ]
     },
     "metadata": {
      "needs_background": "light"
     },
     "output_type": "display_data"
    },
    {
     "name": "stdout",
     "output_type": "stream",
     "text": [
      "Гистограмма  last_price\n"
     ]
    },
    {
     "data": {
      "image/png": "[encoded data removed]",
      "text/plain": [
       "<Figure size 720x216 with 1 Axes>"
      ]
     },
     "metadata": {
      "needs_background": "light"
     },
     "output_type": "display_data"
    },
    {
     "name": "stdout",
     "output_type": "stream",
     "text": [
      "Гистограмма  rooms\n"
     ]
    },
    {
     "data": {
      "image/png": "[encoded data removed]",
      "text/plain": [
       "<Figure size 720x216 with 1 Axes>"
      ]
     },
     "metadata": {
      "needs_background": "light"
     },
     "output_type": "display_data"
    },
    {
     "name": "stdout",
     "output_type": "stream",
     "text": [
      "Гистограмма  ceiling_height\n"
     ]
    },
    {
     "data": {
      "image/png": "[encoded data removed]",
      "text/plain": [
       "<Figure size 720x216 with 1 Axes>"
      ]
     },
     "metadata": {
      "needs_background": "light"
     },
     "output_type": "display_data"
    }
   ],
   "source": [
    "# Рисуем гистограммы\n",
    "hist_func(flat_data, 'total_area' , False , 0,0 , 100 )    \n",
    "hist_func(flat_data, 'last_price', False, 0,0 , 100)  \n",
    "hist_func(flat_data, 'rooms', False, 0,0, 100 )  \n",
    "hist_func(flat_data, 'ceiling_height', False, 0,0, 100) \n"
   ]
  },
  {
   "cell_type": "markdown",
   "metadata": {},
   "source": [
    "#### Изучаем время продажи квартиры"
   ]
  },
  {
   "cell_type": "code",
   "execution_count": 45,
   "metadata": {},
   "outputs": [
    {
     "name": "stdout",
     "output_type": "stream",
     "text": [
      "Гистограмма времени продажи квартиры\n"
     ]
    },
    {
     "data": {
      "image/png": "[encoded data removed]",
      "text/plain": [
       "<Figure size 720x360 with 1 Axes>"
      ]
     },
     "metadata": {
      "needs_background": "light"
     },
     "output_type": "display_data"
    },
    {
     "name": "stdout",
     "output_type": "stream",
     "text": [
      "Среднее значение времени продажи: 149.69 \n",
      "Медиана времени продажи:  73.0\n"
     ]
    },
    {
     "data": {
      "text/plain": [
       "count    23565.000000\n",
       "mean       149.691916\n",
       "std        219.056450\n",
       "min        -50.000000\n",
       "25%         22.000000\n",
       "50%         73.000000\n",
       "75%        198.000000\n",
       "max       1580.000000\n",
       "Name: days_exposition, dtype: float64"
      ]
     },
     "execution_count": 45,
     "metadata": {},
     "output_type": "execute_result"
    }
   ],
   "source": [
    "print('Гистограмма времени продажи квартиры')\n",
    "flat_data['days_exposition'].hist(bins = 100, grid = True , figsize = (10,5))\n",
    "plt.show()\n",
    "print('Среднее значение времени продажи: {:.2f} '. format(flat_data['days_exposition'].mean()))\n",
    "print('Медиана времени продажи: ', flat_data['days_exposition'].median())\n",
    "flat_data['days_exposition'].describe()"
   ]
  },
  {
   "cell_type": "markdown",
   "metadata": {},
   "source": [
    "#### Анализ времени продажи квартиры.\n",
    "Для анализа можно принять, что значения, попавшие в квартильный размах, определяют допустимое время продажи квартиры. \n",
    "Таким образом все, что продавалось менее 22 дней считаем быстрой продажей, а более 198 дня долгой продажей. Субъективная оценка близка к этим данным, т.к. продажа или покупка квартиры достаточно долгий процесс. Большое количество значений менее 10дней возможно говорит не о продаже квартиры, а о снятии объявления."
   ]
  },
  {
   "cell_type": "markdown",
   "metadata": {},
   "source": [
    "---\n",
    "## Комментарий от наставника\n",
    "\n",
    "Здорово, что есть гипотезы о быстрых и долгих сделках.\n",
    "\n",
    "---"
   ]
  },
  {
   "cell_type": "markdown",
   "metadata": {},
   "source": [
    "#### Убираем аномальные значения из столбцов  площади, цена , число комнат, высота потолков , времени продажи"
   ]
  },
  {
   "cell_type": "code",
   "execution_count": 46,
   "metadata": {
    "scrolled": false
   },
   "outputs": [
    {
     "name": "stdout",
     "output_type": "stream",
     "text": [
      "Гистограмма  total_area\n"
     ]
    },
    {
     "data": {
      "image/png": "[encoded data removed]",
      "text/plain": [
       "<Figure size 432x288 with 1 Axes>"
      ]
     },
     "metadata": {
      "needs_background": "light"
     },
     "output_type": "display_data"
    },
    {
     "data": {
      "image/png": "[encoded data removed]",
      "text/plain": [
       "<Figure size 720x216 with 1 Axes>"
      ]
     },
     "metadata": {
      "needs_background": "light"
     },
     "output_type": "display_data"
    },
    {
     "name": "stdout",
     "output_type": "stream",
     "text": [
      "Гистограмма  last_price\n"
     ]
    },
    {
     "data": {
      "image/png": "[encoded data removed]",
      "text/plain": [
       "<Figure size 432x288 with 1 Axes>"
      ]
     },
     "metadata": {
      "needs_background": "light"
     },
     "output_type": "display_data"
    },
    {
     "data": {
      "image/png": "[encoded data removed]",
      "text/plain": [
       "<Figure size 720x216 with 1 Axes>"
      ]
     },
     "metadata": {
      "needs_background": "light"
     },
     "output_type": "display_data"
    },
    {
     "name": "stdout",
     "output_type": "stream",
     "text": [
      "Гистограмма  rooms\n"
     ]
    },
    {
     "data": {
      "image/png": "[encoded data removed]",
      "text/plain": [
       "<Figure size 432x288 with 1 Axes>"
      ]
     },
     "metadata": {
      "needs_background": "light"
     },
     "output_type": "display_data"
    },
    {
     "data": {
      "image/png": "[encoded data removed]",
      "text/plain": [
       "<Figure size 720x216 with 1 Axes>"
      ]
     },
     "metadata": {
      "needs_background": "light"
     },
     "output_type": "display_data"
    },
    {
     "name": "stdout",
     "output_type": "stream",
     "text": [
      "Гистограмма  ceiling_height\n"
     ]
    },
    {
     "data": {
      "image/png": "[encoded data removed]",
      "text/plain": [
       "<Figure size 432x288 with 1 Axes>"
      ]
     },
     "metadata": {
      "needs_background": "light"
     },
     "output_type": "display_data"
    },
    {
     "data": {
      "image/png": "[encoded data removed]",
      "text/plain": [
       "<Figure size 720x216 with 1 Axes>"
      ]
     },
     "metadata": {
      "needs_background": "light"
     },
     "output_type": "display_data"
    },
    {
     "name": "stdout",
     "output_type": "stream",
     "text": [
      "Гистограмма  days_exposition\n"
     ]
    },
    {
     "data": {
      "image/png": "[encoded data removed]",
      "text/plain": [
       "<Figure size 432x288 with 1 Axes>"
      ]
     },
     "metadata": {
      "needs_background": "light"
     },
     "output_type": "display_data"
    },
    {
     "data": {
      "image/png": "[encoded data removed]",
      "text/plain": [
       "<Figure size 720x216 with 1 Axes>"
      ]
     },
     "metadata": {
      "needs_background": "light"
     },
     "output_type": "display_data"
    }
   ],
   "source": [
    "# Выводим предварительные графики для анализа аномальных значений методом boxplot\n",
    "hist_func(flat_data, 'total_area' , True , 0, 0, 100 )    \n",
    "hist_func(flat_data,'last_price' , True , 0, 0, 100 )    \n",
    "hist_func(flat_data,'rooms' , True , 0, 0, 50 )    \n",
    "hist_func(flat_data,'ceiling_height' , True, 0,0, 100 )    \n",
    "hist_func(flat_data,'days_exposition' , True , 0,0, 100 )    "
   ]
  },
  {
   "cell_type": "code",
   "execution_count": 47,
   "metadata": {},
   "outputs": [
    {
     "name": "stdout",
     "output_type": "stream",
     "text": [
      "Гистограмма площади после исключения аномалий\n",
      "Гистограмма  total_area\n"
     ]
    },
    {
     "data": {
      "image/png": "[encoded data removed]",
      "text/plain": [
       "<Figure size 432x288 with 1 Axes>"
      ]
     },
     "metadata": {
      "needs_background": "light"
     },
     "output_type": "display_data"
    },
    {
     "data": {
      "image/png": "[encoded data removed]",
      "text/plain": [
       "<Figure size 720x216 with 1 Axes>"
      ]
     },
     "metadata": {
      "needs_background": "light"
     },
     "output_type": "display_data"
    }
   ],
   "source": [
    "# Проанализируем выбросы\n",
    "area_max = 150\n",
    "area_min = 20\n",
    "\n",
    "print('Гистограмма площади после исключения аномалий')\n",
    "# Рассмотрим и отсечем аномальные значения total_area\n",
    "plt.ylim(area_min,area_max) \n",
    "hist_func(flat_data , 'total_area' , True,area_min,area_max , 300)    \n",
    "\n",
    "#Результат сохраняем с новую таблицу\n",
    "data_good_area = flat_data.query('total_area > @area_min and total_area < @area_max')"
   ]
  },
  {
   "cell_type": "markdown",
   "metadata": {},
   "source": [
    "#### Вывод по аномалиям общей площади.\n",
    "Аномальными значениями площади приняты значения менее 20 м2 и более 150м2. Таким образом большая часть значений лежит в диапозоне до 70м2. \n",
    "\n",
    "В реальности эти значения могу быть ниже как на рынке эконом недвижимости (15м2) так и выше,  на рынке элитной недвижимости, где площади могут быть неограниченными. Большая часть продаж приходится на квартиры площадью от 30м2 до 50м2. Квартиры более 300м2, элитное жилье, является больше \"штучным\" товаром, к которому часто статистика не применима."
   ]
  },
  {
   "cell_type": "code",
   "execution_count": 48,
   "metadata": {},
   "outputs": [
    {
     "name": "stdout",
     "output_type": "stream",
     "text": [
      "Гистограмма цены  после исключения аномалий\n",
      "Гистограмма  last_price\n"
     ]
    },
    {
     "data": {
      "image/png": "[encoded data removed]",
      "text/plain": [
       "<Figure size 432x288 with 1 Axes>"
      ]
     },
     "metadata": {
      "needs_background": "light"
     },
     "output_type": "display_data"
    },
    {
     "data": {
      "image/png": "[encoded data removed]",
      "text/plain": [
       "<Figure size 720x216 with 1 Axes>"
      ]
     },
     "metadata": {
      "needs_background": "light"
     },
     "output_type": "display_data"
    }
   ],
   "source": [
    "# Проанализируем выбросы \n",
    "price_max = 20000000\n",
    "price_min = 100000\n",
    "\n",
    "print('Гистограмма цены  после исключения аномалий')\n",
    "# Рассмотрим и отсечем аномальные значения total_area\n",
    "plt.ylim(price_min,price_max) \n",
    "hist_func(flat_data , 'last_price' , True,price_min,price_max, 1500) \n",
    "\n",
    "#Результат сохраняем с новую таблицу\n",
    "data_good_price = flat_data.query('last_price > @price_min and last_price < @price_max')"
   ]
  },
  {
   "cell_type": "markdown",
   "metadata": {},
   "source": [
    "#### Вывод по аномалиям цены.\n",
    "Аномальными значениями цены приняты значения менее 100 000 и более 20 000 000 ."
   ]
  },
  {
   "cell_type": "code",
   "execution_count": 49,
   "metadata": {},
   "outputs": [
    {
     "name": "stdout",
     "output_type": "stream",
     "text": [
      "Гистограмма цены  после исключения аномалий\n",
      "Гистограмма  rooms\n"
     ]
    },
    {
     "data": {
      "image/png": "[encoded data removed]",
      "text/plain": [
       "<Figure size 432x288 with 1 Axes>"
      ]
     },
     "metadata": {
      "needs_background": "light"
     },
     "output_type": "display_data"
    },
    {
     "data": {
      "image/png": "[encoded data removed]",
      "text/plain": [
       "<Figure size 720x216 with 1 Axes>"
      ]
     },
     "metadata": {
      "needs_background": "light"
     },
     "output_type": "display_data"
    }
   ],
   "source": [
    "# Проанализируем выбросы\n",
    "rooms_max = 6\n",
    "rooms_min = 0\n",
    "\n",
    "print('Гистограмма цены  после исключения аномалий')\n",
    "# Рассмотрим и отсечем аномальные значения rooms\n",
    "plt.ylim(rooms_min,rooms_max) \n",
    "hist_func(flat_data , 'rooms' , True,rooms_min,rooms_max, 300) \n",
    "\n",
    "#Результат сохраняем с новую таблицу\n",
    "data_good_rooms = flat_data.query('rooms > @rooms_min and rooms < @rooms_max')"
   ]
  },
  {
   "cell_type": "markdown",
   "metadata": {},
   "source": [
    "#### Вывод по аномалиям количества комнат.\n",
    "Число комнат. Аномальными значениями количества комнат приняты значения менее 1 и более 6. Большая часть продаж приходится на 1- и 2-х комнатные квартры. Аналогично предыдущим столбцам для элитного жилья количество комнат может быть значительно больше."
   ]
  },
  {
   "cell_type": "code",
   "execution_count": 50,
   "metadata": {},
   "outputs": [
    {
     "name": "stdout",
     "output_type": "stream",
     "text": [
      "Гистограмма высоты потолка  после исключения аномалий\n",
      "Гистограмма  ceiling_height\n"
     ]
    },
    {
     "data": {
      "image/png": "[encoded data removed]",
      "text/plain": [
       "<Figure size 432x288 with 1 Axes>"
      ]
     },
     "metadata": {
      "needs_background": "light"
     },
     "output_type": "display_data"
    },
    {
     "data": {
      "image/png": "[encoded data removed]",
      "text/plain": [
       "<Figure size 720x216 with 1 Axes>"
      ]
     },
     "metadata": {
      "needs_background": "light"
     },
     "output_type": "display_data"
    }
   ],
   "source": [
    "# Проанализируем выбросы\n",
    "ceiling_max = 5\n",
    "ceiling_min = 1\n",
    "\n",
    "print('Гистограмма высоты потолка  после исключения аномалий')\n",
    "# Рассмотрим и отсечем аномальные значения ceiling_height\n",
    "plt.ylim(ceiling_min,ceiling_max) \n",
    "hist_func(flat_data , 'ceiling_height' , True,ceiling_min,ceiling_max, 200) \n",
    "\n",
    "#Результат сохраняем с новую таблицу\n",
    "data_good_ceiling = flat_data.query('ceiling_height > @ceiling_min and ceiling_height < @ceiling_max')"
   ]
  },
  {
   "cell_type": "markdown",
   "metadata": {},
   "source": [
    "#### Вывод по аномалиям высоты потолка.\n",
    "Аномальными значениями приняты значения менее 2,5 м и более 5м. Разброс значений на гистограмме не позволяет однозначно определить аномальные значения, поэтому примем максимум 6м исходя из логики."
   ]
  },
  {
   "cell_type": "code",
   "execution_count": 51,
   "metadata": {},
   "outputs": [
    {
     "name": "stdout",
     "output_type": "stream",
     "text": [
      "Гистограмма дней публикации  после исключения аномалий\n",
      "Гистограмма  days_exposition\n"
     ]
    },
    {
     "data": {
      "image/png": "[encoded data removed]",
      "text/plain": [
       "<Figure size 432x288 with 1 Axes>"
      ]
     },
     "metadata": {
      "needs_background": "light"
     },
     "output_type": "display_data"
    },
    {
     "data": {
      "image/png": "[encoded data removed]",
      "text/plain": [
       "<Figure size 720x216 with 1 Axes>"
      ]
     },
     "metadata": {
      "needs_background": "light"
     },
     "output_type": "display_data"
    }
   ],
   "source": [
    "# Проанализируем выбросы\n",
    "days_max = 700\n",
    "days_min = 10\n",
    "\n",
    "print('Гистограмма дней публикации  после исключения аномалий')\\\n",
    "\n",
    "# Рассмотрим и отсечем аномальные значения days_exposition\n",
    "plt.ylim(days_min,days_max) \n",
    "hist_func(flat_data , 'days_exposition' , True,days_min,days_max, 200) \n",
    "\n",
    "#Результат сохраняем с новую таблицу\n",
    "data_good_days = flat_data.query('days_exposition > @days_min and days_exposition < @days_max')"
   ]
  },
  {
   "cell_type": "markdown",
   "metadata": {},
   "source": [
    "#### Вывод по аномалиям дней публикации.\n",
    "Принимаем аномальными значения менее 10 дней и более 700. Большая часть значений попадает межквартильный размах."
   ]
  },
  {
   "cell_type": "markdown",
   "metadata": {},
   "source": [
    "### Влияние факторов на стоимость квартиры\n",
    "Какие факторы больше всего влияют на стоимость квартиры? Изучите, зависит ли цена от квадратного метра, числа комнат, удалённости от центра. Изучите зависимость цены от того, на каком этаже расположена квартира: первом, последнем или другом. Также изучите зависимость от даты размещения: дня недели, месяца и года."
   ]
  },
  {
   "cell_type": "code",
   "execution_count": 53,
   "metadata": {},
   "outputs": [
    {
     "data": {
      "text/html": [
       "<div>\n",
       "<style scoped>\n",
       "    .dataframe tbody tr th:only-of-type {\n",
       "        vertical-align: middle;\n",
       "    }\n",
       "\n",
       "    .dataframe tbody tr th {\n",
       "        vertical-align: top;\n",
       "    }\n",
       "\n",
       "    .dataframe thead th {\n",
       "        text-align: right;\n",
       "    }\n",
       "</style>\n",
       "<table border=\"1\" class=\"dataframe\">\n",
       "  <thead>\n",
       "    <tr style=\"text-align: right;\">\n",
       "      <th></th>\n",
       "      <th>last_price</th>\n",
       "      <th>total_area</th>\n",
       "      <th>rooms</th>\n",
       "      <th>cityCenters_nearest</th>\n",
       "      <th>floor_category</th>\n",
       "      <th>weekday</th>\n",
       "      <th>month</th>\n",
       "      <th>year</th>\n",
       "    </tr>\n",
       "  </thead>\n",
       "  <tbody>\n",
       "    <tr>\n",
       "      <td>1</td>\n",
       "      <td>3350000</td>\n",
       "      <td>40</td>\n",
       "      <td>1</td>\n",
       "      <td>18603</td>\n",
       "      <td>Первый</td>\n",
       "      <td>1</td>\n",
       "      <td>12</td>\n",
       "      <td>2018</td>\n",
       "    </tr>\n",
       "    <tr>\n",
       "      <td>2</td>\n",
       "      <td>5196000</td>\n",
       "      <td>56</td>\n",
       "      <td>2</td>\n",
       "      <td>13933</td>\n",
       "      <td>Другой</td>\n",
       "      <td>3</td>\n",
       "      <td>8</td>\n",
       "      <td>2015</td>\n",
       "    </tr>\n",
       "    <tr>\n",
       "      <td>4</td>\n",
       "      <td>10000000</td>\n",
       "      <td>100</td>\n",
       "      <td>2</td>\n",
       "      <td>8098</td>\n",
       "      <td>Другой</td>\n",
       "      <td>1</td>\n",
       "      <td>6</td>\n",
       "      <td>2018</td>\n",
       "    </tr>\n",
       "    <tr>\n",
       "      <td>6</td>\n",
       "      <td>3700000</td>\n",
       "      <td>37</td>\n",
       "      <td>1</td>\n",
       "      <td>19143</td>\n",
       "      <td>Другой</td>\n",
       "      <td>3</td>\n",
       "      <td>11</td>\n",
       "      <td>2017</td>\n",
       "    </tr>\n",
       "    <tr>\n",
       "      <td>9</td>\n",
       "      <td>5400000</td>\n",
       "      <td>61</td>\n",
       "      <td>3</td>\n",
       "      <td>15008</td>\n",
       "      <td>Другой</td>\n",
       "      <td>6</td>\n",
       "      <td>2</td>\n",
       "      <td>2017</td>\n",
       "    </tr>\n",
       "    <tr>\n",
       "      <td>10</td>\n",
       "      <td>5050000</td>\n",
       "      <td>39</td>\n",
       "      <td>1</td>\n",
       "      <td>13878</td>\n",
       "      <td>Другой</td>\n",
       "      <td>3</td>\n",
       "      <td>11</td>\n",
       "      <td>2017</td>\n",
       "    </tr>\n",
       "    <tr>\n",
       "      <td>13</td>\n",
       "      <td>3550000</td>\n",
       "      <td>42</td>\n",
       "      <td>2</td>\n",
       "      <td>33058</td>\n",
       "      <td>Последний</td>\n",
       "      <td>5</td>\n",
       "      <td>7</td>\n",
       "      <td>2017</td>\n",
       "    </tr>\n",
       "    <tr>\n",
       "      <td>14</td>\n",
       "      <td>4400000</td>\n",
       "      <td>36</td>\n",
       "      <td>1</td>\n",
       "      <td>30759</td>\n",
       "      <td>Первый</td>\n",
       "      <td>3</td>\n",
       "      <td>6</td>\n",
       "      <td>2016</td>\n",
       "    </tr>\n",
       "    <tr>\n",
       "      <td>15</td>\n",
       "      <td>4650000</td>\n",
       "      <td>39</td>\n",
       "      <td>1</td>\n",
       "      <td>14259</td>\n",
       "      <td>Другой</td>\n",
       "      <td>5</td>\n",
       "      <td>11</td>\n",
       "      <td>2017</td>\n",
       "    </tr>\n",
       "    <tr>\n",
       "      <td>16</td>\n",
       "      <td>6700000</td>\n",
       "      <td>82</td>\n",
       "      <td>3</td>\n",
       "      <td>10698</td>\n",
       "      <td>Первый</td>\n",
       "      <td>3</td>\n",
       "      <td>11</td>\n",
       "      <td>2017</td>\n",
       "    </tr>\n",
       "  </tbody>\n",
       "</table>\n",
       "</div>"
      ],
      "text/plain": [
       "    last_price  total_area  rooms  cityCenters_nearest floor_category  \\\n",
       "1      3350000          40      1                18603         Первый   \n",
       "2      5196000          56      2                13933         Другой   \n",
       "4     10000000         100      2                 8098         Другой   \n",
       "6      3700000          37      1                19143         Другой   \n",
       "9      5400000          61      3                15008         Другой   \n",
       "10     5050000          39      1                13878         Другой   \n",
       "13     3550000          42      2                33058      Последний   \n",
       "14     4400000          36      1                30759         Первый   \n",
       "15     4650000          39      1                14259         Другой   \n",
       "16     6700000          82      3                10698         Первый   \n",
       "\n",
       "    weekday  month  year  \n",
       "1         1     12  2018  \n",
       "2         3      8  2015  \n",
       "4         1      6  2018  \n",
       "6         3     11  2017  \n",
       "9         6      2  2017  \n",
       "10        3     11  2017  \n",
       "13        5      7  2017  \n",
       "14        3      6  2016  \n",
       "15        5     11  2017  \n",
       "16        3     11  2017  "
      ]
     },
     "execution_count": 53,
     "metadata": {},
     "output_type": "execute_result"
    }
   ],
   "source": [
    "# выделим интересуемые нас столбцы в отдельную таблицу с учетом отброса аномальных значений и индикаторных значений\n",
    "good_flat_data_full = (flat_data.\n",
    "                query('cityCenters_nearest> 0 and total_area > @area_min and total_area < @area_max and last_price > @price_min and last_price < @price_max and rooms > @rooms_min and rooms < @rooms_max and ceiling_height > @ceiling_min and ceiling_height < @ceiling_max and days_exposition > @days_min and days_exposition < @days_max')\n",
    "                 )\n",
    "\n",
    "# Выдели только интересующие нас столбцы в хорошей таблице\n",
    "good_flat_data = good_flat_data_full[['last_price','total_area' ,\n",
    "                                 'rooms' ,\n",
    "                                 'cityCenters_nearest',\n",
    "                                 'floor_category',\n",
    "                                 'weekday' ,\n",
    "                                 'month' ,\n",
    "                                 'year']]\n",
    "\n",
    "# Выдели только интересующие нас столбцы в исходной таблице\n",
    "flat_data_corr = flat_data[['last_price',\n",
    "                            'total_area' ,\n",
    "                            'rooms' ,\n",
    "                            'cityCenters_nearest',\n",
    "                            'floor_category',\n",
    "                            'weekday' ,\n",
    "                            'month' ,\n",
    "                            'year']]\n",
    "\n",
    "good_flat_data.head(10)\n"
   ]
  },
  {
   "cell_type": "code",
   "execution_count": 54,
   "metadata": {},
   "outputs": [
    {
     "name": "stdout",
     "output_type": "stream",
     "text": [
      "Корреляци параметров в фильтрованной таблице\n",
      "                     last_price  total_area  rooms  cityCenters_nearest  \\\n",
      "last_price                1.000       0.803  0.517               -0.361   \n",
      "total_area                0.803       1.000  0.795               -0.193   \n",
      "rooms                     0.517       0.795  1.000               -0.128   \n",
      "cityCenters_nearest      -0.361      -0.193 -0.128                1.000   \n",
      "weekday                  -0.009      -0.008 -0.009                0.004   \n",
      "month                     0.005       0.007  0.012               -0.015   \n",
      "year                     -0.008      -0.076 -0.061                0.019   \n",
      "\n",
      "                     weekday  month   year  \n",
      "last_price            -0.009  0.005 -0.008  \n",
      "total_area            -0.008  0.007 -0.076  \n",
      "rooms                 -0.009  0.012 -0.061  \n",
      "cityCenters_nearest    0.004 -0.015  0.019  \n",
      "weekday                1.000 -0.003 -0.001  \n",
      "month                 -0.003  1.000 -0.211  \n",
      "year                  -0.001 -0.211  1.000  \n",
      "\n",
      "Корреляци параметров в исходной таблице\n",
      "                     last_price  total_area  rooms  cityCenters_nearest  \\\n",
      "last_price                1.000       0.654  0.363               -0.039   \n",
      "total_area                0.654       1.000  0.759               -0.066   \n",
      "rooms                     0.363       0.759  1.000               -0.053   \n",
      "cityCenters_nearest      -0.039      -0.066 -0.053                1.000   \n",
      "weekday                   0.001      -0.006 -0.005                0.001   \n",
      "month                     0.003       0.005 -0.004               -0.006   \n",
      "year                     -0.043      -0.080 -0.054               -0.005   \n",
      "\n",
      "                     weekday  month   year  \n",
      "last_price             0.001  0.003 -0.043  \n",
      "total_area            -0.006  0.005 -0.080  \n",
      "rooms                 -0.005 -0.004 -0.054  \n",
      "cityCenters_nearest    0.001 -0.006 -0.005  \n",
      "weekday                1.000  0.012 -0.003  \n",
      "month                  0.012  1.000 -0.272  \n",
      "year                  -0.003 -0.272  1.000  \n"
     ]
    }
   ],
   "source": [
    "# Посмотрим на взаимосвязь между параметрами\n",
    "\n",
    "print('Корреляци параметров в фильтрованной таблице')\n",
    "print(round(good_flat_data.corr(),3))\n",
    "print()\n",
    "\n",
    "print('Корреляци параметров в исходной таблице')\n",
    "print(round(flat_data_corr.corr(),3))"
   ]
  },
  {
   "cell_type": "code",
   "execution_count": 55,
   "metadata": {},
   "outputs": [
    {
     "name": "stdout",
     "output_type": "stream",
     "text": [
      "           count    median\n",
      "count   1.000000 -0.949936\n",
      "median -0.949936  1.000000\n"
     ]
    },
    {
     "data": {
      "text/html": [
       "<div>\n",
       "<style scoped>\n",
       "    .dataframe tbody tr th:only-of-type {\n",
       "        vertical-align: middle;\n",
       "    }\n",
       "\n",
       "    .dataframe tbody tr th {\n",
       "        vertical-align: top;\n",
       "    }\n",
       "\n",
       "    .dataframe thead th {\n",
       "        text-align: right;\n",
       "    }\n",
       "</style>\n",
       "<table border=\"1\" class=\"dataframe\">\n",
       "  <thead>\n",
       "    <tr style=\"text-align: right;\">\n",
       "      <th></th>\n",
       "      <th>count</th>\n",
       "      <th>median</th>\n",
       "    </tr>\n",
       "    <tr>\n",
       "      <th>rooms</th>\n",
       "      <th></th>\n",
       "      <th></th>\n",
       "    </tr>\n",
       "  </thead>\n",
       "  <tbody>\n",
       "    <tr>\n",
       "      <td>1</td>\n",
       "      <td>4747</td>\n",
       "      <td>3900000</td>\n",
       "    </tr>\n",
       "    <tr>\n",
       "      <td>2</td>\n",
       "      <td>4594</td>\n",
       "      <td>5200000</td>\n",
       "    </tr>\n",
       "    <tr>\n",
       "      <td>3</td>\n",
       "      <td>3333</td>\n",
       "      <td>6500000</td>\n",
       "    </tr>\n",
       "    <tr>\n",
       "      <td>4</td>\n",
       "      <td>603</td>\n",
       "      <td>8200000</td>\n",
       "    </tr>\n",
       "    <tr>\n",
       "      <td>5</td>\n",
       "      <td>106</td>\n",
       "      <td>10800000</td>\n",
       "    </tr>\n",
       "  </tbody>\n",
       "</table>\n",
       "</div>"
      ],
      "text/plain": [
       "       count    median\n",
       "rooms                 \n",
       "1       4747   3900000\n",
       "2       4594   5200000\n",
       "3       3333   6500000\n",
       "4        603   8200000\n",
       "5        106  10800000"
      ]
     },
     "execution_count": 55,
     "metadata": {},
     "output_type": "execute_result"
    }
   ],
   "source": [
    "#зависимости цены от количества комнат\n",
    "# Сгруппируем данные по этажу и посчитаем количество значений и медиану\n",
    "pivot_rooms = good_flat_data.pivot_table(index = 'rooms' , values = 'last_price' , aggfunc = ['count' , 'median'])\n",
    "\n",
    "pivot_rooms.columns = ['count' , 'median']\n",
    "\n",
    "print(pivot_rooms.corr())\n",
    "pivot_rooms"
   ]
  },
  {
   "cell_type": "code",
   "execution_count": 56,
   "metadata": {},
   "outputs": [
    {
     "data": {
      "text/plain": [
       "[<matplotlib.lines.Line2D at 0x7f5a9a651a58>]"
      ]
     },
     "execution_count": 56,
     "metadata": {},
     "output_type": "execute_result"
    },
    {
     "data": {
      "image/png": "[encoded data removed]",
      "text/plain": [
       "<Figure size 432x288 with 1 Axes>"
      ]
     },
     "metadata": {
      "needs_background": "light"
     },
     "output_type": "display_data"
    }
   ],
   "source": [
    "#ГРафик зависимости между количеством комнат и стоимость квартиры.\n",
    "\n",
    "plt.plot(pivot_rooms.index, pivot_rooms['median'])"
   ]
  },
  {
   "cell_type": "markdown",
   "metadata": {},
   "source": [
    "#### Вывод по зависимости цены от количества комнат\n",
    "Из графика зависимости между количеством комнат и стоимостью квартиры видная явная зависимость - чем больше комнат тем дороже квартира.\n",
    "\n",
    "---"
   ]
  },
  {
   "cell_type": "code",
   "execution_count": 57,
   "metadata": {},
   "outputs": [
    {
     "data": {
      "text/plain": [
       "<matplotlib.axes._subplots.AxesSubplot at 0x7f5a98167a58>"
      ]
     },
     "execution_count": 57,
     "metadata": {},
     "output_type": "execute_result"
    },
    {
     "data": {
      "image/png": "[encoded data removed]",
      "text/plain": [
       "<Figure size 720x360 with 1 Axes>"
      ]
     },
     "metadata": {
      "needs_background": "light"
     },
     "output_type": "display_data"
    }
   ],
   "source": [
    "#график зависимости цены от удаленности от центра\n",
    "(good_flat_data\n",
    "        .sort_values('cityCenters_nearest')\n",
    "        .plot(x= 'cityCenters_nearest', y = 'last_price',\n",
    "                title = 'график зависимости цены от удаленности от центра' ,\n",
    "                grid = True , figsize =(10 , 5) , style = 'o')\n",
    ")"
   ]
  },
  {
   "cell_type": "markdown",
   "metadata": {},
   "source": [
    "#### Вывод по зависимости цены от расстояния до центра\n",
    "Коэффициент Пирсона по фильтрованным данным сотавляет 0,36 , что говорит о незначительном влиянии расстояния на цену.\n",
    "\n",
    "---"
   ]
  },
  {
   "cell_type": "code",
   "execution_count": 58,
   "metadata": {
    "scrolled": true
   },
   "outputs": [
    {
     "name": "stdout",
     "output_type": "stream",
     "text": [
      "          count   median\n",
      "count   1.00000  0.77233\n",
      "median  0.77233  1.00000\n"
     ]
    },
    {
     "data": {
      "text/html": [
       "<div>\n",
       "<style scoped>\n",
       "    .dataframe tbody tr th:only-of-type {\n",
       "        vertical-align: middle;\n",
       "    }\n",
       "\n",
       "    .dataframe tbody tr th {\n",
       "        vertical-align: top;\n",
       "    }\n",
       "\n",
       "    .dataframe thead th {\n",
       "        text-align: right;\n",
       "    }\n",
       "</style>\n",
       "<table border=\"1\" class=\"dataframe\">\n",
       "  <thead>\n",
       "    <tr style=\"text-align: right;\">\n",
       "      <th></th>\n",
       "      <th>count</th>\n",
       "      <th>median</th>\n",
       "    </tr>\n",
       "    <tr>\n",
       "      <th>floor_category</th>\n",
       "      <th></th>\n",
       "      <th></th>\n",
       "    </tr>\n",
       "  </thead>\n",
       "  <tbody>\n",
       "    <tr>\n",
       "      <td>Другой</td>\n",
       "      <td>10221</td>\n",
       "      <td>5100000</td>\n",
       "    </tr>\n",
       "    <tr>\n",
       "      <td>Первый</td>\n",
       "      <td>1498</td>\n",
       "      <td>4360000</td>\n",
       "    </tr>\n",
       "    <tr>\n",
       "      <td>Последний</td>\n",
       "      <td>1664</td>\n",
       "      <td>4847500</td>\n",
       "    </tr>\n",
       "  </tbody>\n",
       "</table>\n",
       "</div>"
      ],
      "text/plain": [
       "                count   median\n",
       "floor_category                \n",
       "Другой          10221  5100000\n",
       "Первый           1498  4360000\n",
       "Последний        1664  4847500"
      ]
     },
     "execution_count": 58,
     "metadata": {},
     "output_type": "execute_result"
    }
   ],
   "source": [
    "#зависимости цены от этажа\n",
    "# Сгруппируем данные по этажу и посчитаем количество значений и медиану\n",
    "pivot_floor = good_flat_data.pivot_table(index = 'floor_category' , values = 'last_price' , aggfunc = ['count' , 'median'])\n",
    "\n",
    "pivot_floor.columns = ['count' , 'median']\n",
    "\n",
    "print(pivot_floor.corr())\n",
    "pivot_floor"
   ]
  },
  {
   "cell_type": "markdown",
   "metadata": {},
   "source": [
    "#### Вывод по зависимости цены от  этажа\n",
    "Для анализа влияния этажа на стоимость достаточно увидеть цифры. Первый этаж дешевле других и последних этажей. \n",
    "А другие этажи и последний отличются в цене. Можно сделать вывод, что большим спросом пользются этажи кроме первого и последнего.\n",
    "\n",
    "---\n"
   ]
  },
  {
   "cell_type": "code",
   "execution_count": 59,
   "metadata": {},
   "outputs": [
    {
     "name": "stdout",
     "output_type": "stream",
     "text": [
      "           count    median\n",
      "count   1.000000  0.598833\n",
      "median  0.598833  1.000000\n"
     ]
    },
    {
     "data": {
      "text/html": [
       "<div>\n",
       "<style scoped>\n",
       "    .dataframe tbody tr th:only-of-type {\n",
       "        vertical-align: middle;\n",
       "    }\n",
       "\n",
       "    .dataframe tbody tr th {\n",
       "        vertical-align: top;\n",
       "    }\n",
       "\n",
       "    .dataframe thead th {\n",
       "        text-align: right;\n",
       "    }\n",
       "</style>\n",
       "<table border=\"1\" class=\"dataframe\">\n",
       "  <thead>\n",
       "    <tr style=\"text-align: right;\">\n",
       "      <th></th>\n",
       "      <th>count</th>\n",
       "      <th>median</th>\n",
       "    </tr>\n",
       "    <tr>\n",
       "      <th>weekday</th>\n",
       "      <th></th>\n",
       "      <th></th>\n",
       "    </tr>\n",
       "  </thead>\n",
       "  <tbody>\n",
       "    <tr>\n",
       "      <td>0</td>\n",
       "      <td>1982</td>\n",
       "      <td>4990000</td>\n",
       "    </tr>\n",
       "    <tr>\n",
       "      <td>1</td>\n",
       "      <td>2360</td>\n",
       "      <td>5000000</td>\n",
       "    </tr>\n",
       "    <tr>\n",
       "      <td>2</td>\n",
       "      <td>2201</td>\n",
       "      <td>4995000</td>\n",
       "    </tr>\n",
       "    <tr>\n",
       "      <td>3</td>\n",
       "      <td>2461</td>\n",
       "      <td>4990000</td>\n",
       "    </tr>\n",
       "    <tr>\n",
       "      <td>4</td>\n",
       "      <td>2370</td>\n",
       "      <td>4950000</td>\n",
       "    </tr>\n",
       "    <tr>\n",
       "      <td>5</td>\n",
       "      <td>1083</td>\n",
       "      <td>4990000</td>\n",
       "    </tr>\n",
       "    <tr>\n",
       "      <td>6</td>\n",
       "      <td>926</td>\n",
       "      <td>4860000</td>\n",
       "    </tr>\n",
       "  </tbody>\n",
       "</table>\n",
       "</div>"
      ],
      "text/plain": [
       "         count   median\n",
       "weekday                \n",
       "0         1982  4990000\n",
       "1         2360  5000000\n",
       "2         2201  4995000\n",
       "3         2461  4990000\n",
       "4         2370  4950000\n",
       "5         1083  4990000\n",
       "6          926  4860000"
      ]
     },
     "execution_count": 59,
     "metadata": {},
     "output_type": "execute_result"
    }
   ],
   "source": [
    "#зависимости цены от дня недели\n",
    "# Сгруппируем данные по дням недели и посчитаем количество значений и медиану цены\n",
    "pivot_weekday = good_flat_data.pivot_table(index = 'weekday' , values = 'last_price' , aggfunc = ['count' , 'median'])\n",
    "\n",
    "pivot_weekday.columns = ['count' , 'median']\n",
    "\n",
    "print(pivot_weekday.corr())\n",
    "pivot_weekday"
   ]
  },
  {
   "cell_type": "markdown",
   "metadata": {},
   "source": [
    "#### Вывод по анализу зависимости цены от дня недели\n",
    "Коэффициент Пирсона между количеством значений для каждого дня недели и цены показывает, что цена не зависит от дня недели.\n",
    "Из сводной таблице также видно, что значение медианы цены практически одинаково для всех дней. Видно, что на коэффициент корреляции влияет количество объявлений.\n",
    "\n",
    "\n",
    "---"
   ]
  },
  {
   "cell_type": "code",
   "execution_count": 60,
   "metadata": {},
   "outputs": [
    {
     "name": "stdout",
     "output_type": "stream",
     "text": [
      "           count    median\n",
      "count   1.000000 -0.060318\n",
      "median -0.060318  1.000000\n"
     ]
    },
    {
     "data": {
      "text/html": [
       "<div>\n",
       "<style scoped>\n",
       "    .dataframe tbody tr th:only-of-type {\n",
       "        vertical-align: middle;\n",
       "    }\n",
       "\n",
       "    .dataframe tbody tr th {\n",
       "        vertical-align: top;\n",
       "    }\n",
       "\n",
       "    .dataframe thead th {\n",
       "        text-align: right;\n",
       "    }\n",
       "</style>\n",
       "<table border=\"1\" class=\"dataframe\">\n",
       "  <thead>\n",
       "    <tr style=\"text-align: right;\">\n",
       "      <th></th>\n",
       "      <th>count</th>\n",
       "      <th>median</th>\n",
       "    </tr>\n",
       "    <tr>\n",
       "      <th>month</th>\n",
       "      <th></th>\n",
       "      <th></th>\n",
       "    </tr>\n",
       "  </thead>\n",
       "  <tbody>\n",
       "    <tr>\n",
       "      <td>1</td>\n",
       "      <td>821</td>\n",
       "      <td>5000000</td>\n",
       "    </tr>\n",
       "    <tr>\n",
       "      <td>2</td>\n",
       "      <td>1523</td>\n",
       "      <td>4949000</td>\n",
       "    </tr>\n",
       "    <tr>\n",
       "      <td>3</td>\n",
       "      <td>1231</td>\n",
       "      <td>4990000</td>\n",
       "    </tr>\n",
       "    <tr>\n",
       "      <td>4</td>\n",
       "      <td>977</td>\n",
       "      <td>5000000</td>\n",
       "    </tr>\n",
       "    <tr>\n",
       "      <td>5</td>\n",
       "      <td>792</td>\n",
       "      <td>4900000</td>\n",
       "    </tr>\n",
       "    <tr>\n",
       "      <td>6</td>\n",
       "      <td>1129</td>\n",
       "      <td>4850000</td>\n",
       "    </tr>\n",
       "    <tr>\n",
       "      <td>7</td>\n",
       "      <td>1031</td>\n",
       "      <td>4950000</td>\n",
       "    </tr>\n",
       "    <tr>\n",
       "      <td>8</td>\n",
       "      <td>1098</td>\n",
       "      <td>5000000</td>\n",
       "    </tr>\n",
       "    <tr>\n",
       "      <td>9</td>\n",
       "      <td>1206</td>\n",
       "      <td>5000000</td>\n",
       "    </tr>\n",
       "    <tr>\n",
       "      <td>10</td>\n",
       "      <td>1287</td>\n",
       "      <td>4870000</td>\n",
       "    </tr>\n",
       "    <tr>\n",
       "      <td>11</td>\n",
       "      <td>1387</td>\n",
       "      <td>5100000</td>\n",
       "    </tr>\n",
       "    <tr>\n",
       "      <td>12</td>\n",
       "      <td>901</td>\n",
       "      <td>5140000</td>\n",
       "    </tr>\n",
       "  </tbody>\n",
       "</table>\n",
       "</div>"
      ],
      "text/plain": [
       "       count   median\n",
       "month                \n",
       "1        821  5000000\n",
       "2       1523  4949000\n",
       "3       1231  4990000\n",
       "4        977  5000000\n",
       "5        792  4900000\n",
       "6       1129  4850000\n",
       "7       1031  4950000\n",
       "8       1098  5000000\n",
       "9       1206  5000000\n",
       "10      1287  4870000\n",
       "11      1387  5100000\n",
       "12       901  5140000"
      ]
     },
     "execution_count": 60,
     "metadata": {},
     "output_type": "execute_result"
    }
   ],
   "source": [
    "#зависимости цены от месяца\n",
    "# Сгруппируем данные по месяцам и посчитаем количество значений и медиану цены\n",
    "pivot_month = good_flat_data.pivot_table(index = 'month' , values = 'last_price' , aggfunc = ['count' , 'median'])\n",
    "\n",
    "pivot_month.columns = ['count' , 'median']\n",
    "\n",
    "print(pivot_month.corr())\n",
    "pivot_month"
   ]
  },
  {
   "cell_type": "markdown",
   "metadata": {},
   "source": [
    "#### Вывод по анализу зависимости цены от месяца\n",
    "Коэффициент Пирсона между количеством значений для каждого месяца и цены показывает, что цена не зависит от месяца публикации объявления. Из сводной таблицы также видно, что значение медианы цены практически одинаково для всех дней. \n",
    "\n",
    "---"
   ]
  },
  {
   "cell_type": "code",
   "execution_count": 61,
   "metadata": {},
   "outputs": [
    {
     "name": "stdout",
     "output_type": "stream",
     "text": [
      "           count    median\n",
      "count   1.000000 -0.545896\n",
      "median -0.545896  1.000000\n"
     ]
    },
    {
     "data": {
      "text/html": [
       "<div>\n",
       "<style scoped>\n",
       "    .dataframe tbody tr th:only-of-type {\n",
       "        vertical-align: middle;\n",
       "    }\n",
       "\n",
       "    .dataframe tbody tr th {\n",
       "        vertical-align: top;\n",
       "    }\n",
       "\n",
       "    .dataframe thead th {\n",
       "        text-align: right;\n",
       "    }\n",
       "</style>\n",
       "<table border=\"1\" class=\"dataframe\">\n",
       "  <thead>\n",
       "    <tr style=\"text-align: right;\">\n",
       "      <th></th>\n",
       "      <th>count</th>\n",
       "      <th>median</th>\n",
       "    </tr>\n",
       "    <tr>\n",
       "      <th>year</th>\n",
       "      <th></th>\n",
       "      <th></th>\n",
       "    </tr>\n",
       "  </thead>\n",
       "  <tbody>\n",
       "    <tr>\n",
       "      <td>2014</td>\n",
       "      <td>30</td>\n",
       "      <td>7488280</td>\n",
       "    </tr>\n",
       "    <tr>\n",
       "      <td>2015</td>\n",
       "      <td>499</td>\n",
       "      <td>5200000</td>\n",
       "    </tr>\n",
       "    <tr>\n",
       "      <td>2016</td>\n",
       "      <td>1766</td>\n",
       "      <td>4877500</td>\n",
       "    </tr>\n",
       "    <tr>\n",
       "      <td>2017</td>\n",
       "      <td>5495</td>\n",
       "      <td>4900000</td>\n",
       "    </tr>\n",
       "    <tr>\n",
       "      <td>2018</td>\n",
       "      <td>4935</td>\n",
       "      <td>5000000</td>\n",
       "    </tr>\n",
       "    <tr>\n",
       "      <td>2019</td>\n",
       "      <td>658</td>\n",
       "      <td>5300000</td>\n",
       "    </tr>\n",
       "  </tbody>\n",
       "</table>\n",
       "</div>"
      ],
      "text/plain": [
       "      count   median\n",
       "year                \n",
       "2014     30  7488280\n",
       "2015    499  5200000\n",
       "2016   1766  4877500\n",
       "2017   5495  4900000\n",
       "2018   4935  5000000\n",
       "2019    658  5300000"
      ]
     },
     "execution_count": 61,
     "metadata": {},
     "output_type": "execute_result"
    }
   ],
   "source": [
    "#зависимости цены от года\n",
    "# Сгруппируем данные по году и посчитаем количество значений и медиану цены\n",
    "pivot_year = good_flat_data.pivot_table(index = 'year' , values = 'last_price' , aggfunc = ['count' , 'median'])\n",
    "\n",
    "pivot_year.columns = ['count' , 'median']\n",
    "\n",
    "print(pivot_year.corr())\n",
    "pivot_year"
   ]
  },
  {
   "cell_type": "markdown",
   "metadata": {},
   "source": [
    "#### Вывод по анализу зависимости цены от года\n",
    "\n",
    "Коэффициент Пирсона по фильтрованным данным сотавляет 0,50 , что говорит о незначительном влиянии года публикации на цену.\n",
    "Из анализа сводной таблицы можно сделать вывод, что средняя цена меняется не значительно. Возможно на коэффициент корелляции влияет количество публикаций в разные годы.\n",
    "\n",
    "---"
   ]
  },
  {
   "cell_type": "markdown",
   "metadata": {},
   "source": [
    "#### Выберите 10 населённых пунктов с наибольшим числом объявлений. Посчитайте среднюю цену квадратного метра в этих населённых пунктах. Выделите населённые пункты с самой высокой и низкой стоимостью жилья. Эти данные можно найти по имени в столбце 'locality_name'."
   ]
  },
  {
   "cell_type": "code",
   "execution_count": 62,
   "metadata": {},
   "outputs": [
    {
     "data": {
      "text/html": [
       "<div>\n",
       "<style scoped>\n",
       "    .dataframe tbody tr th:only-of-type {\n",
       "        vertical-align: middle;\n",
       "    }\n",
       "\n",
       "    .dataframe tbody tr th {\n",
       "        vertical-align: top;\n",
       "    }\n",
       "\n",
       "    .dataframe thead th {\n",
       "        text-align: right;\n",
       "    }\n",
       "</style>\n",
       "<table border=\"1\" class=\"dataframe\">\n",
       "  <thead>\n",
       "    <tr style=\"text-align: right;\">\n",
       "      <th></th>\n",
       "      <th>mean_price</th>\n",
       "      <th>count</th>\n",
       "    </tr>\n",
       "    <tr>\n",
       "      <th>locality_name</th>\n",
       "      <th></th>\n",
       "      <th></th>\n",
       "    </tr>\n",
       "  </thead>\n",
       "  <tbody>\n",
       "    <tr>\n",
       "      <td>Санкт-Петербург</td>\n",
       "      <td>115366.13</td>\n",
       "      <td>15651</td>\n",
       "    </tr>\n",
       "    <tr>\n",
       "      <td>посёлок Мурино</td>\n",
       "      <td>86298.81</td>\n",
       "      <td>520</td>\n",
       "    </tr>\n",
       "    <tr>\n",
       "      <td>посёлок Шушары</td>\n",
       "      <td>78943.47</td>\n",
       "      <td>439</td>\n",
       "    </tr>\n",
       "    <tr>\n",
       "      <td>Всеволожск</td>\n",
       "      <td>68985.24</td>\n",
       "      <td>398</td>\n",
       "    </tr>\n",
       "    <tr>\n",
       "      <td>Пушкин</td>\n",
       "      <td>103611.36</td>\n",
       "      <td>369</td>\n",
       "    </tr>\n",
       "    <tr>\n",
       "      <td>Колпино</td>\n",
       "      <td>75735.59</td>\n",
       "      <td>338</td>\n",
       "    </tr>\n",
       "    <tr>\n",
       "      <td>посёлок Парголово</td>\n",
       "      <td>90675.63</td>\n",
       "      <td>327</td>\n",
       "    </tr>\n",
       "    <tr>\n",
       "      <td>Гатчина</td>\n",
       "      <td>69045.52</td>\n",
       "      <td>307</td>\n",
       "    </tr>\n",
       "    <tr>\n",
       "      <td>деревня Кудрово</td>\n",
       "      <td>93002.17</td>\n",
       "      <td>299</td>\n",
       "    </tr>\n",
       "    <tr>\n",
       "      <td>Выборг</td>\n",
       "      <td>58296.12</td>\n",
       "      <td>237</td>\n",
       "    </tr>\n",
       "  </tbody>\n",
       "</table>\n",
       "</div>"
      ],
      "text/plain": [
       "                   mean_price  count\n",
       "locality_name                       \n",
       "Санкт-Петербург     115366.13  15651\n",
       "посёлок Мурино       86298.81    520\n",
       "посёлок Шушары       78943.47    439\n",
       "Всеволожск           68985.24    398\n",
       "Пушкин              103611.36    369\n",
       "Колпино              75735.59    338\n",
       "посёлок Парголово    90675.63    327\n",
       "Гатчина              69045.52    307\n",
       "деревня Кудрово      93002.17    299\n",
       "Выборг               58296.12    237"
      ]
     },
     "execution_count": 62,
     "metadata": {},
     "output_type": "execute_result"
    }
   ],
   "source": [
    "# Делаем сводную таблицу по населенным пунктам с подсчетом среднего и количества \n",
    "data_10_locality = (flat_data\n",
    "        .pivot_table(index = 'locality_name' ,values = 'price_per_area' , aggfunc = [ 'mean' ,'count'])        \n",
    ")\n",
    "\n",
    "#Переименовываем столбцы\n",
    "data_10_locality.columns = ['mean_price' , 'count']\n",
    "\n",
    "# Сортируем и выделяем 10 мест\n",
    "data_10_locality = round(data_10_locality.sort_values(by = 'count' , ascending =False ).head(10) , 2)\n",
    "\n",
    "data_10_locality\n"
   ]
  },
  {
   "cell_type": "code",
   "execution_count": 63,
   "metadata": {},
   "outputs": [
    {
     "data": {
      "text/plain": [
       "<matplotlib.axes._subplots.AxesSubplot at 0x7f5a9965a0f0>"
      ]
     },
     "execution_count": 63,
     "metadata": {},
     "output_type": "execute_result"
    },
    {
     "data": {
      "image/png": "[encoded data removed]",
      "text/plain": [
       "<Figure size 1080x360 with 1 Axes>"
      ]
     },
     "metadata": {
      "needs_background": "light"
     },
     "output_type": "display_data"
    }
   ],
   "source": [
    "# График зависимости цены от населенного пункта\n",
    "(data_10_locality\n",
    "        .plot(x = 'count' , y = 'mean_price' , grid = True, style ='o-', figsize = (15,5))\n",
    ") "
   ]
  },
  {
   "cell_type": "markdown",
   "metadata": {},
   "source": [
    "Вывод: самое большое количество объявлений - 15651 -  в г. Санкт-Петербург и средняя стоимость квадратного метра составляет 114868.88.\n",
    "Меньшее количество объявлений из 10 населенных пунктов в Выборге - 237 и стоимость квадратного метра - 58141,91. Почти в два раза меньше Санкт-Петербурга."
   ]
  },
  {
   "cell_type": "markdown",
   "metadata": {},
   "source": [
    "Изучите предложения квартир: для каждой квартиры есть информация о расстоянии до центра. Выделите квартиры в Санкт-Петербурге ('locality_name'). Ваша задача — выяснить, какая область входит в центр. Создайте столбец с расстоянием до центра в километрах: округлите до целых значений. После этого посчитайте среднюю цену для каждого километра. Постройте график: он должен показывать, как цена зависит от удалённости от центра. Определите границу, где график сильно меняется — это и будет центральная зона."
   ]
  },
  {
   "cell_type": "code",
   "execution_count": 64,
   "metadata": {},
   "outputs": [
    {
     "name": "stderr",
     "output_type": "stream",
     "text": [
      "/opt/conda/lib/python3.7/site-packages/pandas/core/indexing.py:376: SettingWithCopyWarning: \n",
      "A value is trying to be set on a copy of a slice from a DataFrame.\n",
      "Try using .loc[row_indexer,col_indexer] = value instead\n",
      "\n",
      "See the caveats in the documentation: http://pandas.pydata.org/pandas-docs/stable/user_guide/indexing.html#returning-a-view-versus-a-copy\n",
      "  self.obj[key] = _infer_fill_value(value)\n",
      "/opt/conda/lib/python3.7/site-packages/pandas/core/indexing.py:494: SettingWithCopyWarning: \n",
      "A value is trying to be set on a copy of a slice from a DataFrame.\n",
      "Try using .loc[row_indexer,col_indexer] = value instead\n",
      "\n",
      "See the caveats in the documentation: http://pandas.pydata.org/pandas-docs/stable/user_guide/indexing.html#returning-a-view-versus-a-copy\n",
      "  self.obj[item] = s\n"
     ]
    }
   ],
   "source": [
    "# Выделяем квартиры в петербурге\n",
    "data_piter = data_good_price.query('locality_name == \"Санкт-Петербург\"')\n",
    "data_piter.loc[:,'distance_km'] = data_piter.loc[:,'cityCenters_nearest'] /1000\n",
    "data_piter.loc[:,'distance_km'] = data_piter.loc[:,'distance_km'].astype(int)\n",
    "data_piter.loc[:,'distance_km'] =data_piter.loc[:,'distance_km'].replace(0,1)\n",
    "data_piter.loc[:,'price_per_km'] = data_piter.loc[:,'last_price'] / data_piter.loc[:,'distance_km']\n"
   ]
  },
  {
   "cell_type": "code",
   "execution_count": 65,
   "metadata": {},
   "outputs": [
    {
     "data": {
      "text/html": [
       "<div>\n",
       "<style scoped>\n",
       "    .dataframe tbody tr th:only-of-type {\n",
       "        vertical-align: middle;\n",
       "    }\n",
       "\n",
       "    .dataframe tbody tr th {\n",
       "        vertical-align: top;\n",
       "    }\n",
       "\n",
       "    .dataframe thead th {\n",
       "        text-align: right;\n",
       "    }\n",
       "</style>\n",
       "<table border=\"1\" class=\"dataframe\">\n",
       "  <thead>\n",
       "    <tr style=\"text-align: right;\">\n",
       "      <th></th>\n",
       "      <th>km</th>\n",
       "      <th>mean_km_price</th>\n",
       "    </tr>\n",
       "  </thead>\n",
       "  <tbody>\n",
       "    <tr>\n",
       "      <td>0</td>\n",
       "      <td>1</td>\n",
       "      <td>1.018631e+07</td>\n",
       "    </tr>\n",
       "    <tr>\n",
       "      <td>1</td>\n",
       "      <td>2</td>\n",
       "      <td>7.481385e+06</td>\n",
       "    </tr>\n",
       "    <tr>\n",
       "      <td>2</td>\n",
       "      <td>3</td>\n",
       "      <td>5.358048e+06</td>\n",
       "    </tr>\n",
       "    <tr>\n",
       "      <td>3</td>\n",
       "      <td>4</td>\n",
       "      <td>4.068402e+06</td>\n",
       "    </tr>\n",
       "    <tr>\n",
       "      <td>4</td>\n",
       "      <td>5</td>\n",
       "      <td>3.462701e+06</td>\n",
       "    </tr>\n",
       "    <tr>\n",
       "      <td>5</td>\n",
       "      <td>6</td>\n",
       "      <td>3.170876e+06</td>\n",
       "    </tr>\n",
       "    <tr>\n",
       "      <td>6</td>\n",
       "      <td>7</td>\n",
       "      <td>2.937633e+06</td>\n",
       "    </tr>\n",
       "    <tr>\n",
       "      <td>7</td>\n",
       "      <td>8</td>\n",
       "      <td>2.602108e+06</td>\n",
       "    </tr>\n",
       "    <tr>\n",
       "      <td>8</td>\n",
       "      <td>9</td>\n",
       "      <td>2.310218e+06</td>\n",
       "    </tr>\n",
       "    <tr>\n",
       "      <td>9</td>\n",
       "      <td>10</td>\n",
       "      <td>2.024353e+06</td>\n",
       "    </tr>\n",
       "    <tr>\n",
       "      <td>10</td>\n",
       "      <td>11</td>\n",
       "      <td>1.713562e+06</td>\n",
       "    </tr>\n",
       "    <tr>\n",
       "      <td>11</td>\n",
       "      <td>12</td>\n",
       "      <td>1.485618e+06</td>\n",
       "    </tr>\n",
       "    <tr>\n",
       "      <td>12</td>\n",
       "      <td>13</td>\n",
       "      <td>1.337489e+06</td>\n",
       "    </tr>\n",
       "    <tr>\n",
       "      <td>13</td>\n",
       "      <td>14</td>\n",
       "      <td>1.212283e+06</td>\n",
       "    </tr>\n",
       "    <tr>\n",
       "      <td>14</td>\n",
       "      <td>15</td>\n",
       "      <td>1.119601e+06</td>\n",
       "    </tr>\n",
       "    <tr>\n",
       "      <td>15</td>\n",
       "      <td>16</td>\n",
       "      <td>1.056435e+06</td>\n",
       "    </tr>\n",
       "    <tr>\n",
       "      <td>16</td>\n",
       "      <td>17</td>\n",
       "      <td>1.028074e+06</td>\n",
       "    </tr>\n",
       "    <tr>\n",
       "      <td>17</td>\n",
       "      <td>18</td>\n",
       "      <td>1.019157e+06</td>\n",
       "    </tr>\n",
       "    <tr>\n",
       "      <td>18</td>\n",
       "      <td>19</td>\n",
       "      <td>1.014754e+06</td>\n",
       "    </tr>\n",
       "    <tr>\n",
       "      <td>19</td>\n",
       "      <td>20</td>\n",
       "      <td>1.010713e+06</td>\n",
       "    </tr>\n",
       "    <tr>\n",
       "      <td>20</td>\n",
       "      <td>21</td>\n",
       "      <td>1.000562e+06</td>\n",
       "    </tr>\n",
       "    <tr>\n",
       "      <td>21</td>\n",
       "      <td>22</td>\n",
       "      <td>9.934873e+05</td>\n",
       "    </tr>\n",
       "    <tr>\n",
       "      <td>22</td>\n",
       "      <td>23</td>\n",
       "      <td>9.918420e+05</td>\n",
       "    </tr>\n",
       "    <tr>\n",
       "      <td>23</td>\n",
       "      <td>24</td>\n",
       "      <td>9.906123e+05</td>\n",
       "    </tr>\n",
       "    <tr>\n",
       "      <td>24</td>\n",
       "      <td>25</td>\n",
       "      <td>9.870045e+05</td>\n",
       "    </tr>\n",
       "    <tr>\n",
       "      <td>25</td>\n",
       "      <td>26</td>\n",
       "      <td>9.868339e+05</td>\n",
       "    </tr>\n",
       "    <tr>\n",
       "      <td>26</td>\n",
       "      <td>27</td>\n",
       "      <td>9.867429e+05</td>\n",
       "    </tr>\n",
       "    <tr>\n",
       "      <td>27</td>\n",
       "      <td>28</td>\n",
       "      <td>9.862000e+05</td>\n",
       "    </tr>\n",
       "  </tbody>\n",
       "</table>\n",
       "</div>"
      ],
      "text/plain": [
       "    km  mean_km_price\n",
       "0    1   1.018631e+07\n",
       "1    2   7.481385e+06\n",
       "2    3   5.358048e+06\n",
       "3    4   4.068402e+06\n",
       "4    5   3.462701e+06\n",
       "5    6   3.170876e+06\n",
       "6    7   2.937633e+06\n",
       "7    8   2.602108e+06\n",
       "8    9   2.310218e+06\n",
       "9   10   2.024353e+06\n",
       "10  11   1.713562e+06\n",
       "11  12   1.485618e+06\n",
       "12  13   1.337489e+06\n",
       "13  14   1.212283e+06\n",
       "14  15   1.119601e+06\n",
       "15  16   1.056435e+06\n",
       "16  17   1.028074e+06\n",
       "17  18   1.019157e+06\n",
       "18  19   1.014754e+06\n",
       "19  20   1.010713e+06\n",
       "20  21   1.000562e+06\n",
       "21  22   9.934873e+05\n",
       "22  23   9.918420e+05\n",
       "23  24   9.906123e+05\n",
       "24  25   9.870045e+05\n",
       "25  26   9.868339e+05\n",
       "26  27   9.867429e+05\n",
       "27  28   9.862000e+05"
      ]
     },
     "execution_count": 65,
     "metadata": {},
     "output_type": "execute_result"
    }
   ],
   "source": [
    "# Создаем список средних значений цены от километра\n",
    "spisok_km=[i for i in range(1,(data_piter['distance_km'].max()))]\n",
    "spisok_mean_per_km = []\n",
    "\n",
    "for km in spisok_km:\n",
    "    filter_data = data_piter.query('distance_km <=@km')\n",
    "    mean_per_km = filter_data['price_per_km'].mean()\n",
    "    spisok_mean_per_km.append(mean_per_km)\n",
    "\n",
    "# Создаем словарь значений и таблицу для построения графика.\n",
    "piter_dict={'km':spisok_km , 'mean_km_price':spisok_mean_per_km}\n",
    "piter_plot = pd.DataFrame(piter_dict)\n",
    "\n",
    "piter_plot\n"
   ]
  },
  {
   "cell_type": "code",
   "execution_count": 66,
   "metadata": {},
   "outputs": [
    {
     "data": {
      "text/plain": [
       "<matplotlib.axes._subplots.AxesSubplot at 0x7f5a999ce470>"
      ]
     },
     "execution_count": 66,
     "metadata": {},
     "output_type": "execute_result"
    },
    {
     "data": {
      "image/png": "[encoded data removed]",
      "text/plain": [
       "<Figure size 1080x360 with 1 Axes>"
      ]
     },
     "metadata": {
      "needs_background": "light"
     },
     "output_type": "display_data"
    }
   ],
   "source": [
    "# График зависимости удаленности от центра\n",
    "(piter_plot\n",
    "        \n",
    "        .plot(x='km' , y='mean_km_price' , grid = True , figsize = (15,5))\n",
    ")"
   ]
  },
  {
   "cell_type": "markdown",
   "metadata": {},
   "source": [
    "Вывод: на графике зависимости цены от расстояния от центра видно, что на 3-м км цена падает в 2,5 раза. Эту границу принимаем как расстояние от центра. Т.е. радиус центра - 3км."
   ]
  },
  {
   "cell_type": "markdown",
   "metadata": {},
   "source": [
    " Выделите сегмент квартир в центре. Проанализируйте эту территорию и изучите следующие параметры: площадь, цена, число комнат, высота потолков. Также выделите факторы, которые влияют на стоимость квартиры (число комнат, этаж, удалённость от центра, дата размещения объявления). Сделайте выводы. Отличаются ли они от общих выводов по всему городу?"
   ]
  },
  {
   "cell_type": "code",
   "execution_count": 73,
   "metadata": {},
   "outputs": [
    {
     "data": {
      "text/html": [
       "<div>\n",
       "<style scoped>\n",
       "    .dataframe tbody tr th:only-of-type {\n",
       "        vertical-align: middle;\n",
       "    }\n",
       "\n",
       "    .dataframe tbody tr th {\n",
       "        vertical-align: top;\n",
       "    }\n",
       "\n",
       "    .dataframe thead th {\n",
       "        text-align: right;\n",
       "    }\n",
       "</style>\n",
       "<table border=\"1\" class=\"dataframe\">\n",
       "  <thead>\n",
       "    <tr style=\"text-align: right;\">\n",
       "      <th></th>\n",
       "      <th>last_price</th>\n",
       "      <th>total_area</th>\n",
       "      <th>rooms</th>\n",
       "      <th>cityCenters_nearest</th>\n",
       "      <th>floor_category</th>\n",
       "      <th>weekday</th>\n",
       "      <th>month</th>\n",
       "      <th>year</th>\n",
       "    </tr>\n",
       "  </thead>\n",
       "  <tbody>\n",
       "    <tr>\n",
       "      <td>24</td>\n",
       "      <td>6500000</td>\n",
       "      <td>97</td>\n",
       "      <td>2</td>\n",
       "      <td>2336</td>\n",
       "      <td>Первый</td>\n",
       "      <td>5</td>\n",
       "      <td>10</td>\n",
       "      <td>2015</td>\n",
       "    </tr>\n",
       "    <tr>\n",
       "      <td>99</td>\n",
       "      <td>9600000</td>\n",
       "      <td>90</td>\n",
       "      <td>4</td>\n",
       "      <td>2818</td>\n",
       "      <td>Другой</td>\n",
       "      <td>1</td>\n",
       "      <td>9</td>\n",
       "      <td>2017</td>\n",
       "    </tr>\n",
       "    <tr>\n",
       "      <td>138</td>\n",
       "      <td>4800000</td>\n",
       "      <td>40</td>\n",
       "      <td>2</td>\n",
       "      <td>2913</td>\n",
       "      <td>Другой</td>\n",
       "      <td>5</td>\n",
       "      <td>11</td>\n",
       "      <td>2017</td>\n",
       "    </tr>\n",
       "    <tr>\n",
       "      <td>402</td>\n",
       "      <td>11400000</td>\n",
       "      <td>81</td>\n",
       "      <td>3</td>\n",
       "      <td>2669</td>\n",
       "      <td>Другой</td>\n",
       "      <td>2</td>\n",
       "      <td>4</td>\n",
       "      <td>2016</td>\n",
       "    </tr>\n",
       "    <tr>\n",
       "      <td>431</td>\n",
       "      <td>6800000</td>\n",
       "      <td>57</td>\n",
       "      <td>3</td>\n",
       "      <td>1166</td>\n",
       "      <td>Другой</td>\n",
       "      <td>4</td>\n",
       "      <td>4</td>\n",
       "      <td>2017</td>\n",
       "    </tr>\n",
       "    <tr>\n",
       "      <td>447</td>\n",
       "      <td>12500000</td>\n",
       "      <td>96</td>\n",
       "      <td>4</td>\n",
       "      <td>2528</td>\n",
       "      <td>Последний</td>\n",
       "      <td>2</td>\n",
       "      <td>9</td>\n",
       "      <td>2018</td>\n",
       "    </tr>\n",
       "    <tr>\n",
       "      <td>448</td>\n",
       "      <td>6550000</td>\n",
       "      <td>53</td>\n",
       "      <td>2</td>\n",
       "      <td>1429</td>\n",
       "      <td>Другой</td>\n",
       "      <td>4</td>\n",
       "      <td>2</td>\n",
       "      <td>2017</td>\n",
       "    </tr>\n",
       "    <tr>\n",
       "      <td>499</td>\n",
       "      <td>11250000</td>\n",
       "      <td>71</td>\n",
       "      <td>2</td>\n",
       "      <td>1217</td>\n",
       "      <td>Последний</td>\n",
       "      <td>3</td>\n",
       "      <td>1</td>\n",
       "      <td>2017</td>\n",
       "    </tr>\n",
       "    <tr>\n",
       "      <td>552</td>\n",
       "      <td>7680000</td>\n",
       "      <td>83</td>\n",
       "      <td>3</td>\n",
       "      <td>1803</td>\n",
       "      <td>Последний</td>\n",
       "      <td>5</td>\n",
       "      <td>5</td>\n",
       "      <td>2017</td>\n",
       "    </tr>\n",
       "    <tr>\n",
       "      <td>747</td>\n",
       "      <td>7000000</td>\n",
       "      <td>86</td>\n",
       "      <td>4</td>\n",
       "      <td>2293</td>\n",
       "      <td>Последний</td>\n",
       "      <td>2</td>\n",
       "      <td>2</td>\n",
       "      <td>2016</td>\n",
       "    </tr>\n",
       "  </tbody>\n",
       "</table>\n",
       "</div>"
      ],
      "text/plain": [
       "     last_price  total_area  rooms  cityCenters_nearest floor_category  \\\n",
       "24      6500000          97      2                 2336         Первый   \n",
       "99      9600000          90      4                 2818         Другой   \n",
       "138     4800000          40      2                 2913         Другой   \n",
       "402    11400000          81      3                 2669         Другой   \n",
       "431     6800000          57      3                 1166         Другой   \n",
       "447    12500000          96      4                 2528      Последний   \n",
       "448     6550000          53      2                 1429         Другой   \n",
       "499    11250000          71      2                 1217      Последний   \n",
       "552     7680000          83      3                 1803      Последний   \n",
       "747     7000000          86      4                 2293      Последний   \n",
       "\n",
       "     weekday  month  year  \n",
       "24         5     10  2015  \n",
       "99         1      9  2017  \n",
       "138        5     11  2017  \n",
       "402        2      4  2016  \n",
       "431        4      4  2017  \n",
       "447        2      9  2018  \n",
       "448        4      2  2017  \n",
       "499        3      1  2017  \n",
       "552        5      5  2017  \n",
       "747        2      2  2016  "
      ]
     },
     "execution_count": 73,
     "metadata": {},
     "output_type": "execute_result"
    }
   ],
   "source": [
    "# Выделим только интересующие нас столбцы в хорошей таблице\n",
    "good_data_center = (good_flat_data_full.query('cityCenters_nearest < 3000')\n",
    "                    .loc[:,['last_price','total_area' , 'rooms' , 'cityCenters_nearest', 'floor_category', 'weekday' , 'month' , 'year']]\n",
    ")                                        \n",
    "\n",
    "\n",
    "# Выдели только интересующие нас столбцы в исходной таблице\n",
    "flat_data_center_corr = (flat_data.query('cityCenters_nearest < 3000')\n",
    "                        .loc[:,['last_price','total_area' , 'rooms' , 'cityCenters_nearest', 'floor_category', 'weekday' , 'month' , 'year']]\n",
    ")                                        \n",
    "\n",
    "good_data_center.head(10)\n"
   ]
  },
  {
   "cell_type": "code",
   "execution_count": 74,
   "metadata": {},
   "outputs": [
    {
     "name": "stdout",
     "output_type": "stream",
     "text": [
      "Корреляция параметров в фильтрованной таблице\n",
      "                     last_price  total_area  rooms  cityCenters_nearest  \\\n",
      "last_price                1.000       0.638  0.449               -0.188   \n",
      "total_area                0.638       1.000  0.767               -0.078   \n",
      "rooms                     0.449       0.767  1.000               -0.019   \n",
      "cityCenters_nearest      -0.188      -0.078 -0.019                1.000   \n",
      "weekday                  -0.023      -0.001  0.050                0.033   \n",
      "month                    -0.049      -0.038 -0.057               -0.041   \n",
      "year                     -0.030      -0.111 -0.085                0.102   \n",
      "\n",
      "                     weekday  month   year  \n",
      "last_price            -0.023 -0.049 -0.030  \n",
      "total_area            -0.001 -0.038 -0.111  \n",
      "rooms                  0.050 -0.057 -0.085  \n",
      "cityCenters_nearest    0.033 -0.041  0.102  \n",
      "weekday                1.000 -0.015 -0.034  \n",
      "month                 -0.015  1.000 -0.151  \n",
      "year                  -0.034 -0.151  1.000  \n",
      "\n",
      "Корреляция параметров в исходной таблице\n",
      "                     last_price  total_area  rooms  cityCenters_nearest  \\\n",
      "last_price                1.000       0.595  0.299                0.382   \n",
      "total_area                0.595       1.000  0.787                0.502   \n",
      "rooms                     0.299       0.787  1.000                0.376   \n",
      "cityCenters_nearest       0.382       0.502  0.376                1.000   \n",
      "weekday                  -0.004      -0.003  0.007                0.012   \n",
      "month                    -0.009      -0.003 -0.021               -0.016   \n",
      "year                     -0.049      -0.080 -0.063               -0.093   \n",
      "\n",
      "                     weekday  month   year  \n",
      "last_price            -0.004 -0.009 -0.049  \n",
      "total_area            -0.003 -0.003 -0.080  \n",
      "rooms                  0.007 -0.021 -0.063  \n",
      "cityCenters_nearest    0.012 -0.016 -0.093  \n",
      "weekday                1.000  0.020 -0.003  \n",
      "month                  0.020  1.000 -0.252  \n",
      "year                  -0.003 -0.252  1.000  \n"
     ]
    }
   ],
   "source": [
    "# Посмотрим на взаимосвязь между параметрами\n",
    "\n",
    "print('Корреляция параметров в фильтрованной таблице')\n",
    "print(round(good_data_center.corr(),3))\n",
    "print()\n",
    "\n",
    "print('Корреляция параметров в исходной таблице')\n",
    "print(round(flat_data_center_corr.corr(),3))"
   ]
  },
  {
   "cell_type": "code",
   "execution_count": 75,
   "metadata": {},
   "outputs": [
    {
     "name": "stdout",
     "output_type": "stream",
     "text": [
      "           count    median\n",
      "count   1.000000 -0.262084\n",
      "median -0.262084  1.000000\n"
     ]
    },
    {
     "data": {
      "text/html": [
       "<div>\n",
       "<style scoped>\n",
       "    .dataframe tbody tr th:only-of-type {\n",
       "        vertical-align: middle;\n",
       "    }\n",
       "\n",
       "    .dataframe tbody tr th {\n",
       "        vertical-align: top;\n",
       "    }\n",
       "\n",
       "    .dataframe thead th {\n",
       "        text-align: right;\n",
       "    }\n",
       "</style>\n",
       "<table border=\"1\" class=\"dataframe\">\n",
       "  <thead>\n",
       "    <tr style=\"text-align: right;\">\n",
       "      <th></th>\n",
       "      <th>count</th>\n",
       "      <th>median</th>\n",
       "    </tr>\n",
       "    <tr>\n",
       "      <th>rooms</th>\n",
       "      <th></th>\n",
       "      <th></th>\n",
       "    </tr>\n",
       "  </thead>\n",
       "  <tbody>\n",
       "    <tr>\n",
       "      <td>1</td>\n",
       "      <td>35</td>\n",
       "      <td>5350000</td>\n",
       "    </tr>\n",
       "    <tr>\n",
       "      <td>2</td>\n",
       "      <td>121</td>\n",
       "      <td>7370000</td>\n",
       "    </tr>\n",
       "    <tr>\n",
       "      <td>3</td>\n",
       "      <td>117</td>\n",
       "      <td>9200000</td>\n",
       "    </tr>\n",
       "    <tr>\n",
       "      <td>4</td>\n",
       "      <td>61</td>\n",
       "      <td>9850000</td>\n",
       "    </tr>\n",
       "    <tr>\n",
       "      <td>5</td>\n",
       "      <td>16</td>\n",
       "      <td>12265000</td>\n",
       "    </tr>\n",
       "  </tbody>\n",
       "</table>\n",
       "</div>"
      ],
      "text/plain": [
       "       count    median\n",
       "rooms                 \n",
       "1         35   5350000\n",
       "2        121   7370000\n",
       "3        117   9200000\n",
       "4         61   9850000\n",
       "5         16  12265000"
      ]
     },
     "execution_count": 75,
     "metadata": {},
     "output_type": "execute_result"
    }
   ],
   "source": [
    "#зависимости цены от этажа\n",
    "# Сгруппируем данные по этажу и посчитаем количество значений и медиану\n",
    "pivot_rooms_center = good_data_center.pivot_table(index = 'rooms' , values = 'last_price' , aggfunc = ['count' , 'median' ])\n",
    "\n",
    "pivot_rooms_center.columns = ['count' , 'median']\n",
    "\n",
    "print(pivot_rooms_center.corr())\n",
    "pivot_rooms_center"
   ]
  },
  {
   "cell_type": "code",
   "execution_count": 76,
   "metadata": {},
   "outputs": [
    {
     "data": {
      "text/plain": [
       "[<matplotlib.lines.Line2D at 0x7f5a999cd7b8>]"
      ]
     },
     "execution_count": 76,
     "metadata": {},
     "output_type": "execute_result"
    },
    {
     "data": {
      "image/png": "[encoded data removed]",
      "text/plain": [
       "<Figure size 432x288 with 1 Axes>"
      ]
     },
     "metadata": {
      "needs_background": "light"
     },
     "output_type": "display_data"
    }
   ],
   "source": [
    "#ГРафик зависимости между количеством комнат и стоимость квартиры.\n",
    "\n",
    "plt.plot(pivot_rooms_center.index, pivot_rooms_center['median'])"
   ]
  },
  {
   "cell_type": "markdown",
   "metadata": {},
   "source": [
    "#### Вывод по зависимости цены от количества комнат в центре города\n",
    "Для анализа влияния этажа на стоимость достаточно увидеть цифры. Первый этаж дешевле других и последних этажей. \n",
    "А другие этажи и последний отличются в цене. Можно сделать вывод, что большим спросом пользются этажи кроме первого и последнего.\n",
    "Отличий между центром и всем городом нет.\n",
    "\n",
    "---"
   ]
  },
  {
   "cell_type": "code",
   "execution_count": 77,
   "metadata": {},
   "outputs": [
    {
     "data": {
      "text/plain": [
       "<matplotlib.axes._subplots.AxesSubplot at 0x7f5a9a199550>"
      ]
     },
     "execution_count": 77,
     "metadata": {},
     "output_type": "execute_result"
    },
    {
     "data": {
      "image/png": "[encoded data removed]",
      "text/plain": [
       "<Figure size 720x360 with 1 Axes>"
      ]
     },
     "metadata": {
      "needs_background": "light"
     },
     "output_type": "display_data"
    }
   ],
   "source": [
    "#график зависимости цены от удаленности от центра\n",
    "(good_data_center\n",
    "        .sort_values('cityCenters_nearest')\n",
    "        .plot(x= 'cityCenters_nearest', y = 'last_price',\n",
    "                title = 'график зависимости цены от удаленности от центра' ,\n",
    "                grid = True , figsize =(10 , 5) , style = 'o')\n",
    ")"
   ]
  },
  {
   "cell_type": "markdown",
   "metadata": {},
   "source": [
    "#### Вывод по зависимости цены от расстояния до центра\n",
    "Коэффициент Пирсона по фильтрованным данным сотавляет 0,188 , что говорит о незначительном влиянии расстояния на цену.\n",
    "При этом форма графика и значение коэффициента корреляции говорит о том, что для центра города зависимости между ценой и рассятонием до центра нет.\n",
    "\n",
    "---"
   ]
  },
  {
   "cell_type": "code",
   "execution_count": 78,
   "metadata": {},
   "outputs": [
    {
     "name": "stdout",
     "output_type": "stream",
     "text": [
      "           count    median\n",
      "count   1.000000  0.837062\n",
      "median  0.837062  1.000000\n"
     ]
    },
    {
     "data": {
      "text/html": [
       "<div>\n",
       "<style scoped>\n",
       "    .dataframe tbody tr th:only-of-type {\n",
       "        vertical-align: middle;\n",
       "    }\n",
       "\n",
       "    .dataframe tbody tr th {\n",
       "        vertical-align: top;\n",
       "    }\n",
       "\n",
       "    .dataframe thead th {\n",
       "        text-align: right;\n",
       "    }\n",
       "</style>\n",
       "<table border=\"1\" class=\"dataframe\">\n",
       "  <thead>\n",
       "    <tr style=\"text-align: right;\">\n",
       "      <th></th>\n",
       "      <th>count</th>\n",
       "      <th>median</th>\n",
       "    </tr>\n",
       "    <tr>\n",
       "      <th>floor_category</th>\n",
       "      <th></th>\n",
       "      <th></th>\n",
       "    </tr>\n",
       "  </thead>\n",
       "  <tbody>\n",
       "    <tr>\n",
       "      <td>Другой</td>\n",
       "      <td>195</td>\n",
       "      <td>9200000</td>\n",
       "    </tr>\n",
       "    <tr>\n",
       "      <td>Первый</td>\n",
       "      <td>60</td>\n",
       "      <td>6975000</td>\n",
       "    </tr>\n",
       "    <tr>\n",
       "      <td>Последний</td>\n",
       "      <td>95</td>\n",
       "      <td>8700000</td>\n",
       "    </tr>\n",
       "  </tbody>\n",
       "</table>\n",
       "</div>"
      ],
      "text/plain": [
       "                count   median\n",
       "floor_category                \n",
       "Другой            195  9200000\n",
       "Первый             60  6975000\n",
       "Последний          95  8700000"
      ]
     },
     "execution_count": 78,
     "metadata": {},
     "output_type": "execute_result"
    }
   ],
   "source": [
    "#зависимости цены от этажа\n",
    "# Сгруппируем данные по этажу и посчитаем количество значений и медиану\n",
    "pivot_floor_center = good_data_center.pivot_table(index = 'floor_category' , values = 'last_price' , aggfunc = ['count' , 'median'])\n",
    "\n",
    "pivot_floor_center.columns = ['count' , 'median']\n",
    "\n",
    "print(pivot_floor_center.corr())\n",
    "pivot_floor_center"
   ]
  },
  {
   "cell_type": "markdown",
   "metadata": {},
   "source": [
    "#### Вывод по зависимости цены от  этажа\n",
    "Для анализа влияния этажа на стоимость достаточно увидеть цифры. Первый этаж дешевле других и последних этажей. \n",
    "А другие этажи и последний отличются незначительно между собой. Можно сделать вывод, что большим спросом пользются этажи кроме первого и последнего.\n",
    "Аналогичная ситуация для всего города.\n",
    "\n",
    "---"
   ]
  },
  {
   "cell_type": "code",
   "execution_count": 79,
   "metadata": {},
   "outputs": [
    {
     "name": "stdout",
     "output_type": "stream",
     "text": [
      "           count    median\n",
      "count   1.000000  0.045305\n",
      "median  0.045305  1.000000\n"
     ]
    },
    {
     "data": {
      "text/html": [
       "<div>\n",
       "<style scoped>\n",
       "    .dataframe tbody tr th:only-of-type {\n",
       "        vertical-align: middle;\n",
       "    }\n",
       "\n",
       "    .dataframe tbody tr th {\n",
       "        vertical-align: top;\n",
       "    }\n",
       "\n",
       "    .dataframe thead th {\n",
       "        text-align: right;\n",
       "    }\n",
       "</style>\n",
       "<table border=\"1\" class=\"dataframe\">\n",
       "  <thead>\n",
       "    <tr style=\"text-align: right;\">\n",
       "      <th></th>\n",
       "      <th>count</th>\n",
       "      <th>median</th>\n",
       "    </tr>\n",
       "    <tr>\n",
       "      <th>weekday</th>\n",
       "      <th></th>\n",
       "      <th></th>\n",
       "    </tr>\n",
       "  </thead>\n",
       "  <tbody>\n",
       "    <tr>\n",
       "      <td>0</td>\n",
       "      <td>48</td>\n",
       "      <td>8975000</td>\n",
       "    </tr>\n",
       "    <tr>\n",
       "      <td>1</td>\n",
       "      <td>47</td>\n",
       "      <td>8750000</td>\n",
       "    </tr>\n",
       "    <tr>\n",
       "      <td>2</td>\n",
       "      <td>62</td>\n",
       "      <td>9325000</td>\n",
       "    </tr>\n",
       "    <tr>\n",
       "      <td>3</td>\n",
       "      <td>68</td>\n",
       "      <td>7790000</td>\n",
       "    </tr>\n",
       "    <tr>\n",
       "      <td>4</td>\n",
       "      <td>71</td>\n",
       "      <td>9000000</td>\n",
       "    </tr>\n",
       "    <tr>\n",
       "      <td>5</td>\n",
       "      <td>31</td>\n",
       "      <td>8250000</td>\n",
       "    </tr>\n",
       "    <tr>\n",
       "      <td>6</td>\n",
       "      <td>23</td>\n",
       "      <td>8800000</td>\n",
       "    </tr>\n",
       "  </tbody>\n",
       "</table>\n",
       "</div>"
      ],
      "text/plain": [
       "         count   median\n",
       "weekday                \n",
       "0           48  8975000\n",
       "1           47  8750000\n",
       "2           62  9325000\n",
       "3           68  7790000\n",
       "4           71  9000000\n",
       "5           31  8250000\n",
       "6           23  8800000"
      ]
     },
     "execution_count": 79,
     "metadata": {},
     "output_type": "execute_result"
    }
   ],
   "source": [
    "#зависимости цены от дня недели\n",
    "# Сгруппируем данные по дням недели и посчитаем количество значений и медиану цены\n",
    "pivot_weekday_center = good_data_center.pivot_table(index = 'weekday' , values = 'last_price' , aggfunc = ['count' , 'median'])\n",
    "\n",
    "pivot_weekday_center.columns = ['count' , 'median']\n",
    "\n",
    "print(pivot_weekday_center.corr())\n",
    "pivot_weekday_center"
   ]
  },
  {
   "cell_type": "markdown",
   "metadata": {},
   "source": [
    "#### Вывод по анализу зависимости цены от дня недели\n",
    "Коэффициент Пирсона между количеством значений для каждого дня недели и цены показывает, что цена не зависит от дня недели.\n",
    "Из сводной таблице также видно, что значение медианы цены практически одинаково для всех дней. \n",
    "Аналогичная ситуация для всего города.\n",
    "\n",
    "\n",
    "---\n"
   ]
  },
  {
   "cell_type": "code",
   "execution_count": 80,
   "metadata": {},
   "outputs": [
    {
     "name": "stdout",
     "output_type": "stream",
     "text": [
      "           count    median\n",
      "count   1.000000 -0.140505\n",
      "median -0.140505  1.000000\n"
     ]
    },
    {
     "data": {
      "text/html": [
       "<div>\n",
       "<style scoped>\n",
       "    .dataframe tbody tr th:only-of-type {\n",
       "        vertical-align: middle;\n",
       "    }\n",
       "\n",
       "    .dataframe tbody tr th {\n",
       "        vertical-align: top;\n",
       "    }\n",
       "\n",
       "    .dataframe thead th {\n",
       "        text-align: right;\n",
       "    }\n",
       "</style>\n",
       "<table border=\"1\" class=\"dataframe\">\n",
       "  <thead>\n",
       "    <tr style=\"text-align: right;\">\n",
       "      <th></th>\n",
       "      <th>count</th>\n",
       "      <th>median</th>\n",
       "    </tr>\n",
       "    <tr>\n",
       "      <th>month</th>\n",
       "      <th></th>\n",
       "      <th></th>\n",
       "    </tr>\n",
       "  </thead>\n",
       "  <tbody>\n",
       "    <tr>\n",
       "      <td>1</td>\n",
       "      <td>26</td>\n",
       "      <td>8850000</td>\n",
       "    </tr>\n",
       "    <tr>\n",
       "      <td>2</td>\n",
       "      <td>38</td>\n",
       "      <td>8130000</td>\n",
       "    </tr>\n",
       "    <tr>\n",
       "      <td>3</td>\n",
       "      <td>28</td>\n",
       "      <td>9350000</td>\n",
       "    </tr>\n",
       "    <tr>\n",
       "      <td>4</td>\n",
       "      <td>30</td>\n",
       "      <td>9175000</td>\n",
       "    </tr>\n",
       "    <tr>\n",
       "      <td>5</td>\n",
       "      <td>20</td>\n",
       "      <td>8950000</td>\n",
       "    </tr>\n",
       "    <tr>\n",
       "      <td>6</td>\n",
       "      <td>25</td>\n",
       "      <td>8600000</td>\n",
       "    </tr>\n",
       "    <tr>\n",
       "      <td>7</td>\n",
       "      <td>41</td>\n",
       "      <td>8500000</td>\n",
       "    </tr>\n",
       "    <tr>\n",
       "      <td>8</td>\n",
       "      <td>24</td>\n",
       "      <td>8275000</td>\n",
       "    </tr>\n",
       "    <tr>\n",
       "      <td>9</td>\n",
       "      <td>38</td>\n",
       "      <td>8995000</td>\n",
       "    </tr>\n",
       "    <tr>\n",
       "      <td>10</td>\n",
       "      <td>21</td>\n",
       "      <td>8500000</td>\n",
       "    </tr>\n",
       "    <tr>\n",
       "      <td>11</td>\n",
       "      <td>30</td>\n",
       "      <td>8220000</td>\n",
       "    </tr>\n",
       "    <tr>\n",
       "      <td>12</td>\n",
       "      <td>29</td>\n",
       "      <td>8950000</td>\n",
       "    </tr>\n",
       "  </tbody>\n",
       "</table>\n",
       "</div>"
      ],
      "text/plain": [
       "       count   median\n",
       "month                \n",
       "1         26  8850000\n",
       "2         38  8130000\n",
       "3         28  9350000\n",
       "4         30  9175000\n",
       "5         20  8950000\n",
       "6         25  8600000\n",
       "7         41  8500000\n",
       "8         24  8275000\n",
       "9         38  8995000\n",
       "10        21  8500000\n",
       "11        30  8220000\n",
       "12        29  8950000"
      ]
     },
     "execution_count": 80,
     "metadata": {},
     "output_type": "execute_result"
    }
   ],
   "source": [
    "#зависимости цены от месяца для центра\n",
    "# Сгруппируем данные по месяцам и посчитаем количество значений и медиану цены\n",
    "pivot_month_center = good_data_center.pivot_table(index = 'month' , values = 'last_price' , aggfunc = ['count' , 'median'])\n",
    "\n",
    "pivot_month_center.columns = ['count' , 'median']\n",
    "\n",
    "print(pivot_month_center.corr())\n",
    "pivot_month_center"
   ]
  },
  {
   "cell_type": "markdown",
   "metadata": {},
   "source": [
    "#### Вывод по анализу зависимости цены от месяца\n",
    "Коэффициент Пирсона между количеством значений для каждого месяца и цены показывает, что цена не зависит от месяца публикации объявления. Из сводной таблицы также видно, что значение медианы цены практически одинаково для всех дней. \n",
    "Аналогичная ситуация для всего города.\n",
    "\n",
    "---"
   ]
  },
  {
   "cell_type": "code",
   "execution_count": 81,
   "metadata": {},
   "outputs": [
    {
     "name": "stdout",
     "output_type": "stream",
     "text": [
      "           count    median\n",
      "count   1.000000 -0.659877\n",
      "median -0.659877  1.000000\n"
     ]
    },
    {
     "data": {
      "text/html": [
       "<div>\n",
       "<style scoped>\n",
       "    .dataframe tbody tr th:only-of-type {\n",
       "        vertical-align: middle;\n",
       "    }\n",
       "\n",
       "    .dataframe tbody tr th {\n",
       "        vertical-align: top;\n",
       "    }\n",
       "\n",
       "    .dataframe thead th {\n",
       "        text-align: right;\n",
       "    }\n",
       "</style>\n",
       "<table border=\"1\" class=\"dataframe\">\n",
       "  <thead>\n",
       "    <tr style=\"text-align: right;\">\n",
       "      <th></th>\n",
       "      <th>count</th>\n",
       "      <th>median</th>\n",
       "    </tr>\n",
       "    <tr>\n",
       "      <th>year</th>\n",
       "      <th></th>\n",
       "      <th></th>\n",
       "    </tr>\n",
       "  </thead>\n",
       "  <tbody>\n",
       "    <tr>\n",
       "      <td>2015</td>\n",
       "      <td>28</td>\n",
       "      <td>8544500</td>\n",
       "    </tr>\n",
       "    <tr>\n",
       "      <td>2016</td>\n",
       "      <td>54</td>\n",
       "      <td>9550000</td>\n",
       "    </tr>\n",
       "    <tr>\n",
       "      <td>2017</td>\n",
       "      <td>155</td>\n",
       "      <td>8500000</td>\n",
       "    </tr>\n",
       "    <tr>\n",
       "      <td>2018</td>\n",
       "      <td>103</td>\n",
       "      <td>8400000</td>\n",
       "    </tr>\n",
       "    <tr>\n",
       "      <td>2019</td>\n",
       "      <td>10</td>\n",
       "      <td>10449500</td>\n",
       "    </tr>\n",
       "  </tbody>\n",
       "</table>\n",
       "</div>"
      ],
      "text/plain": [
       "      count    median\n",
       "year                 \n",
       "2015     28   8544500\n",
       "2016     54   9550000\n",
       "2017    155   8500000\n",
       "2018    103   8400000\n",
       "2019     10  10449500"
      ]
     },
     "execution_count": 81,
     "metadata": {},
     "output_type": "execute_result"
    }
   ],
   "source": [
    "#зависимости цены от года\n",
    "# Сгруппируем данные по году и посчитаем количество значений и медиану цены\n",
    "pivot_year_center = good_data_center.pivot_table(index = 'year' , values = 'last_price' , aggfunc = ['count' , 'median'])\n",
    "\n",
    "pivot_year_center.columns = ['count' , 'median']\n",
    "\n",
    "print(pivot_year_center.corr())\n",
    "pivot_year_center"
   ]
  },
  {
   "cell_type": "markdown",
   "metadata": {},
   "source": [
    "#### Вывод по анализу зависимости цены от года\n",
    "Коэффициент Пирсона по фильтрованным данным сотавляет 0,65 , что говорит о незначительном влиянии года публикации на цену. Из анализа сводной таблицы можно сделать вывод, что средняя цена меняется не значительно. Для центра города ситуация отличается от всего города. Последний год отличается большей средней ценой. Это можно объяснить тем, что в центре города как правило продаются квартры элитного класса"
   ]
  },
  {
   "cell_type": "markdown",
   "metadata": {},
   "source": [
    "### Шаг 5. Общий вывод"
   ]
  },
  {
   "cell_type": "markdown",
   "metadata": {},
   "source": [
    "На первом этапе выполнена предобработка данных в следующих столбцах:\n",
    " - **floors_total**. Пропусков в столбце floors_total всего 86, что составляет 86/23698 = 0,4%. Влияние на данные не значительно, поэтому пропуски удаляем. Т.к. пропусков мало, то можно предположить, что при составлении объявления количество этажей не знали или забыли указать.\n",
    " \n",
    " \n",
    " - **balcony**. Пропусков в столбце balcony всего 11519. Предположим, что пропуск появился от указания, что в кавартире нет балконов. В этом случае можем заменить пропуск на False. Заменяем на 0. \n",
    " \n",
    " \n",
    " - **is_apartment**. В столбце is_apartment вместе с пропусками есть значения True и  False. Предположим, что пропуск появился по причине указания, что кавартира не является аппартаментами. В этом случае можем заменить пропуск на False.\n",
    " \n",
    " \n",
    " - **locality_name**. Т.к. общее количество пропусков незначительно и никак не повлияет на результаты (0,2%), то эти строки можно удалить.\n",
    " \n",
    " \n",
    " - **living_area , kitchen_area**. Пропуски площадей заполняем медианой значени по категории площади. Для этого методом cut() для каждого значения общей площади в столбце total_area присваиваем категорию. В исходную таблицу добавляем столбец с категориями. Методом pivot_table() делаем сводную таблицу по категориям площади со значениями медиан столбцов living_area и kitchen_area. На гистограмме видно, что большая часть квартир имеет площадь до 150квм, поэтому в этом промежутке категории делаем чаще, с шагом 10, а после 150 с шагом 25, чтобы сократить количество значений. Далее циклом заполняем пропуски в основной таблице значениями из сводной таблицы. Методом describe() определили, что такая замена почти не повлияла на статистические характеристики.\n",
    " \n",
    " \n",
    " - **ceiling_height**. Проверив максимальнео и минимальнео значения видно, что есть аномальные значения. Поэтому пропуски необходимо заменять медианой. Медиана всех значений составляет 2,65м, что не реалистично для квартир с большой площадью. Проверив в сводной таблице медианы по категориям площадей аналогично тому, как это делалось для площадей, можно сделать выводы, что аномальных значений нет и эти значения можно применить для замены пропусков в столбце. Далее циклом заполняем пропуски в основной таблице значениями из сводной таблицы.\n",
    " \n",
    " \n",
    " - **cityCenters_nearest , airports_nearest**  заполняем по медиане расстояния соответствующего населенного пункта. Проверив пропуски и их соотношение со столбцом locality_name, было определено, что большая часть пропусков относится к отдельным населенным пунктам. Т.е. по отдельному населенному пункту нет никакой информации о его расположении относительно центра и аэропорта. К этим столбцам не получается применить какую либо гипотезу, которая позволит корректно заполнить пропущенные значения. Поэтому заменяем пропуски индикаторным значением для визуального наблюдения пропусков.\n",
    " \n",
    " \n",
    " - **parks_around3000 , parks_nearest , ponds_around3000 , ponds_nearest**. В столбцах с количеством парков и прудов в радиусе 3км вероятное появление пропусков это отсутствие парков или прудов, т.е. значение 0. Проверив также эти значения со значениями пропусков в расстоянии до парков и прудов можно сделать вывод, что пропуски являются 0, поэтому заменяем пропуски в количестве на 0. Соответствующие пропуски в столбцах с расстоянием также заменяем на 0. \n",
    " \n",
    " \n",
    " - **days_exposition**. Методом describe() определены исходные статистические характеристики значений. При сравнении характеристик исходных значений и значений после замены медианой и средним, было определено, что замена средним, медианой, нулем сильно искажает значения. Поэтому такая заменая не является корректной. По этой причине заменяем пропуски индикаторным значением для визуального наблюдения пропусков.\n",
    " \n",
    "**Замена типа данных.**\n",
    "\n",
    "    Для удобства работы с таблицей и сокращения использования памяти в столбцах с количеством заменены вещественные числа на целые методом astype(). \n",
    "    Для работы с датой публикации столбец first_day_exposition преобразован к типу данных datetime64[ns] методом to_datetime()\n",
    "    \n",
    "    \n",
    "**Анализ обработанной информации:**\n",
    "Для определения аномалий использовался график boxplot(),  по которому выявлялись значения, сильно выходящие за границе межквартильного размаха. Значения отсекались так, чтобы выбросы были несколько меньше половины меежквартильного размаха.\n",
    "Для анализа зависимостей между переменными применялся метод corr(), определяющий корреляцию между величинами.\n",
    "Графики зависимостей пострены методом plot(). \n",
    "Зависимость цены от дискретных значений анализировалась также графиком plot() ,  а при небольших количествах дискретных значений визуальной проверкой значений.\n",
    "Для анализа использовалась таблица с отсеченными аномальными значениями.\n",
    "    Были обнаружены и обработаны аномальные значения в столбцах:\n",
    " - Общая площадь.  \n",
    "   Аномальными значениями площади приняты значения менее 20 м2 и более 150м2. \n",
    "   \n",
    "   \n",
    " - Цена продажи. \n",
    "   Аномальными значениями цены приняты значения менее 100 000  и более 20 000 000.\n",
    "   \n",
    "   \n",
    " - Число комнат.\n",
    "    Аномальными значениями количества комнат приняты значения менее 1  и более 6.\n",
    "    \n",
    "    \n",
    " - Высота потолков.\n",
    "    Аномальными значениями приняты значения менее 2,5м и более 5м. \n",
    "    \n",
    "    \n",
    " - Время до снятия публикации.\n",
    "     Если принять аномальными значения менее 10 дней и более 700.\n",
    "\n",
    "Аномальные значения некоторых параметров на рынке недвижимости, как площадь, количество комнат,  в целом могут иметь место в реальности, но были отсечены для удобства работы с данными. \n",
    "\n",
    "**Влияние различных параметров на цену для всех населенных пунктов:**\n",
    "- Площадь квартиры\n",
    "  С увеличением площади стоимость квартиры увеличивается.\n",
    "- Число комнат.\n",
    "  Большее количество продаж приходится на 1-комнатные квартиры. С увеличением количества комнат стоимость квартир увеличивается, и уменьшается количество продаж.Гистограммы 6-ти и 7-и комнатных квартир уже заметно смещены вправо к максимально цене.\n",
    "- Расстояние от центра. \n",
    "  По графику видно, что с удалением от центра в среднем количество продаж и стоимость квартир падает.\n",
    "- Этаж.\n",
    "  Большая часть продаж приходится на не первый и не последний этажи. Первые этажи покупают реже всего. И на 1-м этаже стоимость как правило ниже 4 500 000.\n",
    "- День недели.\n",
    "  По дням недели стоимость и продажи квартир практически не отличаются. Заметно меньшее количество объявлений приходится на воскресенье.\n",
    "- Месяц.\n",
    "  По месяцам прослеживается четкая связь, отличающаяся только количеством объявлений. Распределние стоимости квартир в целом не зависит от месяца. Низкое количество объявлений в январе, мае, и летние месяцы связаны вероятнее всего с праздниками, и отпусками. Высокая активность приходится на февраль, апрель , март, сентябрь , октябрь.\n",
    " - Год.\n",
    "  По стоимости квартиры распределение в целом одинаковое, за исключением 2014 года, по которым не много данных. Больше всего объявлений приходится на 2017г.\n",
    "\n",
    "**Влияние различных параметров на цену в центре Санкт-Петербурга:**\n",
    "Все параметры центра объединяет цена, которая выше чем цена по всему городу.\n",
    "- Число комнат.\n",
    "  Большее количество продаж приходится на 2-х и 3-х комнатные квартиры. Спрос на однокомнатные квартиры гораздо меньше. С увеличением количества комнат стоимость квартир увеличивается, и уменьшается количество продаж.\n",
    "- Расстояние от центра. \n",
    "  По графику видно, что в пределах центра нет строгой зависимости между расстоянием от центра и стоимостью квартиры.\n",
    "- Этаж.\n",
    "  Распределение количества объявлений по этажам не изменилось. Средняя цена увеличилась значительно.\n",
    "- День недели.\n",
    "  По дням недели стоимость и продажи квартир практически не отличаются. Заметно меньшее количество объявлений приходится на воскресенье. Относительно всего города распределние не изменилось.\n",
    "- Месяц.\n",
    "  По месяцам значения незначительно перераспределились, но также отслеживается свзяь - в периоды праздников и отпусков количество объявлений значительно меньше, чем в весенние и осенние дни. Из этого вывода можно сделать, например рекомендации, по рекламе ресурса.\n",
    " - Год.\n",
    "  В 2014г объявлений в центре не было. Возможно это год начало работы сервиса или сбора данных. Больше всего объявлений приходится на 2017г. Здесь видна зависимость увеличения средней стоимости с каждым годом, но учитывая незначительное количество квартир в 2019г., сложно назвать это зависимостью."
   ]
  },
  {
   "cell_type": "markdown",
   "metadata": {},
   "source": [
    "### Чек-лист готовности проекта\n",
    "\n",
    "Поставьте 'x' в выполненных пунктах. Далее нажмите Shift+Enter."
   ]
  },
  {
   "cell_type": "markdown",
   "metadata": {},
   "source": [
    "- [x]  открыт файл\n",
    "- [x]  файлы изучены (выведены первые строки, метод info())\n",
    "- [x]  определены пропущенные значения\n",
    "- [x]  заполнены пропущенные значения\n",
    "- [x]  есть пояснение какие пропущенные значения обнаружены\n",
    "- [x]  изменены типы данных\n",
    "- [x]  есть пояснение в каких столбцах изменены типы и почему\n",
    "- [x]  посчитано и добавлено в таблицу: цена квадратного метра\n",
    "- [x]  посчитано и добавлено в таблицу: день недели, месяц и год публикации объявления\n",
    "- [x]  посчитано и добавлено в таблицу: этаж квартиры; варианты — первый, последний, другой\n",
    "- [x]  посчитано и добавлено в таблицу: соотношение жилой и общей площади, а также отношение площади кухни к общей\n",
    "- [x]  изучены следующие параметры: площадь, цена, число комнат, высота потолков\n",
    "- [x]  построены гистограммы для каждого параметра\n",
    "- [x]  выполнено задание: \"Изучите время продажи квартиры. Постройте гистограмму. Посчитайте среднее и медиану. Опишите, сколько обычно занимает продажа. Когда можно считать, что продажи прошли очень быстро, а когда необычно долго?\"\n",
    "- [x]  выполнено задание: \"Уберите редкие и выбивающиеся значения. Опишите, какие особенности обнаружили.\"\n",
    "- [x]  выполнено задание: \"Какие факторы больше всего влияют на стоимость квартиры? Изучите, зависит ли цена от квадратного метра, числа комнат, этажа (первого или последнего), удалённости от центра. Также изучите зависимость от даты размещения: дня недели, месяца и года. \"Выберите 10 населённых пунктов с наибольшим числом объявлений. Посчитайте среднюю цену квадратного метра в этих населённых пунктах. Выделите населённые пункты с самой высокой и низкой стоимостью жилья. Эти данные можно найти по имени в столбце '*locality_name'*. \"\n",
    "- [x]  выполнено задание: \"Изучите предложения квартир: для каждой квартиры есть информация о расстоянии до центра. Выделите квартиры в Санкт-Петербурге (*'locality_name'*). Ваша задача — выяснить, какая область входит в центр. Создайте столбец с расстоянием до центра в километрах: округлите до целых значений. После этого посчитайте среднюю цену для каждого километра. Постройте график: он должен показывать, как цена зависит от удалённости от центра. Определите границу, где график сильно меняется — это и будет центральная зона. \"\n",
    "- [x]  выполнено задание: \"Выделите сегмент квартир в центре. Проанализируйте эту территорию и изучите следующие параметры: площадь, цена, число комнат, высота потолков. Также выделите факторы, которые влияют на стоимость квартиры (число комнат, этаж, удалённость от центра, дата размещения объявления). Сделайте выводы. Отличаются ли они от общих выводов по всему городу?\"\n",
    "- [x]  в каждом этапе есть выводы\n",
    "- [x]  есть общий вывод"
   ]
  },
  {
   "cell_type": "code",
   "execution_count": null,
   "metadata": {},
   "outputs": [],
   "source": []
  }
 ],
 "metadata": {
  "kernelspec": {
   "display_name": "Python 3",
   "language": "python",
   "name": "python3"
  },
  "language_info": {
   "codemirror_mode": {
    "name": "ipython",
    "version": 3
   },
   "file_extension": ".py",
   "mimetype": "text/x-python",
   "name": "python",
   "nbconvert_exporter": "python",
   "pygments_lexer": "ipython3",
   "version": "3.7.6"
  }
 },
 "nbformat": 4,
 "nbformat_minor": 2
}
